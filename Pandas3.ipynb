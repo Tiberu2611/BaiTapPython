{
  "nbformat": 4,
  "nbformat_minor": 0,
  "metadata": {
    "colab": {
      "name": "Pandas3.ipynb",
      "provenance": [],
      "collapsed_sections": [],
      "authorship_tag": "ABX9TyNwf2E7YWUfoBfANztgZfOf",
      "include_colab_link": true
    },
    "kernelspec": {
      "name": "python3",
      "display_name": "Python 3"
    },
    "language_info": {
      "name": "python"
    }
  },
  "cells": [
    {
      "cell_type": "markdown",
      "metadata": {
        "id": "view-in-github",
        "colab_type": "text"
      },
      "source": [
        "<a href=\"https://colab.research.google.com/github/Tiberu2611/BaiTapPython/blob/main/Pandas3.ipynb\" target=\"_parent\"><img src=\"https://colab.research.google.com/assets/colab-badge.svg\" alt=\"Open In Colab\"/></a>"
      ]
    },
    {
      "cell_type": "code",
      "execution_count": 23,
      "metadata": {
        "id": "nBLKwTaS7bgR"
      },
      "outputs": [],
      "source": [
        "from google.colab import drive\n",
        "import numpy as np\n",
        "import pandas as pd"
      ]
    },
    {
      "cell_type": "markdown",
      "source": [
        "1. Dùng pandas đọc tập tin trên vào 1 dataframe"
      ],
      "metadata": {
        "id": "63Um4LqD7ekM"
      }
    },
    {
      "cell_type": "code",
      "source": [
        "drive.mount('/content/drive')\n",
        "df =  pd.read_csv('drive/My Drive/1000 Sales Records.csv')"
      ],
      "metadata": {
        "colab": {
          "base_uri": "https://localhost:8080/"
        },
        "id": "fn-JbGta7rNr",
        "outputId": "584419ae-2a52-4a1d-d452-899b2677ff0c"
      },
      "execution_count": 24,
      "outputs": [
        {
          "output_type": "stream",
          "name": "stdout",
          "text": [
            "Drive already mounted at /content/drive; to attempt to forcibly remount, call drive.mount(\"/content/drive\", force_remount=True).\n"
          ]
        }
      ]
    },
    {
      "cell_type": "markdown",
      "source": [
        "2. Hãy hiển thị các thông số sau của tập dữ liệu:\n",
        "\n",
        "a. Hiển thị 10 hàng đầu tiên của tập dữ liệu (gợi ý: hàm head() );"
      ],
      "metadata": {
        "id": "BigFz5REQGX6"
      }
    },
    {
      "cell_type": "code",
      "source": [
        "print( \"10 hàng đầu tiên của tập dữ liệu: \"  )\n",
        "print(df.head(10))"
      ],
      "metadata": {
        "colab": {
          "base_uri": "https://localhost:8080/"
        },
        "id": "NukiizseQMGn",
        "outputId": "7d3cf4df-f536-41a6-aa44-f1fd07d2f472"
      },
      "execution_count": 46,
      "outputs": [
        {
          "output_type": "stream",
          "name": "stdout",
          "text": [
            "10 hàng đầu tiên của tập dữ liệu: \n",
            "                              Region     Country   Item Type Sales Channel  \\\n",
            "0       Middle East and North Africa       Libya   Cosmetics       Offline   \n",
            "1                      North America      Canada  Vegetables        Online   \n",
            "2       Middle East and North Africa       Libya   Baby Food       Offline   \n",
            "3                               Asia       Japan      Cereal       Offline   \n",
            "4                 Sub-Saharan Africa        Chad      Fruits       Offline   \n",
            "5                             Europe     Armenia      Cereal        Online   \n",
            "6                 Sub-Saharan Africa     Eritrea      Cereal        Online   \n",
            "7                             Europe  Montenegro     Clothes       Offline   \n",
            "8  Central America and the Caribbean     Jamaica  Vegetables        Online   \n",
            "9              Australia and Oceania        Fiji  Vegetables       Offline   \n",
            "\n",
            "  Order Priority  Order Date   Order ID   Ship Date  Units Sold  Unit Price  \\\n",
            "0              M  10/18/2014  686800706  10/31/2014        8446      437.20   \n",
            "1              M   11/7/2011  185941302   12/8/2011        3018      154.06   \n",
            "2              C  10/31/2016  246222341   12/9/2016        1517      255.28   \n",
            "3              C   4/10/2010  161442649   5/12/2010        3322      205.70   \n",
            "4              H   8/16/2011  645713555   8/31/2011        9845        9.33   \n",
            "5              H  11/24/2014  683458888  12/28/2014        9528      205.70   \n",
            "6              H    3/4/2015  679414975   4/17/2015        2844      205.70   \n",
            "7              M   5/17/2012  208630645   6/28/2012        7299      109.28   \n",
            "8              H   1/29/2015  266467225    3/7/2015        2428      154.06   \n",
            "9              H  12/24/2013  118598544   1/19/2014        4800      154.06   \n",
            "\n",
            "   Unit Cost  Total Revenue  Total Cost  Total Profit  \n",
            "0     263.33     3692591.20  2224085.18    1468506.02  \n",
            "1      90.93      464953.08   274426.74     190526.34  \n",
            "2     159.42      387259.76   241840.14     145419.62  \n",
            "3     117.11      683335.40   389039.42     294295.98  \n",
            "4       6.92       91853.85    68127.40      23726.45  \n",
            "5     117.11     1959909.60  1115824.08     844085.52  \n",
            "6     117.11      585010.80   333060.84     251949.96  \n",
            "7      35.84      797634.72   261596.16     536038.56  \n",
            "8      90.93      374057.68   220778.04     153279.64  \n",
            "9      90.93      739488.00   436464.00     303024.00  \n"
          ]
        }
      ]
    },
    {
      "cell_type": "markdown",
      "source": [
        "b. Hiển thị kích thước của tập dữ liệu (gợi ý: shape);"
      ],
      "metadata": {
        "id": "osw8k5U-QkY3"
      }
    },
    {
      "cell_type": "code",
      "source": [
        "print(\" Kích thước của tập dữ liệu:\")\n",
        "print(np.shape(df))"
      ],
      "metadata": {
        "colab": {
          "base_uri": "https://localhost:8080/"
        },
        "id": "dp_ZFHzOQmTR",
        "outputId": "d3d4032b-5963-4a32-83a2-0655b28dedb8"
      },
      "execution_count": 47,
      "outputs": [
        {
          "output_type": "stream",
          "name": "stdout",
          "text": [
            " Kích thước của tập dữ liệu:\n",
            "(1000, 14)\n"
          ]
        }
      ]
    },
    {
      "cell_type": "markdown",
      "source": [
        "c. Hiển thị danh sách các cột(gợi ý: columns và chuyển cấu trúc Index của các\n",
        "columns về dạng list bằng hàm ép kiểu list())."
      ],
      "metadata": {
        "id": "dHH-hH-7Q0t3"
      }
    },
    {
      "cell_type": "code",
      "source": [
        "print(\" Danh sách các cột: \")\n",
        "print(list(df.columns))"
      ],
      "metadata": {
        "colab": {
          "base_uri": "https://localhost:8080/"
        },
        "id": "It3cVM-_Q1aS",
        "outputId": "8babc716-7120-45a6-e10c-7cddfa325275"
      },
      "execution_count": 48,
      "outputs": [
        {
          "output_type": "stream",
          "name": "stdout",
          "text": [
            " Danh sách các cột: \n",
            "['Region', 'Country', 'Item Type', 'Sales Channel', 'Order Priority', 'Order Date', 'Order ID', 'Ship Date', 'Units Sold', 'Unit Price', 'Unit Cost', 'Total Revenue', 'Total Cost', 'Total Profit']\n"
          ]
        }
      ]
    },
    {
      "cell_type": "markdown",
      "source": [
        "3. Trích rút dữ liệu:\n",
        "\n",
        "a. Trích rút cột dữ liệu (định tính) – Country của tập dữ liệu, và in ra màn hình 5 hàng\n",
        "đầu tien của cột này;"
      ],
      "metadata": {
        "id": "4V-vjU7_RbZQ"
      }
    },
    {
      "cell_type": "code",
      "source": [
        "print(\"  5 hàng đầu tiên của cột dữ liệu Country:\")\n",
        "print(df.loc[0: 4, 'Country'])"
      ],
      "metadata": {
        "colab": {
          "base_uri": "https://localhost:8080/"
        },
        "id": "iUf_IkZKRfLv",
        "outputId": "6ee649fb-0d38-474a-ad3e-0278839a82e8"
      },
      "execution_count": 49,
      "outputs": [
        {
          "output_type": "stream",
          "name": "stdout",
          "text": [
            "  5 hàng đầu tiên của cột dữ liệu Country:\n",
            "0     Libya\n",
            "1    Canada\n",
            "2     Libya\n",
            "3     Japan\n",
            "4      Chad\n",
            "Name: Country, dtype: object\n"
          ]
        }
      ]
    },
    {
      "cell_type": "markdown",
      "source": [
        "b. Trích rút cột dữ liệu (định lượng) – Total Cost của tập dữ liệu và in ra màn hình 5\n",
        "hàng đầu tien của cột này."
      ],
      "metadata": {
        "id": "1-JOmY0ammQ0"
      }
    },
    {
      "cell_type": "code",
      "source": [
        "print( \"5 hàng đầu tiên của cột dữ liệu Total Cost:\")\n",
        "print(df.loc[0: 4, 'Total Cost'])\n"
      ],
      "metadata": {
        "colab": {
          "base_uri": "https://localhost:8080/"
        },
        "id": "plxHcKnTmoGw",
        "outputId": "2eda896b-b2ef-4735-eae8-063e14fcaeb1"
      },
      "execution_count": 52,
      "outputs": [
        {
          "output_type": "stream",
          "name": "stdout",
          "text": [
            "5 hàng đầu tiên của cột dữ liệu Total Cost:\n",
            "0    2224085.18\n",
            "1     274426.74\n",
            "2     241840.14\n",
            "3     389039.42\n",
            "4      68127.40\n",
            "Name: Total Cost, dtype: float64\n"
          ]
        }
      ]
    },
    {
      "cell_type": "markdown",
      "source": [
        "4. Phân tích thống kê mô tả với tập dữ liệu định lượng:\n",
        "\n",
        "a. Tính các chỉ số thống kê sau và xuất kết quả ra màn hình:\n",
        "\n",
        " (1) Số lớn nhất - max;\n",
        "(2) Số nhỏ nhất - min; (3) Giá trị trung bình - mean; (4) Giá trị trung vị - median;\n",
        "(5) Phương sai - variance; (6) Độ lệch chuẩn - standard deviation; (7) Q1 và Q3."
      ],
      "metadata": {
        "id": "1WRiAA_cm5uA"
      }
    },
    {
      "cell_type": "code",
      "source": [
        "print( \"Chỉ số lớn nhất:\" )\n",
        "print(df.max())\n",
        "print( \"Chỉ số nhỏ nhất:\" )\n",
        "print(df.min())\n",
        "print( \"Giá trị trung bình:\" )\n",
        "print(df.mean())\n",
        "print( \"Giá trị trung vị:\" )\n",
        "print(df.median())\n",
        "print( \"Phương sai:\" )\n",
        "print(df.var())\n",
        "print( \"Độ lệch chuẩn:\" )\n",
        "print(df.std())\n",
        "print( \"Q1 và Q3 :\" )\n",
        "print(df.quantile([.25, .75]))"
      ],
      "metadata": {
        "colab": {
          "base_uri": "https://localhost:8080/"
        },
        "id": "GCwQTEcXm-V0",
        "outputId": "3b20ef6b-378b-4248-9b95-7ac4b94465a4"
      },
      "execution_count": 43,
      "outputs": [
        {
          "output_type": "stream",
          "name": "stdout",
          "text": [
            "Chỉ số lớn nhất:\n",
            "Region            Sub-Saharan Africa\n",
            "Country                     Zimbabwe\n",
            "Item Type                 Vegetables\n",
            "Sales Channel                 Online\n",
            "Order Priority                     M\n",
            "Order Date                  9/8/2015\n",
            "Order ID                   995529830\n",
            "Ship Date                   9/9/2016\n",
            "Units Sold                      9998\n",
            "Unit Price                    668.27\n",
            "Unit Cost                     524.96\n",
            "Total Revenue             6617209.54\n",
            "Total Cost                 5204978.4\n",
            "Total Profit              1726181.36\n",
            "dtype: object\n",
            "Chỉ số nhỏ nhất:\n",
            "Region                   Asia\n",
            "Country           Afghanistan\n",
            "Item Type           Baby Food\n",
            "Sales Channel         Offline\n",
            "Order Priority              C\n",
            "Order Date           1/1/2010\n",
            "Order ID            102928006\n",
            "Ship Date            1/1/2013\n",
            "Units Sold                 13\n",
            "Unit Price               9.33\n",
            "Unit Cost                6.92\n",
            "Total Revenue         2043.25\n",
            "Total Cost            1416.75\n",
            "Total Profit           532.61\n",
            "dtype: object\n",
            "Giá trị trung bình:\n",
            "Order ID         5.496813e+08\n",
            "Units Sold       5.053988e+03\n",
            "Unit Price       2.621068e+02\n",
            "Unit Cost        1.849651e+02\n",
            "Total Revenue    1.327322e+06\n",
            "Total Cost       9.361192e+05\n",
            "Total Profit     3.912026e+05\n",
            "dtype: float64\n",
            "Giá trị trung vị:\n",
            "Order ID         5.566097e+08\n",
            "Units Sold       5.184000e+03\n",
            "Unit Price       1.540600e+02\n",
            "Unit Cost        9.744000e+01\n",
            "Total Revenue    7.549392e+05\n",
            "Total Cost       4.647261e+05\n",
            "Total Profit     2.772260e+05\n",
            "dtype: float64\n",
            "Phương sai:\n",
            "Order ID         6.611756e+16\n",
            "Units Sold       8.417979e+06\n",
            "Unit Price       4.666510e+04\n",
            "Unit Cost        3.072634e+04\n",
            "Total Revenue    2.209726e+12\n",
            "Total Cost       1.351571e+12\n",
            "Total Profit     1.471798e+11\n",
            "dtype: float64\n",
            "Độ lệch chuẩn:\n",
            "Order ID         2.571334e+08\n",
            "Units Sold       2.901375e+03\n",
            "Unit Price       2.160211e+02\n",
            "Unit Cost        1.752893e+02\n",
            "Total Revenue    1.486515e+06\n",
            "Total Cost       1.162571e+06\n",
            "Total Profit     3.836402e+05\n",
            "dtype: float64\n",
            "Q1 và Q3 :\n",
            "          Order ID  Units Sold  Unit Price  Unit Cost  Total Revenue  \\\n",
            "0.25  3.280740e+08     2420.25       81.73      56.67      281191.90   \n",
            "0.75  7.696945e+08     7536.75      421.89     263.33     1733502.75   \n",
            "\n",
            "       Total Cost  Total Profit  \n",
            "0.25   164931.875     98376.120  \n",
            "0.75  1141750.090    548456.835  \n"
          ]
        },
        {
          "output_type": "stream",
          "name": "stderr",
          "text": [
            "/usr/local/lib/python3.7/dist-packages/ipykernel_launcher.py:6: FutureWarning: Dropping of nuisance columns in DataFrame reductions (with 'numeric_only=None') is deprecated; in a future version this will raise TypeError.  Select only valid columns before calling the reduction.\n",
            "  \n",
            "/usr/local/lib/python3.7/dist-packages/ipykernel_launcher.py:8: FutureWarning: Dropping of nuisance columns in DataFrame reductions (with 'numeric_only=None') is deprecated; in a future version this will raise TypeError.  Select only valid columns before calling the reduction.\n",
            "  \n",
            "/usr/local/lib/python3.7/dist-packages/ipykernel_launcher.py:10: FutureWarning: Dropping of nuisance columns in DataFrame reductions (with 'numeric_only=None') is deprecated; in a future version this will raise TypeError.  Select only valid columns before calling the reduction.\n",
            "  # Remove the CWD from sys.path while we load stuff.\n",
            "/usr/local/lib/python3.7/dist-packages/ipykernel_launcher.py:12: FutureWarning: Dropping of nuisance columns in DataFrame reductions (with 'numeric_only=None') is deprecated; in a future version this will raise TypeError.  Select only valid columns before calling the reduction.\n",
            "  if sys.path[0] == '':\n"
          ]
        }
      ]
    },
    {
      "cell_type": "markdown",
      "source": [
        "b. Hãy vẽ biểu đồ boxplot cho tập dữ liệu định lượng này;"
      ],
      "metadata": {
        "id": "YIsA5VOdnehA"
      }
    },
    {
      "cell_type": "code",
      "source": [
        "print( \"Sơ đồ Boxplot:\\n\", df.boxplot())"
      ],
      "metadata": {
        "colab": {
          "base_uri": "https://localhost:8080/",
          "height": 311
        },
        "id": "B8Rzavs1ngMd",
        "outputId": "4a04ac5d-f401-4b52-a7e6-b5eaebe5cd64"
      },
      "execution_count": 39,
      "outputs": [
        {
          "output_type": "stream",
          "name": "stdout",
          "text": [
            "Sơ đồ Boxplot:\n",
            " AxesSubplot(0.125,0.125;0.775x0.755)\n"
          ]
        },
        {
          "output_type": "display_data",
          "data": {
            "text/plain": [
              "<Figure size 432x288 with 1 Axes>"
            ],
            "image/png": "[encoded data removed]"
          },
          "metadata": {
            "needs_background": "light"
          }
        }
      ]
    },
    {
      "cell_type": "markdown",
      "source": [
        "c. Hãy vẽ biểu đồ histogram (với bins = 100) cho tập dữ liệu này."
      ],
      "metadata": {
        "id": "G2BJGRt5nulU"
      }
    },
    {
      "cell_type": "code",
      "source": [
        "print( \"Sơ đồ histogram:\\n\" ,df.hist(bins=100))"
      ],
      "metadata": {
        "colab": {
          "base_uri": "https://localhost:8080/",
          "height": 468
        },
        "id": "u0hFopuTnxN0",
        "outputId": "17ce7435-c5f2-4087-fc53-5c04449ef2ea"
      },
      "execution_count": 41,
      "outputs": [
        {
          "output_type": "stream",
          "name": "stdout",
          "text": [
            "Sơ đồ histogram:\n",
            " [[<matplotlib.axes._subplots.AxesSubplot object at 0x7ffa6b454590>\n",
            "  <matplotlib.axes._subplots.AxesSubplot object at 0x7ffa6ae66610>\n",
            "  <matplotlib.axes._subplots.AxesSubplot object at 0x7ffa6ae98c10>]\n",
            " [<matplotlib.axes._subplots.AxesSubplot object at 0x7ffa6ae58250>\n",
            "  <matplotlib.axes._subplots.AxesSubplot object at 0x7ffa6ae0d850>\n",
            "  <matplotlib.axes._subplots.AxesSubplot object at 0x7ffa6adc1e50>]\n",
            " [<matplotlib.axes._subplots.AxesSubplot object at 0x7ffa6ad86690>\n",
            "  <matplotlib.axes._subplots.AxesSubplot object at 0x7ffa6ad3dc10>\n",
            "  <matplotlib.axes._subplots.AxesSubplot object at 0x7ffa6ad3dc50>]]\n"
          ]
        },
        {
          "output_type": "display_data",
          "data": {
            "text/plain": [
              "<Figure size 432x288 with 9 Axes>"
            ],
            "image/png": "[encoded data removed]"
          },
          "metadata": {
            "needs_background": "light"
          }
        }
      ]
    },
    {
      "cell_type": "markdown",
      "source": [
        "5. Phân tích thống kê mô tả với tập dữ liệu định tính:\n",
        "\n",
        "a. Vẽ biểu đồ barplot cho tập dữ liệu này"
      ],
      "metadata": {
        "id": "xIhh9aeYoCc7"
      }
    },
    {
      "cell_type": "code",
      "source": [
        "print( \"Biểu đồ barplot:\\n\" ,df.plot.bar(stacked=True))"
      ],
      "metadata": {
        "colab": {
          "base_uri": "https://localhost:8080/",
          "height": 320
        },
        "id": "3srD40q_oDvT",
        "outputId": "602ebfdf-2c46-489a-8c09-45f4535d4897"
      },
      "execution_count": 42,
      "outputs": [
        {
          "output_type": "stream",
          "name": "stdout",
          "text": [
            "Biểu đồ barplot:\n",
            " AxesSubplot(0.125,0.125;0.775x0.755)\n"
          ]
        },
        {
          "output_type": "display_data",
          "data": {
            "text/plain": [
              "<Figure size 432x288 with 1 Axes>"
            ],
            "image/png": "[encoded data removed]"
          },
          "metadata": {
            "needs_background": "light"
          }
        }
      ]
    },
    {
      "cell_type": "markdown",
      "source": [
        "b. Vẽ biểu đồ barplot cho 15 hàng dữ liệu đầu tiên của tập dữ liệu này"
      ],
      "metadata": {
        "id": "JhMhmH95oXXs"
      }
    },
    {
      "cell_type": "code",
      "source": [
        "dff = df.iloc[0:15]\n",
        "print(\"Biểu đồ barplot cho 15 hàng dữ liệu đầu tiên của tập dữ liệu này: \" )\n",
        "print(dff.plot.bar(stacked=True))"
      ],
      "metadata": {
        "colab": {
          "base_uri": "https://localhost:8080/",
          "height": 314
        },
        "id": "Ymp5cvreoZZ6",
        "outputId": "200daeeb-7ace-4d71-caed-91bef2e009b0"
      },
      "execution_count": 51,
      "outputs": [
        {
          "output_type": "stream",
          "name": "stdout",
          "text": [
            "Biểu đồ barplot cho 15 hàng dữ liệu đầu tiên của tập dữ liệu này: \n",
            "AxesSubplot(0.125,0.125;0.775x0.755)\n"
          ]
        },
        {
          "output_type": "display_data",
          "data": {
            "text/plain": [
              "<Figure size 432x288 with 1 Axes>"
            ],
            "image/png": "[encoded data removed]"
          },
          "metadata": {
            "needs_background": "light"
          }
        }
      ]
    }
  ]
}