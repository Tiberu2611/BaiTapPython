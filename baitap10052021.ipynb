{
  "nbformat": 4,
  "nbformat_minor": 0,
  "metadata": {
    "colab": {
      "name": "baitap10052021.ipynb",
      "provenance": [],
      "authorship_tag": "ABX9TyMJIdoh+1N9H6stTIVJ/K/J",
      "include_colab_link": true
    },
    "kernelspec": {
      "name": "python3",
      "display_name": "Python 3"
    },
    "language_info": {
      "name": "python"
    }
  },
  "cells": [
    {
      "cell_type": "markdown",
      "metadata": {
        "id": "view-in-github",
        "colab_type": "text"
      },
      "source": [
        "<a href=\"https://colab.research.google.com/github/Tiberu2611/github-and-colab/blob/main/baitap10052021.ipynb\" target=\"_parent\"><img src=\"https://colab.research.google.com/assets/colab-badge.svg\" alt=\"Open In Colab\"/></a>"
      ]
    },
    {
      "cell_type": "code",
      "metadata": {
        "colab": {
          "base_uri": "https://localhost:8080/"
        },
        "id": "Oxr_XIJxBTC8",
        "outputId": "788fe91f-5518-4cd4-c7f0-3a2924ac2e35"
      },
      "source": [
        "i = int(input(\"Nhập vào 1 số từ bàn phím \"))\n",
        "if i > 0 :\n",
        "    print(\"Đây là số dương\")\n",
        "elif i < 0: \n",
        "    print(\"Đây là số âm\")\n",
        "else:\n",
        "    print(\"Đây là số không\")"
      ],
      "execution_count": 1,
      "outputs": [
        {
          "output_type": "stream",
          "name": "stdout",
          "text": [
            "Nhập vào 1 số từ bàn phím4\n",
            "Đây là số dương\n"
          ]
        }
      ]
    },
    {
      "cell_type": "code",
      "metadata": {
        "colab": {
          "base_uri": "https://localhost:8080/"
        },
        "id": "YqHNLzG8B5xL",
        "outputId": "93667d39-587b-456d-e1e9-c73181d4cd18"
      },
      "source": [
        "a = int(input(\"Nhập số A: \"))\n",
        "b = int(input(\"Nhập số B: \"))\n",
        "c = int(input(\"Nhập số C: \"))\n",
        "if a > b and a > c :\n",
        "    print(\"Số lớn nhất là: A \")\n",
        "elif b > c :\n",
        "    print(\"Số lớn nhất là: B\")\n",
        "else: \n",
        "    print(\"Số lớn nhất là C\")"
      ],
      "execution_count": 3,
      "outputs": [
        {
          "output_type": "stream",
          "name": "stdout",
          "text": [
            "Nhập số A: 5\n",
            "Nhập số B: 4\n",
            "Nhập số C: 7\n",
            "Số lơn nhất là C\n"
          ]
        }
      ]
    },
    {
      "cell_type": "code",
      "metadata": {
        "colab": {
          "base_uri": "https://localhost:8080/"
        },
        "id": "Wp6WsZSaC_vj",
        "outputId": "53da0f2d-f73b-4c31-ce75-aa8f9be7f341"
      },
      "source": [
        "a = float(input(\"Nhập một số bất kỳ: \"))\n",
        "if a == 0:\n",
        "    print(\"Đây là số không\")\n",
        "elif a <= 1 and a < 0 : \n",
        "    print(\"số này là số nhỏ và là số âm\")\n",
        "elif a <= 1 and a > 0 :\n",
        "    print(\"số này là số nhỏ và là số dương\")\n",
        "elif a >= 1000000:\n",
        "    print(\"Số này là số lớn và là số dương \")\n",
        "else: \n",
        "    print(\"Đây là số dương :\")\n",
        "print(a)\n",
        "\n"
      ],
      "execution_count": 21,
      "outputs": [
        {
          "output_type": "stream",
          "name": "stdout",
          "text": [
            "Nhập một số bất kỳ: -8\n",
            "số này là số nhỏ và là số âm\n",
            "-8.0\n"
          ]
        }
      ]
    },
    {
      "cell_type": "code",
      "metadata": {
        "colab": {
          "base_uri": "https://localhost:8080/"
        },
        "id": "cnRts9NdFxCT",
        "outputId": "f58df360-d2bf-4e24-de11-c491ddcf2342"
      },
      "source": [
        "a = int(input(\"Nhập một số bất kỳ :\"))\n",
        "if a == 1:\n",
        "    print(\"đây là ngày thứ hai \")\n",
        "elif a == 2:\n",
        "    print(\"đây là ngày thứ ba \")\n",
        "elif a == 3:\n",
        "    print(\"đây là ngày thứ tư\")\n",
        "elif a == 4:\n",
        "    print(\"đây là ngày thứ năm \")\n",
        "elif a == 5:\n",
        "    print(\"đây là ngày thứ sáu \")\n",
        "elif a == 6:\n",
        "    print(\"đây là ngày thứ  bảy \")\n",
        "elif a == 7:\n",
        "    print(\"đây là ngày chủ nhật\")\n",
        "else:\n",
        "  print(\"câu lệnh sai mời nhập lại\")"
      ],
      "execution_count": 27,
      "outputs": [
        {
          "output_type": "stream",
          "name": "stdout",
          "text": [
            "Nhập một số bất kỳ4\n",
            "đây là ngày thứ 5\n"
          ]
        }
      ]
    },
    {
      "cell_type": "code",
      "metadata": {
        "colab": {
          "base_uri": "https://localhost:8080/"
        },
        "id": "7_aeo7RCJeOU",
        "outputId": "49b86f28-e887-4902-925b-96c01bb0ae31"
      },
      "source": [
        "a = float(input(\"Nhập một số thập phân a : \"))\n",
        "b = float(input(\"Nhập một số thập phân b : \"))\n",
        "if a == b:\n",
        "  print(\"chúng giống nhau\")\n",
        "else: \n",
        "  print(\"chúng khác nhau\")"
      ],
      "execution_count": 28,
      "outputs": [
        {
          "output_type": "stream",
          "name": "stdout",
          "text": [
            "Nhập một số thập phân a : 6.980\n",
            "Nhập một số thập phân b : 6.980\n",
            "chúng giống nhau\n"
          ]
        }
      ]
    }
  ]
}