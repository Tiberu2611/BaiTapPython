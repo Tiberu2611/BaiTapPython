{
  "nbformat": 4,
  "nbformat_minor": 0,
  "metadata": {
    "colab": {
      "name": "bt.ipynb",
      "provenance": [],
      "authorship_tag": "ABX9TyMQRSUgZUQG7N8ZvPan2etY",
      "include_colab_link": true
    },
    "kernelspec": {
      "name": "python3",
      "display_name": "Python 3"
    },
    "language_info": {
      "name": "python"
    }
  },
  "cells": [
    {
      "cell_type": "markdown",
      "metadata": {
        "id": "view-in-github",
        "colab_type": "text"
      },
      "source": [
        "<a href=\"https://colab.research.google.com/github/Tiberu2611/github-and-colab/blob/main/bt.ipynb\" target=\"_parent\"><img src=\"https://colab.research.google.com/assets/colab-badge.svg\" alt=\"Open In Colab\"/></a>"
      ]
    },
    {
      "cell_type": "code",
      "metadata": {
        "id": "-W827uJEBOHZ"
      },
      "source": [
        "print(\"Chao cac ban\")"
      ],
      "execution_count": null,
      "outputs": []
    }
  ]
}