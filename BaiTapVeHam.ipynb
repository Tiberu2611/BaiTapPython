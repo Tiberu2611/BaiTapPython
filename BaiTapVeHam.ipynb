{
  "nbformat": 4,
  "nbformat_minor": 0,
  "metadata": {
    "colab": {
      "name": "BaiTapVeHam.ipynb",
      "provenance": [],
      "collapsed_sections": [],
      "authorship_tag": "ABX9TyPdh6Z/ekJPXOXbQ8b/Z7Rx",
      "include_colab_link": true
    },
    "kernelspec": {
      "name": "python3",
      "display_name": "Python 3"
    },
    "language_info": {
      "name": "python"
    }
  },
  "cells": [
    {
      "cell_type": "markdown",
      "metadata": {
        "id": "view-in-github",
        "colab_type": "text"
      },
      "source": [
        "<a href=\"https://colab.research.google.com/github/Tiberu2611/github-and-colab/blob/main/BaiTapVeHam.ipynb\" target=\"_parent\"><img src=\"https://colab.research.google.com/assets/colab-badge.svg\" alt=\"Open In Colab\"/></a>"
      ]
    },
    {
      "cell_type": "markdown",
      "metadata": {
        "id": "z8OMNBJuMpCJ"
      },
      "source": [
        "Bài Tập Về Hàm"
      ]
    },
    {
      "cell_type": "markdown",
      "metadata": {
        "id": "7J8SEXYeMt0z"
      },
      "source": [
        "Bài 1: Hãy xây dựng một hàm thực hiện các yêu cầu sau:\n",
        "- Xuất ra màn hình câu thông báo: “Lập trình Java 2021”\n",
        "- Hàm không có giá trị trả về"
      ]
    },
    {
      "cell_type": "code",
      "metadata": {
        "colab": {
          "base_uri": "https://localhost:8080/"
        },
        "id": "l4tPTKjxMhXm",
        "outputId": "a1a9b8cd-9671-4b34-c52c-6aefa679335d"
      },
      "source": [
        "def hthi(text):\n",
        "  print(text)\n",
        "\n",
        "hthi('Lập trình Java 2021')"
      ],
      "execution_count": 23,
      "outputs": [
        {
          "output_type": "stream",
          "name": "stdout",
          "text": [
            "Lập trình Java 2021\n"
          ]
        }
      ]
    },
    {
      "cell_type": "markdown",
      "metadata": {
        "id": "cAaoPBSNRm0R"
      },
      "source": [
        "Bài 2: Hãy xây dựng một hàm thực hiện các yêu cầu sau:\n",
        "- Nhận một tham số đầu vào là một chuỗi ký tự (kiểu String)\n",
        "- Xuất ra màn hình nội dung chuỗi được truyền vào từ tham số\n",
        "- Hàm không có giá trị trả về"
      ]
    },
    {
      "cell_type": "code",
      "metadata": {
        "colab": {
          "base_uri": "https://localhost:8080/"
        },
        "id": "0hr1tUxXRpJw",
        "outputId": "73194f06-885f-435d-b1cd-e67dd6faf706"
      },
      "source": [
        "def bai2(nhap):\n",
        "  print(nhap)\n",
        "\n",
        "bai2('chao mung ban den voi python')"
      ],
      "execution_count": null,
      "outputs": [
        {
          "output_type": "stream",
          "name": "stdout",
          "text": [
            " chao mung ban den voi python\n",
            "chao mung ban den voi python\n"
          ]
        }
      ]
    },
    {
      "cell_type": "markdown",
      "metadata": {
        "id": "S6vQ92L1SI-W"
      },
      "source": [
        "Bài 3: Hãy viết chương trình thực hiện các yêu cầu sau:\n",
        "- Nhập một số nguyên dương n từ bàn phím (kiểm tra nếu không đạt yêu cầu thì bắt nhập\n",
        "lại)\n",
        "- Nhập một thông điệp từ bàn phím\n",
        "- Gọi thực hiện hàm ở Bài 2 n lần với thông điệp được truyền làm tham số đầu vào của hàm."
      ]
    },
    {
      "cell_type": "code",
      "metadata": {
        "colab": {
          "base_uri": "https://localhost:8080/"
        },
        "id": "DfHXvdNYSK-D",
        "outputId": "d32b5fed-a3c7-434e-f88e-38aec617ec9d"
      },
      "source": [
        "def bai3(n, nhap):\n",
        "  if (n > 0):\n",
        "    for i in range(n):\n",
        "      print(nhap)\n",
        "  else:\n",
        "    return bai3(int(input('Nhap n: ')), input('nhap chuoi: '))\n",
        "\n",
        "\n",
        "bai3(int(input('Nhap n: ')), input('nhap chuoi: '))"
      ],
      "execution_count": null,
      "outputs": [
        {
          "name": "stdout",
          "output_type": "stream",
          "text": [
            "Nhap n: -9\n",
            "nhap chuoi: manh\n"
          ]
        }
      ]
    },
    {
      "cell_type": "markdown",
      "metadata": {
        "id": "7g8KbpSqVsnf"
      },
      "source": [
        "Bài 4: Hãy viết chương trình thực hiện các yêu cầu sau:\n",
        "- Xây dựng hàm giải phương trình bậc 1 (ax + b = 0), với hệ số a & b được truyền vào qua\n",
        "thông số của hàm.\n",
        "- Chương trình chính nhận các thông số a, b từ bàn phím\n",
        "- Chương trình chính gọi hàm giải phương trình bậc 1 nêu trên"
      ]
    },
    {
      "cell_type": "code",
      "metadata": {
        "colab": {
          "base_uri": "https://localhost:8080/"
        },
        "id": "QYKbUd7lVu72",
        "outputId": "89af0aa0-7dc4-4940-f222-d0374382e832"
      },
      "source": [
        "def bai4(a, b):\n",
        "  if a == 0:\n",
        "    if b == 0:\n",
        "      print(\"Vô số nghiệm\")\n",
        "    else:\n",
        "      print(\"Vô nghiệm\")\n",
        "  else:\n",
        "    print(\"Phương trình có nghiệm x =\", -b / a)\n",
        "\n",
        "bai4(5, 6)\n"
      ],
      "execution_count": null,
      "outputs": [
        {
          "output_type": "stream",
          "name": "stdout",
          "text": [
            "Phương trình có nghiệm x = -1.2\n"
          ]
        }
      ]
    },
    {
      "cell_type": "markdown",
      "metadata": {
        "id": "29CgycrlZMLD"
      },
      "source": [
        "Bài 5: Hãy viết chương trình thực hiện các yêu cầu sau:\n",
        "- Xây dựng hàm giải phương trình bậc (ax2 + bx + c = 0), với hệ số a & b & c được truyền\n",
        "vào qua thông số của hàm.\n",
        "- Chương trình chính nhận các thông số a, b & c từ bàn phím\n",
        "- Chương trình chính gọi hàm giải phương trình bậc 2 nêu trên"
      ]
    },
    {
      "cell_type": "code",
      "metadata": {
        "colab": {
          "base_uri": "https://localhost:8080/"
        },
        "id": "EYUcUmuNZOgf",
        "outputId": "1bd2e46c-57e1-48b4-ef55-f546d4196886"
      },
      "source": [
        "import math\n",
        "def bai5(a, b, c):\n",
        "  if (a == 0):\n",
        "    if b == 0:\n",
        "      if c == 0:\n",
        "        print(\"Vô số nghiệm\")\n",
        "      else:\n",
        "        print(\"Vô nghiệm\")\n",
        "    else:\n",
        "      print(\"Phương trình có nghiệm x =\", -c / b)\n",
        "    return;\n",
        "\n",
        "  delta = b * b - 4 * a * c\n",
        "  if (delta > 0):\n",
        "        x1 = (float)((-b + math.sqrt(delta)) / (2 * a))\n",
        "        x2 = (float)((-b - math.sqrt(delta)) / (2 * a))\n",
        "        print (\"Phương trình có 2 nghiệm là: x1 = \", x1, \" và x2 = \", x2)\n",
        "  elif (delta == 0):\n",
        "        x1 = (-b / (2 * a))\n",
        "        print(\"Phương trình có nghiệm kép: x1 = x2 = \", x1)\n",
        "  else:\n",
        "        print(\"Phương trình vô nghiệm!\")\n",
        "\n",
        "a = float(input(\"Nhập hệ số bậc 2 = \"))\n",
        "b = float(input(\"Nhập hệ số bậc 1 = \"))\n",
        "c = float(input(\"Nhập hằng số tự do = \"))\n",
        "\n",
        "bai5(a, b, c)"
      ],
      "execution_count": 39,
      "outputs": [
        {
          "output_type": "stream",
          "name": "stdout",
          "text": [
            "Nhập hệ số bậc 2 = 0\n",
            "Nhập hệ số bậc 1 = 5\n",
            "Nhập hằng số tự do = 6\n",
            "Phương trình có nghiệm x = -1.2\n"
          ]
        }
      ]
    },
    {
      "cell_type": "markdown",
      "metadata": {
        "id": "Pd5kew-S2_ky"
      },
      "source": [
        "Bài 6: Hãy viết chương trình thực hiện các yêu cầu sau:\n",
        "\n",
        "- Cho người dùng lựa chọn giải phương trình bậc 1 hay bậc 2 bằng cách nhập số (1 hay 2)\n",
        "từ bàn phím\n",
        "- Nếu người dùng chọn giải phương trình bậc 1, thì thực hiện các bước như Bài 4\n",
        "- Nếu người dùng chọn giải phương trình bậc 2, thì thực hiện các bước như Bài 5"
      ]
    },
    {
      "cell_type": "code",
      "metadata": {
        "colab": {
          "base_uri": "https://localhost:8080/"
        },
        "id": "OgSSTpcd3AFu",
        "outputId": "c002f2f0-b3d2-42f2-c6c3-bc09ede9b1d6"
      },
      "source": [
        "def bai6(key):\n",
        "  if (key == 1):\n",
        "    if a == 0:\n",
        "      if b == 0:\n",
        "        print(\"Vô số nghiệm\")\n",
        "      else:\n",
        "        print(\"Vô nghiệm\")\n",
        "    else:\n",
        "      print(\"Phương trình có nghiệm x =\", -b / a)\n",
        "  elif (key == 2):\n",
        "    if (a == 0):\n",
        "      if b == 0:\n",
        "        if c == 0:\n",
        "          print(\"Vô số nghiệm\")\n",
        "        else:\n",
        "          print(\"Vô nghiệm\")\n",
        "      else:\n",
        "        print(\"Phương trình có nghiệm x =\", -c / b)\n",
        "      return;\n",
        "\n",
        "    delta = b * b - 4 * a * c\n",
        "    if (delta > 0):\n",
        "        x1 = (float)((-b + math.sqrt(delta)) / (2 * a))\n",
        "        x2 = (float)((-b - math.sqrt(delta)) / (2 * a))\n",
        "        print (\"Phương trình có 2 nghiệm là: x1 = \", x1, \" và x2 = \", x2)\n",
        "    elif (delta == 0):\n",
        "        x1 = (-b / (2 * a))\n",
        "        print(\"Phương trình có nghiệm kép: x1 = x2 = \", x1)\n",
        "    else:\n",
        "        print(\"Phương trình vô nghiệm!\")\n",
        "  else:\n",
        "    return bai6(int(input('Nhập key ')))\n",
        "a = float(input(\"Nhập số \"))\n",
        "b = float(input(\"Nhập số  \"))\n",
        "c = float(input(\"Nhập số \"))\n",
        "bai6(int(input('Nhập key ')))"
      ],
      "execution_count": 45,
      "outputs": [
        {
          "output_type": "stream",
          "name": "stdout",
          "text": [
            "Nhập số 5\n",
            "Nhập số  8\n",
            "Nhập số 1\n",
            "Nhập key 1\n",
            "Phương trình có nghiệm x = -1.6\n"
          ]
        }
      ]
    },
    {
      "cell_type": "markdown",
      "metadata": {
        "id": "YP4DOOlRAb4i"
      },
      "source": [
        "Bài 7: Viết chương trình thực hiện các yêu cầu sau:\n",
        "- Thực hiện yêu cầu như bài 6\n",
        "- Sau khi thực hiện xong cho người dùng lựa chọn tiếp tục thực hiện lại hay kết thúc chương\n",
        "trình"
      ]
    },
    {
      "cell_type": "code",
      "metadata": {
        "colab": {
          "base_uri": "https://localhost:8080/",
          "height": 130
        },
        "id": "Tossb8HsAeyy",
        "outputId": "c676f100-324c-46ed-a320-06fbbf316782"
      },
      "source": [
        "def bai7(keyword):\n",
        "  while keyword = yes :\n",
        "    def bai6(key):\n",
        "      if (key == 1):\n",
        "        if a == 0:\n",
        "          if b == 0:\n",
        "            print(\"Vô số nghiệm\")\n",
        "          else:\n",
        "            print(\"Vô nghiệm\")\n",
        "        else:\n",
        "          print(\"Phương trình có nghiệm x =\", -b / a)\n",
        "      elif (key == 2):\n",
        "        if (a == 0):\n",
        "          if b == 0:\n",
        "            if c == 0:\n",
        "              print(\"Vô số nghiệm\")\n",
        "            else:\n",
        "              print(\"Vô nghiệm\")\n",
        "          else:\n",
        "            print(\"Phương trình có nghiệm x =\", -c / b)\n",
        "          return;\n",
        "\n",
        "        delta = b * b - 4 * a * c\n",
        "        if (delta > 0):\n",
        "            x1 = (float)((-b + math.sqrt(delta)) / (2 * a))\n",
        "            x2 = (float)((-b - math.sqrt(delta)) / (2 * a))\n",
        "            print (\"Phương trình có 2 nghiệm là: x1 = \", x1, \" và x2 = \", x2)\n",
        "        elif (delta == 0):\n",
        "            x1 = (-b / (2 * a))\n",
        "            print(\"Phương trình có nghiệm kép: x1 = x2 = \", x1)\n",
        "        else:\n",
        "            print(\"Phương trình vô nghiệm!\")\n",
        "      else:\n",
        "        return bai6(int(input('Nhập key ')))\n",
        "    a = float(input(\"Nhập số \"))\n",
        "    b = float(input(\"Nhập số  \"))\n",
        "    c = float(input(\"Nhập số \"))\n",
        "    bai6(int(input('Nhập key ')))\n",
        "  else:\n",
        "    break\n",
        "\n",
        "bai7(input(\"Nhập keyword: \"))"
      ],
      "execution_count": 60,
      "outputs": [
        {
          "output_type": "error",
          "ename": "SyntaxError",
          "evalue": "ignored",
          "traceback": [
            "\u001b[0;36m  File \u001b[0;32m\"<ipython-input-60-b4c10d6c721d>\"\u001b[0;36m, line \u001b[0;32m2\u001b[0m\n\u001b[0;31m    while keyword = yes :\u001b[0m\n\u001b[0m                  ^\u001b[0m\n\u001b[0;31mSyntaxError\u001b[0m\u001b[0;31m:\u001b[0m invalid syntax\n"
          ]
        }
      ]
    }
  ]
}