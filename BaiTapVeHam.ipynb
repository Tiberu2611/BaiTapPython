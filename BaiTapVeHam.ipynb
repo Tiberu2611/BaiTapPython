{
  "nbformat": 4,
  "nbformat_minor": 0,
  "metadata": {
    "colab": {
      "name": "BaiTapVeHam.ipynb",
      "provenance": [],
      "collapsed_sections": [],
      "authorship_tag": "ABX9TyOFSOSG2tDJ7lxRmDwCBbwv",
      "include_colab_link": true
    },
    "kernelspec": {
      "name": "python3",
      "display_name": "Python 3"
    },
    "language_info": {
      "name": "python"
    }
  },
  "cells": [
    {
      "cell_type": "markdown",
      "metadata": {
        "id": "view-in-github",
        "colab_type": "text"
      },
      "source": [
        "<a href=\"https://colab.research.google.com/github/Tiberu2611/github-and-colab/blob/main/BaiTapVeHam.ipynb\" target=\"_parent\"><img src=\"https://colab.research.google.com/assets/colab-badge.svg\" alt=\"Open In Colab\"/></a>"
      ]
    },
    {
      "cell_type": "markdown",
      "metadata": {
        "id": "z8OMNBJuMpCJ"
      },
      "source": [
        "Bài Tập Về Hàm"
      ]
    },
    {
      "cell_type": "markdown",
      "metadata": {
        "id": "7J8SEXYeMt0z"
      },
      "source": [
        "Bài 1: Hãy xây dựng một hàm thực hiện các yêu cầu sau:\n",
        "- Xuất ra màn hình câu thông báo: “Lập trình Java 2021”\n",
        "- Hàm không có giá trị trả về"
      ]
    },
    {
      "cell_type": "code",
      "metadata": {
        "colab": {
          "base_uri": "https://localhost:8080/"
        },
        "id": "l4tPTKjxMhXm",
        "outputId": "a1a9b8cd-9671-4b34-c52c-6aefa679335d"
      },
      "source": [
        "def hthi(text):\n",
        "  print(text)"
      ],
      "execution_count": 23,
      "outputs": [
        {
          "output_type": "stream",
          "name": "stdout",
          "text": [
            "Lập trình Java 2021\n"
          ]
        }
      ]
    },
    {
      "cell_type": "code",
      "metadata": {
        "colab": {
          "base_uri": "https://localhost:8080/"
        },
        "id": "ESFpuyVfSRRF",
        "outputId": "a429efc9-bc79-4e92-f385-a5551895ed29"
      },
      "source": [
        "hthi('Lập trình Java 2021')"
      ],
      "execution_count": 61,
      "outputs": [
        {
          "output_type": "stream",
          "name": "stdout",
          "text": [
            "Lập trình Java 2021\n"
          ]
        }
      ]
    },
    {
      "cell_type": "markdown",
      "metadata": {
        "id": "cAaoPBSNRm0R"
      },
      "source": [
        "Bài 2: Hãy xây dựng một hàm thực hiện các yêu cầu sau:\n",
        "- Nhận một tham số đầu vào là một chuỗi ký tự (kiểu String)\n",
        "- Xuất ra màn hình nội dung chuỗi được truyền vào từ tham số\n",
        "- Hàm không có giá trị trả về"
      ]
    },
    {
      "cell_type": "code",
      "metadata": {
        "id": "0hr1tUxXRpJw"
      },
      "source": [
        "def bai2(nhap):\n",
        "  print(nhap)"
      ],
      "execution_count": 68,
      "outputs": []
    },
    {
      "cell_type": "code",
      "metadata": {
        "colab": {
          "base_uri": "https://localhost:8080/"
        },
        "id": "rOFVZjexScqy",
        "outputId": "21f7b569-19ae-4416-cf94-6a4f9f633bd7"
      },
      "source": [
        "bai2(input())"
      ],
      "execution_count": 69,
      "outputs": [
        {
          "output_type": "stream",
          "name": "stdout",
          "text": [
            "chao ban\n",
            "chao ban\n"
          ]
        }
      ]
    },
    {
      "cell_type": "markdown",
      "metadata": {
        "id": "S6vQ92L1SI-W"
      },
      "source": [
        "Bài 3: Hãy viết chương trình thực hiện các yêu cầu sau:\n",
        "- Nhập một số nguyên dương n từ bàn phím (kiểm tra nếu không đạt yêu cầu thì bắt nhập\n",
        "lại)\n",
        "- Nhập một thông điệp từ bàn phím\n",
        "- Gọi thực hiện hàm ở Bài 2 n lần với thông điệp được truyền làm tham số đầu vào của hàm."
      ]
    },
    {
      "cell_type": "code",
      "metadata": {
        "id": "DfHXvdNYSK-D"
      },
      "source": [
        "def bai3(n, text):\n",
        "  if n.isdecimal()==True:\n",
        "    for i in range(int(n)):\n",
        "      bai2(text)\n",
        "  else:\n",
        "    print(\"n không phải là số nguyên dương\")\n",
        "    bai3(input(\"Nhập lại n:\"),input(\"Nhập chuỗi:\"))"
      ],
      "execution_count": 70,
      "outputs": []
    },
    {
      "cell_type": "code",
      "metadata": {
        "colab": {
          "base_uri": "https://localhost:8080/"
        },
        "id": "fyEvkY_SSrSO",
        "outputId": "6ec6e3aa-f182-405b-84d3-35994f6000b2"
      },
      "source": [
        "bai3(input(\"Nhập n:\"),input(\"Nhập chuỗi:\"))"
      ],
      "execution_count": 71,
      "outputs": [
        {
          "output_type": "stream",
          "name": "stdout",
          "text": [
            "Nhập n:3\n",
            "Nhập chuỗi:chao\n",
            "chao\n",
            "chao\n",
            "chao\n"
          ]
        }
      ]
    },
    {
      "cell_type": "markdown",
      "metadata": {
        "id": "7g8KbpSqVsnf"
      },
      "source": [
        "Bài 4: Hãy viết chương trình thực hiện các yêu cầu sau:\n",
        "- Xây dựng hàm giải phương trình bậc 1 (ax + b = 0), với hệ số a & b được truyền vào qua\n",
        "thông số của hàm.\n",
        "- Chương trình chính nhận các thông số a, b từ bàn phím\n",
        "- Chương trình chính gọi hàm giải phương trình bậc 1 nêu trên"
      ]
    },
    {
      "cell_type": "code",
      "metadata": {
        "id": "QYKbUd7lVu72"
      },
      "source": [
        "def bai4(a, b):\n",
        "  if a == 0:\n",
        "    if b == 0:\n",
        "      print(\"Vô số nghiệm\")\n",
        "    else:\n",
        "      print(\"Vô nghiệm\")\n",
        "  else:\n",
        "    print(\"Phương trình có nghiệm x =\", -b / a)"
      ],
      "execution_count": 72,
      "outputs": []
    },
    {
      "cell_type": "code",
      "metadata": {
        "colab": {
          "base_uri": "https://localhost:8080/"
        },
        "id": "l9kH2rJwTCIv",
        "outputId": "3481e275-caad-4561-81a7-3f6f11d9d451"
      },
      "source": [
        "bai4(float(input(\"Nhap a:\")), float(input(\"Nhap b:\")))\n"
      ],
      "execution_count": 73,
      "outputs": [
        {
          "output_type": "stream",
          "name": "stdout",
          "text": [
            "Nhap a:3\n",
            "Nhap b:4\n",
            "Phương trình có nghiệm x = -1.3333333333333333\n"
          ]
        }
      ]
    },
    {
      "cell_type": "markdown",
      "metadata": {
        "id": "29CgycrlZMLD"
      },
      "source": [
        "Bài 5: Hãy viết chương trình thực hiện các yêu cầu sau:\n",
        "- Xây dựng hàm giải phương trình bậc (ax2 + bx + c = 0), với hệ số a & b & c được truyền\n",
        "vào qua thông số của hàm.\n",
        "- Chương trình chính nhận các thông số a, b & c từ bàn phím\n",
        "- Chương trình chính gọi hàm giải phương trình bậc 2 nêu trên"
      ]
    },
    {
      "cell_type": "code",
      "metadata": {
        "id": "EYUcUmuNZOgf"
      },
      "source": [
        "import math\n",
        "def bai5(a, b, c):\n",
        "  if (a == 0):\n",
        "    if b == 0:\n",
        "      if c == 0:\n",
        "        print(\"Vô số nghiệm\")\n",
        "      else:\n",
        "        print(\"Vô nghiệm\")\n",
        "    else:\n",
        "      print(\"Phương trình có nghiệm x =\", -c / b)\n",
        "  else:\n",
        "   delta = b * b - 4 * a * c\n",
        "   if (delta > 0):\n",
        "        x1 = (float)((-b + math.sqrt(delta)) / (2 * a))\n",
        "        x2 = (float)((-b - math.sqrt(delta)) / (2 * a))\n",
        "        print (\"Phương trình có 2 nghiệm là: x1 =\",x1, \" và x2 =\",x2)\n",
        "   if (delta == 0):\n",
        "        x1 = (-b / (2 * a))\n",
        "        print(\"Phương trình có nghiệm kép: x1 = x2 = \", x1)\n",
        "   if delta<0:\n",
        "        print(\"Phương trình vô nghiệm!\")"
      ],
      "execution_count": 74,
      "outputs": []
    },
    {
      "cell_type": "code",
      "metadata": {
        "colab": {
          "base_uri": "https://localhost:8080/"
        },
        "id": "otGtXA9RUBzp",
        "outputId": "e1d73152-d123-48bb-f184-15b4cbfd6c9d"
      },
      "source": [
        "bai5(float(input(\"Nhap a:\")),float(input(\"Nhap b:\")),float(input(\"Nhap c:\")))"
      ],
      "execution_count": 75,
      "outputs": [
        {
          "output_type": "stream",
          "name": "stdout",
          "text": [
            "Nhap a:3\n",
            "Nhap b:5\n",
            "Nhap c:7\n",
            "Phương trình vô nghiệm!\n"
          ]
        }
      ]
    },
    {
      "cell_type": "markdown",
      "metadata": {
        "id": "Pd5kew-S2_ky"
      },
      "source": [
        "Bài 6: Hãy viết chương trình thực hiện các yêu cầu sau:\n",
        "\n",
        "- Cho người dùng lựa chọn giải phương trình bậc 1 hay bậc 2 bằng cách nhập số (1 hay 2)\n",
        "từ bàn phím\n",
        "- Nếu người dùng chọn giải phương trình bậc 1, thì thực hiện các bước như Bài 4\n",
        "- Nếu người dùng chọn giải phương trình bậc 2, thì thực hiện các bước như Bài 5"
      ]
    },
    {
      "cell_type": "code",
      "metadata": {
        "id": "OgSSTpcd3AFu"
      },
      "source": [
        "def bai6(key):\n",
        "  if key==1:\n",
        "    bai4(float(input(\"Nhap a:\")), float(input(\"Nhap b:\")))\n",
        "  elif key==2:\n",
        "    bai5(float(input(\"Nhap a:\")),float(input(\"Nhap b:\")),float(input(\"Nhap c:\")))\n",
        "  else:\n",
        "    print(\"Sai điều kiện! Nhập lại\")\n",
        "    bai6(int(input(\"Bạn muốn giải phương trình bậc 1 hay bậc 2:\")))\n",
        "    "
      ],
      "execution_count": 76,
      "outputs": []
    },
    {
      "cell_type": "code",
      "metadata": {
        "colab": {
          "base_uri": "https://localhost:8080/"
        },
        "id": "uofS8JaGUNL6",
        "outputId": "ba266ced-6791-4d9a-df3a-1ef6e33a1526"
      },
      "source": [
        "bai6(int(input(\"Bạn muốn giải phương trình bậc 1 hay bậc 2:\")))"
      ],
      "execution_count": 77,
      "outputs": [
        {
          "output_type": "stream",
          "name": "stdout",
          "text": [
            "Bạn muốn giải phương trình bậc 1 hay bậc 2:1\n",
            "Nhap a:3\n",
            "Nhap b:5\n",
            "Phương trình có nghiệm x = -1.6666666666666667\n"
          ]
        }
      ]
    },
    {
      "cell_type": "markdown",
      "metadata": {
        "id": "YP4DOOlRAb4i"
      },
      "source": [
        "Bài 7: Viết chương trình thực hiện các yêu cầu sau:\n",
        "- Thực hiện yêu cầu như bài 6\n",
        "- Sau khi thực hiện xong cho người dùng lựa chọn tiếp tục thực hiện lại hay kết thúc chương\n",
        "trình"
      ]
    },
    {
      "cell_type": "code",
      "metadata": {
        "id": "Tossb8HsAeyy"
      },
      "source": [
        "def bai7(key):\n",
        "  while key==\"y\":\n",
        "    bai6(int(input(\"Bạn muốn giải phương trình bậc 1 hay bậc 2:\")))\n",
        "    key=(input(\"Bạn muốn kết thúc hay tiếp tục (y/n)?\"))\n",
        "  else:\n",
        "    print(\"Ket thuc\")"
      ],
      "execution_count": 78,
      "outputs": []
    },
    {
      "cell_type": "code",
      "metadata": {
        "colab": {
          "base_uri": "https://localhost:8080/"
        },
        "id": "7yefqI8MUc7y",
        "outputId": "4380a8fe-abad-4289-81e1-bc9f213cd8bb"
      },
      "source": [
        "bai7(\"y\")"
      ],
      "execution_count": 79,
      "outputs": [
        {
          "output_type": "stream",
          "name": "stdout",
          "text": [
            "Bạn muốn giải phương trình bậc 1 hay bậc 2:1\n",
            "Nhap a:3\n",
            "Nhap b:1\n",
            "Phương trình có nghiệm x = -0.3333333333333333\n",
            "Bạn muốn kết thúc hay tiếp tục (y/n)?y\n",
            "Bạn muốn giải phương trình bậc 1 hay bậc 2:7\n",
            "Sai điều kiện! Nhập lại\n",
            "Bạn muốn giải phương trình bậc 1 hay bậc 2:2\n",
            "Nhap a:4\n",
            "Nhap b:1\n",
            "Nhap c:4\n",
            "Phương trình vô nghiệm!\n",
            "Bạn muốn kết thúc hay tiếp tục (y/n)?n\n",
            "Ket thuc\n"
          ]
        }
      ]
    }
  ]
}