{
  "nbformat": 4,
  "nbformat_minor": 0,
  "metadata": {
    "colab": {
      "name": "Matplotlib.ipynb",
      "provenance": [],
      "authorship_tag": "ABX9TyP1DdDSwXw+goMDQ+LfU9xk",
      "include_colab_link": true
    },
    "kernelspec": {
      "name": "python3",
      "display_name": "Python 3"
    },
    "language_info": {
      "name": "python"
    }
  },
  "cells": [
    {
      "cell_type": "markdown",
      "metadata": {
        "id": "view-in-github",
        "colab_type": "text"
      },
      "source": [
        "<a href=\"https://colab.research.google.com/github/Tiberu2611/BaiTapPython/blob/main/Matplotlib.ipynb\" target=\"_parent\"><img src=\"https://colab.research.google.com/assets/colab-badge.svg\" alt=\"Open In Colab\"/></a>"
      ]
    },
    {
      "cell_type": "code",
      "execution_count": 1,
      "metadata": {
        "id": "Kftn0zPNczXj"
      },
      "outputs": [],
      "source": [
        "import numpy as np\n",
        "import matplotlib.pyplot as plt"
      ]
    },
    {
      "cell_type": "markdown",
      "source": [
        "Câu 1: Xét hàm số y(x) = $x^{3}$ + 3x + 7 với x ∈ [−6, 5]. Hãy:\n",
        "- Xác định đạo hàm bậc nhất và bậc hai của hàm số trên;\n",
        "- Tạo ra 1 vector x có 1500 phần tử với giá trị khởi đầu là -6 và kết thúc là 5 bằng hàm\n",
        "linspace();\n",
        "- Xây dựng vector y, y1 và y2 tương ứng hàm số y(x), y(x)\n",
        "′\n",
        ", y(x)\n",
        "′′ với giá trị các phần tử\n",
        "\n",
        "tương ứng được sinh ra từ việc sử dụng vector x ở trên làm tham số đầu vào;\n",
        "- Hãy tạo đối tượng fig (là đối tượng của lớp Figure) và đối tượng ax (là đối tượng của\n",
        "Axes) từ hàm subplot() để phục vụ việc vẽ hình đồ thị của các hàm số trên;\n",
        "- Sử dụng đối tượng ax để vẽ đồ thị cho hàm số y(x) tương ứng với tham số đầu vào là x và\n",
        "y và đặt tên cho đồ thị này là y(x);\n",
        "\n",
        "- Sử dụng đối tượng ax để vẽ đồ thị cho hàm số y\n",
        "′\n",
        "(x) tương ứng với tham số đầu vào là x\n",
        "\n",
        "và y1 và đặt tên cho đồ thị này là y\n",
        "′\n",
        "(x);\n",
        "- Sử dụng đối tượng ax để vẽ đồ thị cho hàm số y\n",
        "\n",
        "′′(x) tương ứng với tham số đầu vào là x\n",
        "\n",
        "và y2 và đặt tên cho đồ thị này là y\n",
        "′′(x);\n",
        "\n",
        "- Thiết lập tên cho các trục tọa độ: tung độ là y và hoành độ là x;\n",
        "- Hiển thị các tên của từng đồ thị lên hình vẽ (gợi ý: hàm legend())."
      ],
      "metadata": {
        "id": "DwvMvjwrdGMS"
      }
    },
    {
      "cell_type": "code",
      "source": [
        "x = np.linspace(-6,5,num=1500)"
      ],
      "metadata": {
        "id": "8lpvrZ-Zc_N6"
      },
      "execution_count": 2,
      "outputs": []
    },
    {
      "cell_type": "code",
      "source": [
        "y = x**3+ 3*x +7\n",
        "y1 = 3*(x**2) + 3\n",
        "y2 = 6*x\n",
        "fig, ax = plt.subplots()\n",
        "ax.plot(x,y,label=\"y(x)\",color = \"blue\")\n",
        "ax.plot(x,y1,label=\"y'(x)\",color = \"yellow\")\n",
        "ax.plot(x,y2,label=\"y''(x)\",color=\"red\")\n",
        "plt.xlabel(\"x\");\n",
        "plt.ylabel(\"y\");\n",
        "plt.title(\"Đồ thị hàm số \")\n",
        "plt.legend();"
      ],
      "metadata": {
        "colab": {
          "base_uri": "https://localhost:8080/",
          "height": 295
        },
        "id": "S-QF6YysdjJR",
        "outputId": "d2e3d9f5-2646-42fe-f444-51f22e08c8af"
      },
      "execution_count": 4,
      "outputs": [
        {
          "output_type": "display_data",
          "data": {
            "text/plain": [
              "<Figure size 432x288 with 1 Axes>"
            ],
            "image/png": "[encoded data removed]"
          },
          "metadata": {
            "needs_background": "light"
          }
        }
      ]
    }
  ]
}