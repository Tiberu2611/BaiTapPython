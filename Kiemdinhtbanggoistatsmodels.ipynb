{
  "nbformat": 4,
  "nbformat_minor": 0,
  "metadata": {
    "colab": {
      "name": "Kiemdinhtbanggoistatsmodels.ipynb",
      "provenance": [],
      "collapsed_sections": [],
      "authorship_tag": "ABX9TyMatS6r4aWp+NxlvOyRq0pK",
      "include_colab_link": true
    },
    "kernelspec": {
      "name": "python3",
      "display_name": "Python 3"
    },
    "language_info": {
      "name": "python"
    }
  },
  "cells": [
    {
      "cell_type": "markdown",
      "metadata": {
        "id": "view-in-github",
        "colab_type": "text"
      },
      "source": [
        "<a href=\"https://colab.research.google.com/github/Tiberu2611/BaiTapPython/blob/main/Kiemdinhtbanggoistatsmodels.ipynb\" target=\"_parent\"><img src=\"https://colab.research.google.com/assets/colab-badge.svg\" alt=\"Open In Colab\"/></a>"
      ]
    },
    {
      "cell_type": "code",
      "execution_count": 28,
      "metadata": {
        "id": "rdXuqES-Rw_U"
      },
      "outputs": [],
      "source": [
        "import numpy as np\n",
        "import pandas as pd\n",
        "import random\n",
        "from scipy import stats\n",
        "from statsmodels.stats.weightstats import ttest_ind\n",
        "import math"
      ]
    },
    {
      "cell_type": "markdown",
      "source": [
        "Một số lưu ý khi kiểm định giả thuyết trong thống kê suy diễn\n",
        "\n",
        "(1) Cỡ mẫu thường phải nhỏ hơn ($n \\leq 30$) để có ý nghĩa thống kê\n",
        "\n",
        "(2) Các mẫu quan sát được (sample observations) phải được lựa chọn ngẫu nhiên từ quần thể\n",
        "\n",
        "(3) Các đại lượng như trung bình mẫu (sample mean), độ lệch chuẩn của mẫu (standard deviation), phương sai mẫu (sample variance) được tính từ tập mẫu quan sát được.\n",
        "\n",
        "(4) Giả định rằng quần thể được nghiên cứu lấy mẫu xấp xỉ với phân phối chuẩn.\n"
      ],
      "metadata": {
        "id": "vDm9zWjHSOh-"
      }
    },
    {
      "cell_type": "markdown",
      "source": [
        "Các bước thực hiện kiểm định giả thuyết (sử dụng kiểm định tt)\n",
        "\n",
        "Bước 1: Thực hiện các phép đo, hay thu thập dữ liệu quan sát\n",
        "\n",
        "Bước 2: Phát biểu giả thuyết $H_{0}$ và giả thuyết thay thế $H_{a}$\n",
        "\n",
        "Bước 3: Xác định mức $\\alpha$ (hay khoảng tin cậy)\n",
        "\n",
        "Bước 4: Lấy mẫu và tính toán các đại lượng thống kê của mẫu\n",
        "\n",
        "Bước 5: Thực hiện kiểm định t (t-test)\n",
        "\n",
        "Bước 6: Kết luận dựa vào kết quả kiểm định\n"
      ],
      "metadata": {
        "id": "7K2DH0b3SRpe"
      }
    },
    {
      "cell_type": "markdown",
      "source": [
        "Kiểm định giả thuyết 2-đuôi\n",
        "\n",
        "Bài toán: Giả sử lấy ra ngẫu nhiên 20 người bán hàng ở TP.HCM với công việc mỗi ngày là bán hàng và bán được trung bình mỗi ngày là 50 đơn hàng. Biết là ở Huế mỗi ngày mỗi người bán được 45 đơn và độ lệch chuẩn là 10. Liệu với độ tin cậy là 95% (hay hệ số sig - significance level) - 5%) có thể nhận định được người nào bán tốt hơn hay không ?\n",
        "Xây dựng giả thuyết\n",
        "\n",
        "$$H_{0}: \\mu = 45$$\n",
        "\n",
        "Giả thuyết thay thế: \n",
        "\n",
        "$$H_{a}: \\mu > 45 $$\n",
        "\n",
        "với:\n",
        "\n",
        "- Hệ số sig = 0.05\n",
        "- Chỉ số z tương ứng với hệ số sig ở trên là 1.645\n",
        "\n",
        "Công thức:\n",
        "$$Z = \\frac{(\\overline{\\rm X} - \\mu)}{(\\sigma / \\sqrt{n})}$$\n",
        "\n",
        "Áp dụng với các giá trị nêu trên:\n",
        "\n",
        "- $\\overline{\\rm X} = 50$\n",
        "- $\\mu = 45$\n",
        "- $\\sigma = 10$\n",
        "- $\\alpha = 0.05$\n",
        "- $n =20$\n",
        "\n",
        "$$Z = \\frac{(50 - 45)}{(10 / \\sqrt{20})} = 2.23$$\n",
        "\n",
        "Giá trị z = 2.23 > 1.645 nên có bằng chứng để bác bỏ giả thuyết $H_{0}$"
      ],
      "metadata": {
        "id": "tAQq0T_VS6PP"
      }
    },
    {
      "cell_type": "code",
      "source": [
        "#Sinh ngẫu nhiên một mẫu 20 phần tử có trung bình mẫu là 50, độ lệch chuẩn là 10\n",
        "samples = np.random.normal(50, 10 , 20)\n",
        "print(samples[:10])"
      ],
      "metadata": {
        "colab": {
          "base_uri": "https://localhost:8080/"
        },
        "id": "EgwiaxaoSUce",
        "outputId": "c19c750a-c52b-472b-cef0-d47277347d7f"
      },
      "execution_count": 61,
      "outputs": [
        {
          "output_type": "stream",
          "name": "stdout",
          "text": [
            "[53.92787341 46.05147608 47.37008225 53.54063459 30.52725397 58.75356337\n",
            " 63.90677633 48.57812922 48.7543253  64.2277878 ]\n"
          ]
        }
      ]
    },
    {
      "cell_type": "code",
      "source": [
        "#Xác định các thông số\n",
        "null_mean = 45\n",
        "alpha = 0.05"
      ],
      "metadata": {
        "id": "87R9d712XJol"
      },
      "execution_count": 63,
      "outputs": []
    },
    {
      "cell_type": "code",
      "source": [
        "#Kiểm định t\n",
        "t_statistic, p_value= stats.ttest_1samp(samples, null_mean)\n",
        "print('P value', p_value)\n",
        "if(p_value <  alpha):\n",
        "  print(\"Có bằng chứng để bác bỏ giả thuyết H0\")\n",
        "else:\n",
        "  print(\"Chưa có bằng chứng để bác bỏ giả thuyết H0\")"
      ],
      "metadata": {
        "colab": {
          "base_uri": "https://localhost:8080/"
        },
        "id": "BUklgV20XMJt",
        "outputId": "c56d0819-4269-4010-8843-689d7e232bdb"
      },
      "execution_count": 64,
      "outputs": [
        {
          "output_type": "stream",
          "name": "stdout",
          "text": [
            "P value 0.004264813518782311\n",
            "Có bằng chứng để bác bỏ giả thuyết H0\n"
          ]
        }
      ]
    },
    {
      "cell_type": "markdown",
      "source": [
        "Kiểm định giả thuyết 1-đuôi\n",
        "\n",
        "Bài toán: Giả sử lấy ra ngẫu nhiên 20 người bán hàng ở TP.HCM với công việc mỗi ngày là bán hàng và bán được trung bình mỗi ngày là 50 đơn hàng. Biết là ở Huế mỗi ngày mỗi người bán được 45 đơn và độ lệch chuẩn là 10. Liệu với độ tin cậy là 95% (hay hệ số sig - significance level) - 5%) có thể nhận định được người nào bán tốt hơn hay không ?\n",
        "Xây dựng giả thuyết\n",
        "\n",
        "$$H_{0}: \\mu = 45$$\n",
        "\n",
        "Giả thuyết thay thế: \n",
        "\n",
        "$$H_{a}: \\mu > 45 $$\n",
        "\n",
        "với:\n",
        "\n",
        "- Hệ số sig = 0.05\n",
        "- Chỉ số z tương ứng với hệ số sig ở trên là 1.645\n",
        "\n",
        "Công thức:\n",
        "$$Z = \\frac{(\\overline{\\rm X} - \\mu)}{(\\sigma / \\sqrt{n})}$$\n",
        "\n",
        "Áp dụng với các giá trị nêu trên:\n",
        "\n",
        "- $\\overline{\\rm X} = 50$\n",
        "- $\\mu = 45$\n",
        "- $\\sigma = 10$\n",
        "- $\\alpha = 0.025$\n",
        "- $n =20$\n",
        "\n",
        "$$Z = \\frac{(50 - 45)}{(10 / \\sqrt{20})} = 2.23$$\n",
        "\n",
        "Giá trị z = 2.23 > 1.645 nên có bằng chứng để bác bỏ giả thuyết $H_{0}$"
      ],
      "metadata": {
        "id": "0UKGz2uRXVrN"
      }
    },
    {
      "cell_type": "code",
      "source": [
        "#tiến hành Sinh ngẫu nhiên hai mẫu 20 phần tử có trung bình mẫu là 50, độ lệch chuẩn là 10\n",
        "samples = np.random.normal(50, 10 , 20)\n",
        "print(samples)"
      ],
      "metadata": {
        "id": "5Xl8xJ0SXYd-",
        "colab": {
          "base_uri": "https://localhost:8080/"
        },
        "outputId": "9bf4b179-6bd0-4edf-f4dd-f20f746f99fc"
      },
      "execution_count": 50,
      "outputs": [
        {
          "output_type": "stream",
          "name": "stdout",
          "text": [
            "[45.27027486 47.20445725 38.68766804 39.4080231  75.99653714 68.92739419\n",
            " 52.66961161 41.39613781 57.05305166 29.68670082 54.89051766 42.41112081\n",
            " 57.60204989 44.40307347 45.0801354  49.00035388 73.62671565 51.49713998\n",
            " 39.58572666 50.14009992]\n"
          ]
        }
      ]
    },
    {
      "cell_type": "code",
      "source": [
        "null_mean = 45\n",
        "alpha = 0.05"
      ],
      "metadata": {
        "id": "vef-0oSaca59"
      },
      "execution_count": 67,
      "outputs": []
    },
    {
      "cell_type": "code",
      "source": [
        "def t_test(samples, hypoth_value, sig_level):\n",
        "    samples_mean = samples.mean()\n",
        "    samples_std = samples.std()\n",
        "    samples_size = len(samples)\n",
        "    test_statistic = (samples_mean - hypoth_value) / (samples_std/(math.sqrt(samples_size)))\n",
        "    p_value = stats.t.cdf(test_statistic,df=samples_size-1)\n",
        "    print('P Value = ', p_value)\n",
        "    if p_value < sig_level:\n",
        "        print(\"Có bằng chứng để bác bỏ giả thuyết H0\")\n",
        "    else:\n",
        "        print(\"Chưa có bằng chứng để bác bỏ giả thuyết H0\")"
      ],
      "metadata": {
        "id": "iFIJP82Pcq2-"
      },
      "execution_count": 76,
      "outputs": []
    },
    {
      "cell_type": "code",
      "source": [
        "t_test(samples, null_mean, alpha )"
      ],
      "metadata": {
        "colab": {
          "base_uri": "https://localhost:8080/"
        },
        "id": "3M0_fDsGgWe0",
        "outputId": "48dde092-a7ad-43ac-edbf-7e33556bfbfb"
      },
      "execution_count": 77,
      "outputs": [
        {
          "output_type": "stream",
          "name": "stdout",
          "text": [
            "P Value =  0.9982361660953228\n",
            "Chưa có bằng chứng để bác bỏ giả thuyết H0\n"
          ]
        }
      ]
    }
  ]
}