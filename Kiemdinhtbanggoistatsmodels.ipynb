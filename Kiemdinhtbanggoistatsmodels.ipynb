{
  "nbformat": 4,
  "nbformat_minor": 0,
  "metadata": {
    "colab": {
      "name": "Kiemdinhtbanggoistatsmodels.ipynb",
      "provenance": [],
      "collapsed_sections": [],
      "authorship_tag": "ABX9TyO4yT+mmJNHe8nreVgPROyj",
      "include_colab_link": true
    },
    "kernelspec": {
      "name": "python3",
      "display_name": "Python 3"
    },
    "language_info": {
      "name": "python"
    }
  },
  "cells": [
    {
      "cell_type": "markdown",
      "metadata": {
        "id": "view-in-github",
        "colab_type": "text"
      },
      "source": [
        "<a href=\"https://colab.research.google.com/github/Tiberu2611/BaiTapPython/blob/main/Kiemdinhtbanggoistatsmodels.ipynb\" target=\"_parent\"><img src=\"https://colab.research.google.com/assets/colab-badge.svg\" alt=\"Open In Colab\"/></a>"
      ]
    },
    {
      "cell_type": "code",
      "execution_count": 28,
      "metadata": {
        "id": "rdXuqES-Rw_U"
      },
      "outputs": [],
      "source": [
        "import numpy as np\n",
        "import pandas as pd\n",
        "import random\n",
        "from scipy import stats\n",
        "from statsmodels.stats.weightstats import ttest_ind\n",
        "import math"
      ]
    },
    {
      "cell_type": "markdown",
      "source": [
        "Một số lưu ý khi kiểm định giả thuyết trong thống kê suy diễn\n",
        "\n",
        "(1) Cỡ mẫu thường phải nhỏ hơn ($n \\leq 30$) để có ý nghĩa thống kê\n",
        "\n",
        "(2) Các mẫu quan sát được (sample observations) phải được lựa chọn ngẫu nhiên từ quần thể\n",
        "\n",
        "(3) Các đại lượng như trung bình mẫu (sample mean), độ lệch chuẩn của mẫu (standard deviation), phương sai mẫu (sample variance) được tính từ tập mẫu quan sát được.\n",
        "\n",
        "(4) Giả định rằng quần thể được nghiên cứu lấy mẫu xấp xỉ với phân phối chuẩn.\n"
      ],
      "metadata": {
        "id": "vDm9zWjHSOh-"
      }
    },
    {
      "cell_type": "markdown",
      "source": [
        "Các bước thực hiện kiểm định giả thuyết (sử dụng kiểm định tt)\n",
        "\n",
        "Bước 1: Thực hiện các phép đo, hay thu thập dữ liệu quan sát\n",
        "\n",
        "Bước 2: Phát biểu giả thuyết $H_{0}$ và giả thuyết thay thế $H_{a}$\n",
        "\n",
        "Bước 3: Xác định mức $\\alpha$ (hay khoảng tin cậy)\n",
        "\n",
        "Bước 4: Lấy mẫu và tính toán các đại lượng thống kê của mẫu\n",
        "\n",
        "Bước 5: Thực hiện kiểm định t (t-test)\n",
        "\n",
        "Bước 6: Kết luận dựa vào kết quả kiểm định\n"
      ],
      "metadata": {
        "id": "7K2DH0b3SRpe"
      }
    },
    {
      "cell_type": "markdown",
      "source": [
        "Kiểm định giả thuyết 2-đuôi\n",
        "\n",
        "Bài toán: Giả sử lấy ra ngẫu nhiên 20 người bán hàng ở TP.HCM với công việc mỗi ngày là bán hàng và bán được trung bình mỗi ngày là 50 đơn hàng. Biết là ở Huế mỗi ngày mỗi người bán được 45 đơn và độ lệch chuẩn là 10. Liệu với độ tin cậy là 95% (hay hệ số sig - significance level) - 5%) có thể nhận định được người nào bán tốt hơn hay không ?\n",
        "Xây dựng giả thuyết\n",
        "\n",
        "$$H_{0}: \\mu = 45$$\n",
        "\n",
        "Giả thuyết thay thế: \n",
        "\n",
        "$$H_{a}: \\mu > 45 $$\n",
        "\n",
        "với:\n",
        "\n",
        "- Hệ số sig = 0.05\n",
        "- Chỉ số z tương ứng với hệ số sig ở trên là 1.645\n",
        "\n",
        "Công thức:\n",
        "$$Z = \\frac{(\\overline{\\rm X} - \\mu)}{(\\sigma / \\sqrt{n})}$$\n",
        "\n",
        "Áp dụng với các giá trị nêu trên:\n",
        "\n",
        "- $\\overline{\\rm X} = 50$\n",
        "- $\\mu = 45$\n",
        "- $\\sigma = 10$\n",
        "- $\\alpha = 0.05$\n",
        "- $n =20$\n",
        "\n",
        "$$Z = \\frac{(50 - 45)}{(10 / \\sqrt{20})} = 2.23$$\n",
        "\n",
        "Giá trị z = 2.23 > 1.645 nên có bằng chứng để bác bỏ giả thuyết $H_{0}$"
      ],
      "metadata": {
        "id": "tAQq0T_VS6PP"
      }
    },
    {
      "cell_type": "code",
      "source": [
        "#Sinh ngẫu nhiên một mẫu 20 phần tử có trung bình mẫu là 50, độ lệch chuẩn là 10\n",
        "samples = np.random.normal(50, 10 , 20)\n",
        "print(samples[:10])"
      ],
      "metadata": {
        "colab": {
          "base_uri": "https://localhost:8080/"
        },
        "id": "EgwiaxaoSUce",
        "outputId": "049464b2-4d63-49fd-cf93-be34582467cb"
      },
      "execution_count": 29,
      "outputs": [
        {
          "output_type": "stream",
          "name": "stdout",
          "text": [
            "[41.50755369 56.05997417 53.23295071 50.0285047  49.94467699 60.877816\n",
            " 37.27661319 44.38037285 56.62760241 45.01102431]\n"
          ]
        }
      ]
    },
    {
      "cell_type": "code",
      "source": [
        "#Xác định các thông số\n",
        "null_mean = 45\n",
        "alpha = 0.05"
      ],
      "metadata": {
        "id": "87R9d712XJol"
      },
      "execution_count": 30,
      "outputs": []
    },
    {
      "cell_type": "code",
      "source": [
        "#Kiểm định t\n",
        "t_statistic, p_value= stats.ttest_1samp(samples, null_mean)\n",
        "if(p_value <  alpha):\n",
        "  print(\"Có bằng chứng để bác bỏ giả thuyết H0\")\n",
        "else:\n",
        "  print(\"Chưa có bằng chứng để bác bỏ giả thuyết H0\")"
      ],
      "metadata": {
        "colab": {
          "base_uri": "https://localhost:8080/"
        },
        "id": "BUklgV20XMJt",
        "outputId": "9a3121ae-2649-4b64-a60e-d8399c3c6f93"
      },
      "execution_count": 31,
      "outputs": [
        {
          "output_type": "stream",
          "name": "stdout",
          "text": [
            "Có bằng chứng để bác bỏ giả thuyết H0\n"
          ]
        }
      ]
    },
    {
      "cell_type": "markdown",
      "source": [
        "Kiểm định giả thuyết 1-đuôi\n",
        "\n",
        "Bài toán: Giả sử lấy ra ngẫu nhiên 20 người bán hàng ở TP.HCM với công việc mỗi ngày là bán hàng và bán được trung bình mỗi ngày là 50 đơn hàng. Biết là ở Huế mỗi ngày mỗi người bán được 45 đơn và độ lệch chuẩn là 10. Liệu với độ tin cậy là 95% (hay hệ số sig - significance level) - 5%) có thể nhận định được người nào bán tốt hơn hay không ?\n",
        "Xây dựng giả thuyết\n",
        "\n",
        "$$H_{0}: \\mu = 45$$\n",
        "\n",
        "Giả thuyết thay thế: \n",
        "\n",
        "$$H_{a}: \\mu > 45 $$\n",
        "\n",
        "với:\n",
        "\n",
        "- Hệ số sig = 0.05\n",
        "- Chỉ số z tương ứng với hệ số sig ở trên là 1.645\n",
        "\n",
        "Công thức:\n",
        "$$Z = \\frac{(\\overline{\\rm X} - \\mu)}{(\\sigma / \\sqrt{n})}$$\n",
        "\n",
        "Áp dụng với các giá trị nêu trên:\n",
        "\n",
        "- $\\overline{\\rm X} = 50$\n",
        "- $\\mu = 45$\n",
        "- $\\sigma = 10$\n",
        "- $\\alpha = 0.025$\n",
        "- $n =20$\n",
        "\n",
        "$$Z = \\frac{(50 - 45)}{(10 / \\sqrt{20})} = 2.23$$\n",
        "\n",
        "Giá trị z = 2.23 > 1.645 nên có bằng chứng để bác bỏ giả thuyết $H_{0}$"
      ],
      "metadata": {
        "id": "0UKGz2uRXVrN"
      }
    },
    {
      "cell_type": "code",
      "source": [
        "#tiến hành Sinh ngẫu nhiên hai mẫu 20 phần tử có trung bình mẫu là 50, độ lệch chuẩn là 10\n",
        "samples_a = np.random.normal(50, 10 , 20)\n",
        "samples_b = np.random.normal(50, 10 , 20)\n",
        "print(samples_a)\n",
        "print(samples_b)"
      ],
      "metadata": {
        "id": "5Xl8xJ0SXYd-",
        "colab": {
          "base_uri": "https://localhost:8080/"
        },
        "outputId": "366ce50b-b95b-4b78-b1bf-e14cc77a42a5"
      },
      "execution_count": 42,
      "outputs": [
        {
          "output_type": "stream",
          "name": "stdout",
          "text": [
            "[47.9845205  46.7365856  53.8980916  48.95961462 44.88343331 60.75507257\n",
            " 53.60167371 53.36673424 55.64134208 58.76612221 57.96787712 55.05316443\n",
            " 60.46816985 45.19918195 54.03134665 48.31625871 35.08014462 45.26657677\n",
            " 61.9709371  29.28258896]\n",
            "[54.12561895 56.07403728 44.8040973  57.28105969 38.2319543  29.35800743\n",
            " 52.8546662  51.52406056 42.91113212 54.47253321 33.91689616 48.67856655\n",
            " 38.33347229 31.32649572 56.03490195 61.22100013 44.08214259 52.57342878\n",
            " 50.08417486 53.28104783]\n"
          ]
        }
      ]
    },
    {
      "cell_type": "code",
      "source": [
        "alpha = 0.05"
      ],
      "metadata": {
        "id": "vef-0oSaca59"
      },
      "execution_count": 43,
      "outputs": []
    },
    {
      "cell_type": "code",
      "source": [
        "t_statistic, p_value, df = ttest_ind(x1 = samples_a, x2 = samples_b, value = 50 - 45, alternative= \"smaller\")\n",
        "if  p_value <  alpha:\n",
        "  print(\"Có bằng chứng để bác bỏ giả thuyết H0\")\n",
        "else:\n",
        "  print(\"Chưa có bằng chứng để bác bỏ giả thuyết H0\")"
      ],
      "metadata": {
        "colab": {
          "base_uri": "https://localhost:8080/"
        },
        "id": "iFIJP82Pcq2-",
        "outputId": "fb063400-5bcc-499d-9d2e-bf16f19c282a"
      },
      "execution_count": 44,
      "outputs": [
        {
          "output_type": "stream",
          "name": "stdout",
          "text": [
            "Chưa có bằng chứng để bác bỏ giả thuyết H0\n"
          ]
        }
      ]
    }
  ]
}