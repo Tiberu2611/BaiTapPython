{
  "cells": [
    {
      "cell_type": "markdown",
      "metadata": {
        "id": "view-in-github",
        "colab_type": "text"
      },
      "source": [
        "<a href=\"https://colab.research.google.com/github/Tiberu2611/BaiTapPython/blob/main/bai_tap_kiem_dinh_z_t.ipynb\" target=\"_parent\"><img src=\"https://colab.research.google.com/assets/colab-badge.svg\" alt=\"Open In Colab\"/></a>"
      ]
    },
    {
      "cell_type": "code",
      "source": [
        "from scipy import stats\n",
        "import numpy as np\n",
        "import math\n",
        "from statsmodels.stats.weightstats import ztest"
      ],
      "metadata": {
        "colab": {
          "base_uri": "https://localhost:8080/"
        },
        "id": "vbblxgiRNszN",
        "outputId": "26836f3a-53b3-474b-e8ae-d168043ab3be"
      },
      "execution_count": 1,
      "outputs": [
        {
          "output_type": "stream",
          "name": "stderr",
          "text": [
            "/usr/local/lib/python3.7/dist-packages/statsmodels/tools/_testing.py:19: FutureWarning: pandas.util.testing is deprecated. Use the functions in the public API at pandas.testing instead.\n",
            "  import pandas.util.testing as tm\n"
          ]
        }
      ]
    },
    {
      "cell_type": "markdown",
      "metadata": {
        "id": "8tbU1aylkXUw"
      },
      "source": [
        "XÂY DỰNG CHƯƠNG TRÌNH KIỂM ĐỊNH Z (HOẶC T) CHO CÁC BÀI TẬP SAU\n",
        "\n",
        "Gợi ý:\n",
        "\n",
        "- Số liệu được sinh ngẫu nhiên theo phân phối chuẩn\n",
        "- Sử dụng gói phần mềm statsmodels để tiến hành kiểm định\n",
        "- Đối với các bài tập kiểm định giả thuyết thì sinh viên cần phát biểu các giả thuyết (bằng tiếng Việt) $H_{0}$ và $H_{a}$ trước khi lập trình kiểm định"
      ]
    },
    {
      "cell_type": "markdown",
      "metadata": {
        "id": "Bk7b3O63kXU6"
      },
      "source": [
        "Bài 1: You’re a Q/C inspector for Gallo. The sample standard deviation for 2-liter bottles is .05 liters.  A random sample of 100 bottles showed sasmple mean = 1.99 liters.  What is the 90%  confidence interval estimate of the true mean amount in 2-liter bottles? "
      ]
    },
    {
      "cell_type": "code",
      "execution_count": 2,
      "metadata": {
        "id": "GdJJ5AJGkXU7",
        "colab": {
          "base_uri": "https://localhost:8080/"
        },
        "outputId": "04efa2a7-d8d5-4417-9d8a-81879d28b3f1"
      },
      "outputs": [
        {
          "output_type": "execute_result",
          "data": {
            "text/plain": [
              "(1.6221995477099427, 2.357800452290057)"
            ]
          },
          "metadata": {},
          "execution_count": 2
        }
      ],
      "source": [
        "sample_mean = 1.99\n",
        "sample_std = 0.05\n",
        "# Tính sai số chuẩn:\n",
        "std_err = sample_std / (math.sqrt(sample_std))\n",
        "stats.norm.interval(alpha= 0.90, loc = sample_mean, scale = std_err)"
      ]
    },
    {
      "cell_type": "markdown",
      "metadata": {
        "id": "oayP4VuskXU-"
      },
      "source": [
        "Bài 2: You’re a time study analyst in manufacturing.  You’ve recorded the following task times (min.): 3.6, 4.2, 4.0, 3.5, 3.8, 3.1. What is the 90% confidence interval estimate of the population mean task time? "
      ]
    },
    {
      "cell_type": "code",
      "execution_count": 3,
      "metadata": {
        "id": "Xai4Q-ahkXU-",
        "colab": {
          "base_uri": "https://localhost:8080/"
        },
        "outputId": "e45ea612-ba50-4814-cf2b-292fbd56896d"
      },
      "outputs": [
        {
          "output_type": "execute_result",
          "data": {
            "text/plain": [
              "(3.3792758632100677, 4.020724136789934)"
            ]
          },
          "metadata": {},
          "execution_count": 3
        }
      ],
      "source": [
        "sample_data = [3.6, 4.2, 4, 3.5, 3.8, 3.1]\n",
        "# Cỡ mẫu:\n",
        "sample_n = 6\n",
        "# Trung bình mẫu:\n",
        "sample_mean = np.mean(sample_data)\n",
        "# Sai số chuẩn của mẫu\n",
        "std_err = stats.sem(sample_data)\n",
        "stats.t.interval(alpha = 0.90,df = sample_n - 1, loc = sample_mean, scale = std_err)"
      ]
    },
    {
      "cell_type": "markdown",
      "metadata": {
        "id": "HXI_qNoukXU_"
      },
      "source": [
        "Bài 3: Does an average box of cereal contain 368 grams of cereal?  A random sample of 25 boxes had $\\overline{\\rm x}$ = 372.5.  The company has specified $\\sigma$ to be 25 grams.  Test at the .05 level of significance."
      ]
    },
    {
      "cell_type": "markdown",
      "source": [
        "Xây dựng giả thuyết\n",
        "\n",
        "$$H_{0}: \\mu = 368$$\n",
        "\n",
        "Giả thuyết thay thế: \n",
        "\n",
        "$$H_{a}: \\mu \\ne  368 $$\n",
        "với:\n",
        "\n",
        "- Hệ số sig = 0.05\n",
        "- Chỉ số z tương ứng với hệ số sig ở trên là 1.645"
      ],
      "metadata": {
        "id": "HngMx0ttPNW9"
      }
    },
    {
      "cell_type": "code",
      "execution_count": 6,
      "metadata": {
        "id": "O6xRAH4akXVA",
        "colab": {
          "base_uri": "https://localhost:8080/"
        },
        "outputId": "4cd19b82-4299-4533-d98a-eeade55543f5"
      },
      "outputs": [
        {
          "output_type": "stream",
          "name": "stdout",
          "text": [
            "[383.62258532 390.20674061 380.26124498 406.38213335 438.51837204\n",
            " 364.9391233  418.54288506 335.24134775 380.09922835 372.96627515\n",
            " 375.33942826 406.49954473 375.92311123 378.21397228 332.9831489\n",
            " 397.92791165 379.89929776 347.42653927 364.67434423 393.22205064\n",
            " 386.91896609 405.85727681 325.63391001 415.36137167 392.33312101]\n"
          ]
        }
      ],
      "source": [
        "# Tạo mẫu:\n",
        "sample = np.random.normal(loc = 372.5, scale = 25, size = 25)\n",
        "print(sample)"
      ]
    },
    {
      "cell_type": "code",
      "source": [
        "null_mean = 368\n",
        "alpha = 0.05"
      ],
      "metadata": {
        "id": "8xaJ3q6bQGZb"
      },
      "execution_count": 10,
      "outputs": []
    },
    {
      "cell_type": "code",
      "source": [
        "# Kiểm định z:\n",
        "ztest_Score, p_value= ztest(sample, value = null_mean, alternative='two-sided')\n",
        "print(p_value)\n",
        "if(p_value <  alpha):\n",
        "  print(\"Có bằng chứng để bác bỏ giả thuyết H0\")\n",
        "else:\n",
        "  print(\"Chưa có bằng chứng để bác bỏ giả thuyết H0\")"
      ],
      "metadata": {
        "colab": {
          "base_uri": "https://localhost:8080/"
        },
        "id": "vz3yu27MPMKs",
        "outputId": "9cebe0ee-d330-4a97-b8a2-75b1ac4f5fcf"
      },
      "execution_count": 11,
      "outputs": [
        {
          "output_type": "stream",
          "name": "stdout",
          "text": [
            "0.010224024610884766\n",
            "Có bằng chứng để bác bỏ giả thuyết H0\n"
          ]
        }
      ]
    },
    {
      "cell_type": "markdown",
      "metadata": {
        "id": "gQvvpzwNkXVC"
      },
      "source": [
        "Bài 4: You’re a Q/C inspector.  You want to find out if a new machine is making electrical cords to customer specification: average breaking strength of 70 lb. with $\\sigma$ = 3.5 lb.  You take a sample of 36 cords & compute a sample mean of 69.7 lb.  At the .05 level of significance, is there evidence that the machine is not meeting the average breaking strength?"
      ]
    },
    {
      "cell_type": "markdown",
      "source": [
        "Xây dựng giả thuyết\n",
        "\n",
        "$$H_{0}: \\mu = 70$$\n",
        "\n",
        "Giả thuyết thay thế: \n",
        "\n",
        "$$H_{a}: \\mu \\ne  70 $$\n",
        "với:\n",
        "\n",
        "- Hệ số sig = 0.05\n",
        "- Chỉ số z tương ứng với hệ số sig ở trên là 1.645"
      ],
      "metadata": {
        "id": "MY7k1uhfQ0Wz"
      }
    },
    {
      "cell_type": "code",
      "execution_count": 13,
      "metadata": {
        "id": "MBoA0myckXVD",
        "colab": {
          "base_uri": "https://localhost:8080/"
        },
        "outputId": "b0dadaa0-2d94-467c-ac2a-321572fbe7dc"
      },
      "outputs": [
        {
          "output_type": "stream",
          "name": "stdout",
          "text": [
            "[70.48497815 72.34238024 68.7275806  68.27165123 67.13528811 70.28688652\n",
            " 67.13648793 74.23968065 68.83403225 69.95203179 72.01614081 67.88899273\n",
            " 64.05806084 73.59141324 67.14911077 71.39730279 72.65909288 72.99976678\n",
            " 70.14547955 70.10033139 74.53539101 63.84746918 72.65227993 67.63711448\n",
            " 69.98318914 71.05381223 68.91474401 73.7274214  70.7477603  70.75089725\n",
            " 70.33053926 69.29555616 66.25789992 72.20331536 68.91989719 71.71933524]\n"
          ]
        }
      ],
      "source": [
        "# Tạo mẫu:\n",
        "sample = np.random.normal(loc = 69.7, scale = 3.5, size = 36)\n",
        "print(sample)"
      ]
    },
    {
      "cell_type": "code",
      "source": [
        "#Xác định các thông số\n",
        "null_mean = 70\n",
        "alpha = 0.05"
      ],
      "metadata": {
        "id": "OLMxRN1jQ7LT"
      },
      "execution_count": 14,
      "outputs": []
    },
    {
      "cell_type": "code",
      "source": [
        "# Kiểm định z:\n",
        "ztest_Score, p_value= ztest(sample, value = null_mean, alternative='two-sided')\n",
        "print(p_value)\n",
        "if(p_value <  alpha):\n",
        "  print(\"Có bằng chứng để bác bỏ giả thuyết H0\")\n",
        "else:\n",
        "  print(\"Chưa có bằng chứng để bác bỏ giả thuyết H0\")"
      ],
      "metadata": {
        "colab": {
          "base_uri": "https://localhost:8080/"
        },
        "id": "fdORPydsQ-fi",
        "outputId": "0c655f43-86c6-41a8-aab9-e2e649f7fe14"
      },
      "execution_count": 19,
      "outputs": [
        {
          "output_type": "stream",
          "name": "stdout",
          "text": [
            "0.8992289182394538\n",
            "Chưa có bằng chứng để bác bỏ giả thuyết H0\n"
          ]
        }
      ]
    },
    {
      "cell_type": "markdown",
      "metadata": {
        "id": "EOM_dhsVkXVE"
      },
      "source": [
        "Bài 5: Does an average box of cereal contain more than 368 grams of cereal?  A random sample of 25 boxes showed $\\overline{\\rm x}$ =  372.5.  The company has specified $\\sigma$ to be 25 grams.  Test at the .05 level of significance."
      ]
    },
    {
      "cell_type": "markdown",
      "source": [
        "Xây dựng giả thuyết\n",
        "\n",
        "$$H_{0}: \\mu = 368$$\n",
        "\n",
        "Giả thuyết thay thế: \n",
        "\n",
        "$$H_{a}: \\mu \\ne  368 $$\n",
        "với:\n",
        "\n",
        "- Hệ số sig = 0.05\n",
        "- Chỉ số z tương ứng với hệ số sig ở trên là 1.645"
      ],
      "metadata": {
        "id": "g18DNRDtVg_h"
      }
    },
    {
      "cell_type": "code",
      "execution_count": 20,
      "metadata": {
        "id": "Eowat_mMkXVL",
        "colab": {
          "base_uri": "https://localhost:8080/"
        },
        "outputId": "e7d23c36-16a5-48e7-dada-afb102d41642"
      },
      "outputs": [
        {
          "output_type": "stream",
          "name": "stdout",
          "text": [
            "[352.56782847 351.1940252  365.4545792  405.55311725 403.62746068\n",
            " 410.50816769 374.67270546 376.07819696 352.52480468 390.36845223\n",
            " 418.82831316 370.56079693 344.06166116 355.30017058 403.8479931\n",
            " 344.33622207 379.38633624 327.48138629 413.59471805 371.63420946\n",
            " 357.04052148 329.90916912 402.4826845  389.81566146 349.94197528]\n"
          ]
        }
      ],
      "source": [
        "# Tạo mẫu:\n",
        "sample = np.random.normal(loc = 372.5, scale = 25, size = 25)\n",
        "print(sample)"
      ]
    },
    {
      "cell_type": "code",
      "source": [
        "# Xác định các thông số:\n",
        "null_mean = 368\n",
        "alpha = 0.05"
      ],
      "metadata": {
        "id": "e_wSaZdtVxS4"
      },
      "execution_count": 21,
      "outputs": []
    },
    {
      "cell_type": "code",
      "source": [
        "# Kiểm định t:\n",
        "ztest_Score, p_value= ztest(sample, value = null_mean, alternative='larger')\n",
        "print(p_value)\n",
        "if(p_value <  alpha):\n",
        "  print(\"Có bằng chứng để bác bỏ giả thuyết H0\")\n",
        "else:\n",
        "  print(\"Chưa có bằng chứng để bác bỏ giả thuyết H0\")"
      ],
      "metadata": {
        "colab": {
          "base_uri": "https://localhost:8080/"
        },
        "id": "L2QRpNjuV0u8",
        "outputId": "c48259f7-d6ce-478e-f37d-4a6c35650a19"
      },
      "execution_count": 23,
      "outputs": [
        {
          "output_type": "stream",
          "name": "stdout",
          "text": [
            "0.149697225014792\n",
            "Chưa có bằng chứng để bác bỏ giả thuyết H0\n"
          ]
        }
      ]
    },
    {
      "cell_type": "markdown",
      "metadata": {
        "id": "wNJll4Z6kXVT"
      },
      "source": [
        "Bài 6: You’re an analyst for Ford.  You want to find out if the average miles per gallon of Escorts is at least 32 mpg. Similar models have a standard deviation of 3.8 mpg. You take a sample of 60 Escorts & compute a sample mean of 30.7 mpg. At the .01 level of significance, is there evidence that the miles per gallon is less than 32?"
      ]
    },
    {
      "cell_type": "markdown",
      "source": [
        "Xây dựng giả thuyết\n",
        "\n",
        "$$H_{0}: \\mu = 32$$\n",
        "\n",
        "Giả thuyết thay thế: \n",
        "\n",
        "$$H_{a}: \\mu < 32 $$"
      ],
      "metadata": {
        "id": "yIJa1NhwYDdf"
      }
    },
    {
      "cell_type": "code",
      "execution_count": 29,
      "metadata": {
        "id": "v_Ti7D30kXVU",
        "colab": {
          "base_uri": "https://localhost:8080/"
        },
        "outputId": "1faa2dba-2441-4605-bcca-c7a48b6ee075"
      },
      "outputs": [
        {
          "output_type": "stream",
          "name": "stdout",
          "text": [
            "[31.65049722 28.71315138 30.53906664 37.55750038 30.20311017 31.0726892\n",
            " 33.81808414 31.64789171 28.96372219 25.4199036  29.86965171 33.79848793\n",
            " 26.04888218 36.42497354 31.22451959 32.8283173  30.05742062 34.97399192\n",
            " 30.81215861 32.23622217 30.35880385 34.89438121 27.38642482 31.40051925\n",
            " 24.34400012 27.67149081 29.10041504 38.50792467 30.44385607 28.01095489\n",
            " 30.58298079 21.77242726 26.04140787 30.36715199 34.36456432 28.8515779\n",
            " 30.2442962  27.26094062 39.03116524 31.81158144 29.77264015 34.04237322\n",
            " 28.29530982 24.73233421 34.68166012 33.80529009 32.5251619  32.74926599\n",
            " 33.39339841 23.66417188 31.38508406 26.89812931 34.42298942 26.39093934\n",
            " 31.31571602 35.93362154 29.2228733  32.01811386 35.38006498 25.7870292 ]\n"
          ]
        }
      ],
      "source": [
        "# Tạo mẫu:\n",
        "sample = np.random.normal(loc = 30.7, scale = 3.8, size = 60)\n",
        "print(sample)"
      ]
    },
    {
      "cell_type": "code",
      "source": [
        "# Xác định các thông số:\n",
        "null_mean = 32\n",
        "alpha = 0.01"
      ],
      "metadata": {
        "id": "JWXc5M1MYMk0"
      },
      "execution_count": 30,
      "outputs": []
    },
    {
      "cell_type": "code",
      "source": [
        "# Kiểm định z:\n",
        "ztest_Score, p_value= ztest(sample, value = null_mean, alternative='smaller')\n",
        "print(p_value)\n",
        "if(p_value <  alpha):\n",
        "  print(\"Có bằng chứng để bác bỏ giả thuyết H0\")\n",
        "else:\n",
        "  print(\"Chưa có bằng chứng để bác bỏ giả thuyết H0\")"
      ],
      "metadata": {
        "colab": {
          "base_uri": "https://localhost:8080/"
        },
        "id": "cnUxoL3NYRZg",
        "outputId": "9c60c989-51db-43cf-8eec-80f5b0833f70"
      },
      "execution_count": 32,
      "outputs": [
        {
          "output_type": "stream",
          "name": "stdout",
          "text": [
            "0.005167777161824162\n",
            "Có bằng chứng để bác bỏ giả thuyết H0\n"
          ]
        }
      ]
    },
    {
      "cell_type": "markdown",
      "metadata": {
        "id": "mfaz9pYHkXVX"
      },
      "source": [
        "Bài 7: Does an average box of cereal contain 368 grams of cereal?  A random sample of 25 boxes showed $\\overline{\\rm x}$ = 372.5.  The company has specified $\\sigma$ to be 15 grams.  Find the p-Value."
      ]
    },
    {
      "cell_type": "markdown",
      "source": [
        "Xây dựng giả thuyết\n",
        "\n",
        "$$H_{0}: \\mu = 368$$\n",
        "\n",
        "Giả thuyết thay thế: \n",
        "\n",
        "$$H_{a}: \\mu \\ne  368 $$"
      ],
      "metadata": {
        "id": "z5hwS6xsYhmY"
      }
    },
    {
      "cell_type": "code",
      "execution_count": 37,
      "metadata": {
        "id": "ws-6SCAgkXVY",
        "colab": {
          "base_uri": "https://localhost:8080/"
        },
        "outputId": "cb1a3515-90ed-4858-957d-f25befbee488"
      },
      "outputs": [
        {
          "output_type": "stream",
          "name": "stdout",
          "text": [
            "[374.8017328  398.43390273 345.42114417 365.0253596  389.77338904\n",
            " 351.17745581 374.99517226 356.61721532 373.51033637 389.61736406\n",
            " 381.8125428  395.29087216 352.43589872 387.86088701 376.83796902\n",
            " 387.25538627 367.0920577  394.77554522 361.58153731 403.15793492\n",
            " 362.89670938 360.63705157 362.02456404 385.74597072 369.49143918]\n"
          ]
        }
      ],
      "source": [
        "# Tạo mẫu:\n",
        "sample = np.random.normal(loc = 372.5, scale = 15, size = 25)\n",
        "print(sample)"
      ]
    },
    {
      "cell_type": "code",
      "source": [
        "# Xác định thông số:\n",
        "null_mean = 368"
      ],
      "metadata": {
        "id": "VUcYnY17Yq2X"
      },
      "execution_count": 38,
      "outputs": []
    },
    {
      "cell_type": "code",
      "source": [
        "ztest_Score, p_value= ztest(sample, value = null_mean , alternative='two-sided')\n",
        "print('p-value: ', p_value)"
      ],
      "metadata": {
        "colab": {
          "base_uri": "https://localhost:8080/"
        },
        "id": "kIHI7WiUYvDF",
        "outputId": "c8fac301-20cb-41d3-94db-774feb79d1ef"
      },
      "execution_count": 39,
      "outputs": [
        {
          "output_type": "stream",
          "name": "stdout",
          "text": [
            "p-value:  0.036893404627944035\n"
          ]
        }
      ]
    },
    {
      "cell_type": "markdown",
      "metadata": {
        "id": "LRbfB2UpkXVZ"
      },
      "source": [
        "Bài 8: Does an average box of cereal contain more than 368 grams of cereal?  A random sample of 25 boxes showed $\\overline{\\rm x}$ = 372.5.  The company has specified $\\sigma$ to be 15 grams.  Find the p-Value."
      ]
    },
    {
      "cell_type": "markdown",
      "source": [
        "Xây dựng giả thuyết\n",
        "\n",
        "$$H_{0}: \\mu = 368$$\n",
        "\n",
        "Giả thuyết thay thế: \n",
        "\n",
        "$$H_{a}: \\mu \\ne  368 $$"
      ],
      "metadata": {
        "id": "wjLfTXSZZGUb"
      }
    },
    {
      "cell_type": "code",
      "execution_count": 43,
      "metadata": {
        "id": "eO2QOnn7kXVa",
        "colab": {
          "base_uri": "https://localhost:8080/"
        },
        "outputId": "d51fc4d9-d108-4a85-f8cd-d6ccd6235d58"
      },
      "outputs": [
        {
          "output_type": "stream",
          "name": "stdout",
          "text": [
            "[375.00405815 382.9736517  380.3341665  400.80623412 377.44632683\n",
            " 382.92020457 388.28680388 375.6956523  394.79968219 376.27313522\n",
            " 403.6956321  357.70962501 364.19912793 394.04746971 387.41179031\n",
            " 368.96932326 389.3523004  367.18131134 372.67348376 383.63709751\n",
            " 374.77582176 369.74441607 345.48858783 376.3172326  360.47077675]\n"
          ]
        }
      ],
      "source": [
        "# Tạo mẫu:\n",
        "sample = np.random.normal(loc = 372.5, scale = 15, size = 25)\n",
        "print(sample)"
      ]
    },
    {
      "cell_type": "code",
      "source": [
        "# Xác định thông số:\n",
        "null_mean = 368"
      ],
      "metadata": {
        "id": "8mzMBLpjZLsr"
      },
      "execution_count": 44,
      "outputs": []
    },
    {
      "cell_type": "code",
      "source": [
        "ztest_Score, p_value= ztest(sample, value = null_mean , alternative='two-sided')\n",
        "print('p-value: ', p_value)"
      ],
      "metadata": {
        "colab": {
          "base_uri": "https://localhost:8080/"
        },
        "id": "mLwkvXUSZMxL",
        "outputId": "38b3048c-c347-4413-d91f-afa257eef5b3"
      },
      "execution_count": 46,
      "outputs": [
        {
          "output_type": "stream",
          "name": "stdout",
          "text": [
            "p-value:  0.0002271586627048638\n"
          ]
        }
      ]
    },
    {
      "cell_type": "markdown",
      "metadata": {
        "id": "9kk2ng5-kXVa"
      },
      "source": [
        "Bài 9: You’re an analyst for Ford.  You want to find out if the average miles per gallon of Escorts is less than 32 mpg.   Similar models have a standard deviation of 3.8 mpg.  You take a sample of 60 Escorts & compute a sample mean of 30.7 mpg.  What is the value of the observed level of significance (p-Value)?"
      ]
    },
    {
      "cell_type": "markdown",
      "source": [
        "Xây dựng giả thuyết\n",
        "\n",
        "$$H_{0}: \\mu = 32$$\n",
        "\n",
        "Giả thuyết thay thế: \n",
        "\n",
        "$$H_{a}: \\mu < 32 $$"
      ],
      "metadata": {
        "id": "F7nYLyN2ZgxL"
      }
    },
    {
      "cell_type": "code",
      "execution_count": 47,
      "metadata": {
        "id": "e93LjnszkXVc",
        "colab": {
          "base_uri": "https://localhost:8080/"
        },
        "outputId": "fe211000-c412-414b-94d8-42745f4e7c74"
      },
      "outputs": [
        {
          "output_type": "stream",
          "name": "stdout",
          "text": [
            "[28.9082591  34.39688424 32.82156081 32.52964908 37.61504641 32.2940407\n",
            " 35.67747098 31.02922595 27.80280263 36.52336045 29.4923781  34.386917\n",
            " 25.76675149 33.60735433 32.60744035 31.80976419 35.94104662 29.96226077\n",
            " 33.80870835 28.56124077 26.91470155 36.31251204 36.24313578 29.76377825\n",
            " 31.80565076 27.44620674 27.62944134 27.86082944 23.74685207 35.8537616\n",
            " 34.41115322 32.45352436 28.56567395 33.61205855 33.15165955 34.69911639\n",
            " 32.11392299 31.47592254 33.02747973 22.70005631 24.04787601 34.65814835\n",
            " 33.83147607 32.8505289  30.47754389 34.60489832 27.33816409 34.99857443\n",
            " 32.58815662 26.56152575 33.65899207 28.4358251  27.0604207  36.07424773\n",
            " 37.32938127 29.42073038 29.24525262 35.03070653 31.1366095  32.09813771]\n"
          ]
        }
      ],
      "source": [
        "# Tạo mẫu:\n",
        "sample = np.random.normal(loc = 30.7, scale = 3.8, size = 60)\n",
        "print(sample)"
      ]
    },
    {
      "cell_type": "code",
      "source": [
        "# Xác định các thông số:\n",
        "null_mean = 32"
      ],
      "metadata": {
        "id": "CAmNTzUMZpWj"
      },
      "execution_count": 48,
      "outputs": []
    },
    {
      "cell_type": "code",
      "source": [
        "# Kiểm định z:\n",
        "ztest_Score, p_value= ztest(sample, value = null_mean, alternative='smaller')\n",
        "print(\"p-value: \",p_value)"
      ],
      "metadata": {
        "colab": {
          "base_uri": "https://localhost:8080/"
        },
        "id": "xowsjlZaZsn8",
        "outputId": "4863f56e-71b2-411e-e113-b517a3128231"
      },
      "execution_count": 50,
      "outputs": [
        {
          "output_type": "stream",
          "name": "stdout",
          "text": [
            "p-value:  0.2013745830537872\n"
          ]
        }
      ]
    },
    {
      "cell_type": "markdown",
      "metadata": {
        "id": "hKkRkouakXVd"
      },
      "source": [
        "Bài 10: Does an average box of cereal contain 368 grams of cereal?  A random sample of 36 boxes had a mean of 372.5 and a standard deviation of 12 grams. Test at the .05 level of significance."
      ]
    },
    {
      "cell_type": "markdown",
      "source": [
        "Xây dựng giả thuyết\n",
        "\n",
        "$$H_{0}: \\mu = 368$$\n",
        "\n",
        "Giả thuyết thay thế: \n",
        "\n",
        "$$H_{a}: \\mu \\ne  368 $$"
      ],
      "metadata": {
        "id": "JXh6_Ki4Z5Gb"
      }
    },
    {
      "cell_type": "code",
      "execution_count": 51,
      "metadata": {
        "id": "6Wh9ylackXVd",
        "colab": {
          "base_uri": "https://localhost:8080/"
        },
        "outputId": "57ecdd62-9f6b-4eb2-c9d8-6959872bdf18"
      },
      "outputs": [
        {
          "output_type": "stream",
          "name": "stdout",
          "text": [
            "[395.37208539 377.17391571 363.50952253 390.35706326 384.67391462\n",
            " 378.24635149 370.21899046 382.49981276 387.31551503 382.71669829\n",
            " 386.13173509 370.45961792 381.67908968 358.0069521  380.4617759\n",
            " 370.78082578 384.19493072 377.75580859 393.80289191 356.55226247\n",
            " 348.6607245  364.71703451 375.42940521 380.54228865 342.9087662\n",
            " 366.68836534 362.91056249 362.46520399 377.57077135 382.310866\n",
            " 368.52970961 368.31664337 358.3397338  388.8460844  351.41640129\n",
            " 383.17386636]\n"
          ]
        }
      ],
      "source": [
        "# Tạo mẫu:\n",
        "sample = np.random.normal(loc = 372.5, scale = 12, size = 36)\n",
        "print(sample)"
      ]
    },
    {
      "cell_type": "code",
      "source": [
        "# Xác định các thông số:\n",
        "null_mean = 368\n",
        "alpha = 0.05"
      ],
      "metadata": {
        "id": "PiBjvfspZ91L"
      },
      "execution_count": 52,
      "outputs": []
    },
    {
      "cell_type": "code",
      "source": [
        "# Tạo hàm t_test:\n",
        "def t_test(sample, hypoth_value, sig_level, test_type):\n",
        "    sample_mean = sample.mean()\n",
        "    sample_st_dev = sample.std()\n",
        "    sample_size = len(sample)\n",
        "    test_statistic = (sample_mean - hypoth_value) / \\\n",
        "                     (sample_st_dev/(math.sqrt(sample_size)))\n",
        "    if test_type == 'larger':\n",
        "        p_value = stats.t.cdf(test_statistic,df=sample_size-1)\n",
        "    if test_type == 'smaller':\n",
        "        p_value = 1 - stats.t.cdf(test_statistic,df=sample_size-1)\n",
        "    if test_type == 'two-sided':\n",
        "        p_value = 2 * (1 - stats.t.cdf(abs(test_statistic), \\\n",
        "                                    df=sample_size-1))\n",
        "    print(f'P Value = {p_value}')\n",
        "    if p_value < sig_level:\n",
        "        print(\"Có bằng chứng để bác bỏ giả thuyết H0\")\n",
        "    else:\n",
        "        print(\"Chưa có bằng chứng để bác bỏ giả thuyết H0\")"
      ],
      "metadata": {
        "id": "u8GXywtiaATr"
      },
      "execution_count": 67,
      "outputs": []
    },
    {
      "cell_type": "code",
      "source": [
        "# Kiểm định t\n",
        "t_test(sample, null_mean, alpha, \"two-sided\")"
      ],
      "metadata": {
        "colab": {
          "base_uri": "https://localhost:8080/"
        },
        "id": "8L6rZL7UbTo_",
        "outputId": "c353774a-d31d-4ba5-b1a7-b8ee6395f78c"
      },
      "execution_count": 68,
      "outputs": [
        {
          "output_type": "stream",
          "name": "stdout",
          "text": [
            "P Value = 0.6230226745445471\n",
            "Chưa có bằng chứng để bác bỏ giả thuyết H0\n"
          ]
        }
      ]
    },
    {
      "cell_type": "markdown",
      "metadata": {
        "id": "ZnpnK7ZOkXVd"
      },
      "source": [
        "Bài 11: You work for the FTC.  A manufacturer of detergent claims that the mean weight of detergent is 3.25 lb.  You take a random sample of 64 containers.  You calculate the sample average to be 3.238 lb. with a standard deviation of .117 lb.  At the .01 level of significance, is the manufacturer correct?"
      ]
    },
    {
      "cell_type": "markdown",
      "source": [
        "Xây dựng giả thuyết\n",
        "\n",
        "$$H_{0}: \\mu = 3.25$$\n",
        "\n",
        "Giả thuyết thay thế: \n",
        "\n",
        "$$H_{a}: \\mu \\ne 3.25 $$"
      ],
      "metadata": {
        "id": "UD0D2iWMcdEJ"
      }
    },
    {
      "cell_type": "code",
      "execution_count": 58,
      "metadata": {
        "id": "u_qmcPnckXVe",
        "colab": {
          "base_uri": "https://localhost:8080/"
        },
        "outputId": "7eb742bb-ea2d-4eab-f807-3970b4bb6fb8"
      },
      "outputs": [
        {
          "output_type": "stream",
          "name": "stdout",
          "text": [
            "[3.19689659 3.0016207  3.15379754 3.4324615  3.18427862 3.0771048\n",
            " 3.23815553 3.18836201 3.03009102 3.2699108  3.19957558 3.16883423\n",
            " 3.2991671  3.26207322 3.27041254 3.27331978 3.24170289 3.14244908\n",
            " 3.30431644 3.19447086 3.21006454 3.28642918 3.14033015 3.26153869\n",
            " 3.16486016 3.2960442  3.38176742 3.30032028 3.43742014 3.09754242\n",
            " 3.2171664  3.4874294  3.11302902 2.95514424 3.36425316 3.20446303\n",
            " 3.19884532 3.40936474 3.26241603 3.13585753 3.38341542 3.22321045\n",
            " 3.34815702 3.20456766 3.11193742 3.30494212 3.28091305 3.50440825\n",
            " 3.18093853 3.0654789  3.26396281 3.37552764 3.29455243 3.25946424\n",
            " 3.30127123 3.25633463 3.38932327 3.44791968 3.25246996 3.1228484\n",
            " 3.27125815 3.43090026 3.07121276 3.14023894]\n"
          ]
        }
      ],
      "source": [
        "# Tạo mẫu:\n",
        "sample = np.random.normal(loc = 3.238, scale = 0.117, size = 64)\n",
        "print(sample)\n"
      ]
    },
    {
      "cell_type": "code",
      "source": [
        "# Xác định các thông số:\n",
        "null_mean = 3.25\n",
        "alpha = 0.01"
      ],
      "metadata": {
        "id": "RdUm603scoHy"
      },
      "execution_count": 59,
      "outputs": []
    },
    {
      "cell_type": "code",
      "source": [
        "# Kiểm định t\n",
        "t_test(sample, null_mean, alpha, \"two-sided\")"
      ],
      "metadata": {
        "colab": {
          "base_uri": "https://localhost:8080/"
        },
        "id": "tMxRUI1Fcs12",
        "outputId": "e2f0dafe-abf0-4eb1-ce34-e8f74c9b115a"
      },
      "execution_count": 61,
      "outputs": [
        {
          "output_type": "stream",
          "name": "stdout",
          "text": [
            "P Value = 0.6230226745445471\n",
            "Chưa có bằng chứng để bác bỏ giả thuyết H0\n"
          ]
        }
      ]
    },
    {
      "cell_type": "markdown",
      "metadata": {
        "id": "9-z1rHoBkXVe"
      },
      "source": [
        "Bài 12: Is the average capacity of batteries less than 140 ampere-hours?  A random sample of 20 batteries had a mean of 138.47 and a standard deviation of 2.66.  Assume a normal distribution. Test at the .05 level of significance."
      ]
    },
    {
      "cell_type": "markdown",
      "source": [
        "Xây dựng giả thuyết\n",
        "\n",
        "$$H_{0}: \\mu = 140$$\n",
        "\n",
        "Giả thuyết thay thế: \n",
        "\n",
        "$$H_{a}: \\mu < 140 $$"
      ],
      "metadata": {
        "id": "m8uqD9iNjyqs"
      }
    },
    {
      "cell_type": "code",
      "execution_count": 69,
      "metadata": {
        "id": "0hdNSx-zkXVe",
        "colab": {
          "base_uri": "https://localhost:8080/"
        },
        "outputId": "22b749a9-3b49-4d9f-f332-a66c126c06ec"
      },
      "outputs": [
        {
          "output_type": "stream",
          "name": "stdout",
          "text": [
            "[142.52361346 133.94456255 136.61625428 138.28637657 140.79213807\n",
            " 139.81061682 133.73620832 141.30954293 138.5532979  136.2236428\n",
            " 138.00232968 135.31917384 136.74068961 144.43037931 137.38255582\n",
            " 141.36176468 139.31049176 140.09794446 134.99856712 139.50064244]\n"
          ]
        }
      ],
      "source": [
        "# Tạo mẫu:\n",
        "sample = np.random.normal(loc = 138.47, scale = 2.66, size = 20)\n",
        "print(sample)"
      ]
    },
    {
      "cell_type": "code",
      "source": [
        "# Xác định các thông số:\n",
        "null_mean = 140\n",
        "alpha = 0.05"
      ],
      "metadata": {
        "id": "tDEKVQLakA2x"
      },
      "execution_count": 71,
      "outputs": []
    },
    {
      "cell_type": "code",
      "source": [
        "# Kiểm định t\n",
        "t_test(sample, null_mean, alpha, \"smaller\")"
      ],
      "metadata": {
        "colab": {
          "base_uri": "https://localhost:8080/"
        },
        "id": "-J6d_os0kENw",
        "outputId": "3d7983b7-128a-434e-a2de-e300ce4f0f25"
      },
      "execution_count": 73,
      "outputs": [
        {
          "output_type": "stream",
          "name": "stdout",
          "text": [
            "P Value = 0.9884892941896072\n",
            "Chưa có bằng chứng để bác bỏ giả thuyết H0\n"
          ]
        }
      ]
    },
    {
      "cell_type": "markdown",
      "metadata": {
        "id": "pdBHzGWJkXVf"
      },
      "source": [
        "Bài 13: You’re a marketing analyst for Wal-Mart.  Wal-Mart had teddy bears on sale last week.  The weekly sales of bears sold in 10 stores was: 8  11  0   4   7   8   10   5   8   3. At the .05 level of significance, is there evidence that the average bear sales per store is more than 5?"
      ]
    },
    {
      "cell_type": "markdown",
      "source": [
        "Xây dựng giả thuyết\n",
        "\n",
        "$$H_{0}: \\mu = 5$$\n",
        "\n",
        "Giả thuyết thay thế: \n",
        "\n",
        "$$H_{a}: \\mu > 5 $$"
      ],
      "metadata": {
        "id": "SiTQcFYdkQGK"
      }
    },
    {
      "cell_type": "code",
      "execution_count": 78,
      "metadata": {
        "id": "uIoKsQvYkXVf"
      },
      "outputs": [],
      "source": [
        "# Tạo mẫu:\n",
        "sample = np.array([8, 11, 0, 4, 7, 8, 10, 5, 8, 3])"
      ]
    },
    {
      "cell_type": "code",
      "execution_count": 79,
      "metadata": {
        "id": "dNLGnYvzkXVf"
      },
      "outputs": [],
      "source": [
        "# Xác định các thông số:\n",
        "null_mean = 5\n",
        "alpha = 0.05"
      ]
    },
    {
      "cell_type": "code",
      "source": [
        "# Kiểm định t\n",
        "t_test(sample, null_mean, alpha, \"larger\")"
      ],
      "metadata": {
        "colab": {
          "base_uri": "https://localhost:8080/"
        },
        "id": "w8vP28ldkaWj",
        "outputId": "ecc63637-e268-4b4b-ce2f-fdd55f879df4"
      },
      "execution_count": 80,
      "outputs": [
        {
          "output_type": "stream",
          "name": "stdout",
          "text": [
            "P Value = 0.9000692281134371\n",
            "Chưa có bằng chứng để bác bỏ giả thuyết H0\n"
          ]
        }
      ]
    }
  ],
  "metadata": {
    "kernelspec": {
      "display_name": "Python 3",
      "language": "python",
      "name": "python3"
    },
    "language_info": {
      "codemirror_mode": {
        "name": "ipython",
        "version": 3
      },
      "file_extension": ".py",
      "mimetype": "text/x-python",
      "name": "python",
      "nbconvert_exporter": "python",
      "pygments_lexer": "ipython3",
      "version": "3.7.3"
    },
    "colab": {
      "name": " bai-tap-kiem-dinh-z-t.ipynb",
      "provenance": [],
      "include_colab_link": true
    }
  },
  "nbformat": 4,
  "nbformat_minor": 0
}