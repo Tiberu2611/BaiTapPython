{
  "nbformat": 4,
  "nbformat_minor": 0,
  "metadata": {
    "colab": {
      "name": "BT2.ipynb",
      "provenance": [],
      "collapsed_sections": [],
      "authorship_tag": "ABX9TyO2NNmEXFCbeg6QKI1Jl9jX",
      "include_colab_link": true
    },
    "kernelspec": {
      "name": "python3",
      "display_name": "Python 3"
    },
    "language_info": {
      "name": "python"
    }
  },
  "cells": [
    {
      "cell_type": "markdown",
      "metadata": {
        "id": "view-in-github",
        "colab_type": "text"
      },
      "source": [
        "<a href=\"https://colab.research.google.com/github/Tiberu2611/github-and-colab/blob/main/BT2.ipynb\" target=\"_parent\"><img src=\"https://colab.research.google.com/assets/colab-badge.svg\" alt=\"Open In Colab\"/></a>"
      ]
    },
    {
      "cell_type": "code",
      "metadata": {
        "colab": {
          "base_uri": "https://localhost:8080/"
        },
        "id": "VwMrGo5FPlzv",
        "outputId": "975a0e49-4785-4be0-aa4e-e92fe060f27a"
      },
      "source": [
        "print(\"Bài 1:\")\n",
        "print(\"Nhập số giá trị a:\") \n",
        "a = int(input(\"a = \"))\n",
        "print(\"Nhập số giá trị b:\") \n",
        "b = int(input(\"b = \"))\n",
        "c = a + b \n",
        "print(\"Tổng hai số a và b\")\n",
        "print(\"a + b = \", c)\n",
        "d = a * b\n",
        "print(\"Tích hai số a và b\")\n",
        "print(\"a * b = \", d)\n",
        "e = a - b\n",
        "print(\"Hiệu hai số a và b\")\n",
        "print(\"a / b = \", e)\n",
        "f = a % b\n",
        "print(\"Chia lấy phần dư của hai số a và b\")\n",
        "print(\"a % b = \", f)\n",
        "g = a // b \n",
        "print(\"Chia lấy phần nguyên của hai số a và b\")\n",
        "print(\"a // b = \", g)"
      ],
      "execution_count": null,
      "outputs": [
        {
          "output_type": "stream",
          "name": "stdout",
          "text": [
            "Bài 1:\n",
            "Nhập số giá trị a:\n",
            "a = 4\n",
            "Nhập số giá trị b:\n",
            "b = 5\n",
            "Tổng hai số a và b\n",
            "a + b =  9\n",
            "Tích hai số a và b\n",
            "a * b =  20\n",
            "Thương hai số a và b\n",
            "a / b =  0.8\n",
            "Chia lấy phần dư của hai số a và b\n",
            "a % b =  4\n",
            "Chia lấy phần nguyên của hai số a và b\n",
            "a // b =  0\n"
          ]
        }
      ]
    },
    {
      "cell_type": "code",
      "metadata": {
        "colab": {
          "base_uri": "https://localhost:8080/"
        },
        "id": "AfViFqCAROxt",
        "outputId": "c68a89da-e22a-434c-e384-b4d7353aea03"
      },
      "source": [
        "print(\"Bài 2\")\n",
        "print(\"Nhập số giá trị a:\") \n",
        "a = float(input(\"a = \"))\n",
        "print(\"Nhập số giá trị b:\") \n",
        "b = float(input(\"b = \"))\n",
        "c = a + b \n",
        "print(\"Tổng hai số a và b\")\n",
        "print(\"a + b = \", c)\n",
        "d = a * b\n",
        "print(\"Tích hai số a và b\")\n",
        "print(\"a * b = \", d)\n",
        "e = a - b\n",
        "print(\"Hiệu hai số a và b\")\n",
        "print(\"a - b = \", e)\n",
        "f = a / b \n",
        "print(\"Thương của hai số a và b\")\n",
        "print(\"a / b = \", f)"
      ],
      "execution_count": null,
      "outputs": [
        {
          "output_type": "stream",
          "name": "stdout",
          "text": [
            "Bài 2\n",
            "Nhập số giá trị a:\n",
            "a = 4.5\n",
            "Nhập số giá trị b:\n",
            "b = 6.7\n",
            "Tổng hai số a và b\n",
            "a + b =  11.2\n",
            "Tích hai số a và b\n",
            "a * b =  30.150000000000002\n",
            "Hiệu hai số a và b\n",
            "a - b =  -2.2\n",
            "Thương của hai số a và b\n",
            "a / b =  0.6716417910447761\n"
          ]
        }
      ]
    },
    {
      "cell_type": "code",
      "metadata": {
        "colab": {
          "base_uri": "https://localhost:8080/"
        },
        "cellView": "code",
        "id": "QYjyo1A7XnXh",
        "outputId": "7e1ee4b4-52cb-4c20-fa75-951c3ba26e5b"
      },
      "source": [
        "print(\"Bài 3\")\n",
        "print(\"Nhập số giá trị a:\") \n",
        "a = int(input(\"a = \"))\n",
        "print('Giá trị tuyệt đối của ',a, 'là: ', abs(a))\n",
        "print(\"Nhập số giá trị b:\") \n",
        "b = int(input(\"b = \"))\n",
        "print('Giá trị tuyệt đối của ',b, 'là: ', abs(b))\n",
        "import math\n",
        "math.modf(a)\n",
        "math.modf(b)\n",
        "print(\"a = \", float(a))\n",
        "print(\"b = \", float(b))\n",
        "print(\"Nhập số giá trị c\")\n",
        "c = float(input(\"c = \"))\n",
        "f = a ** b\n",
        "print(\"Lũy thừa của hai số a và b là \", f)\n",
        "import math  \n",
        "print (\"Căn bậc 2 của a là: \", math.sqrt(a))\n",
        "print (\"Căn bậc 2 của b là: \", math.sqrt(b))\n",
        "print (\"Căn bậc 2 của c là: \", math.sqrt(c))\n"
      ],
      "execution_count": null,
      "outputs": [
        {
          "output_type": "stream",
          "name": "stdout",
          "text": [
            "Bài 3\n",
            "Nhập số giá trị a:\n",
            "a = 3\n",
            "Giá trị tuyệt đối của  3 là:  3\n",
            "Nhập số giá trị b:\n",
            "b = 4\n",
            "Giá trị tuyệt đối của  4 là:  4\n",
            "a =  3.0\n",
            "b =  4.0\n",
            "Nhập số giá trị c\n",
            "c = 6\n",
            "Lũy thừa của hai số a và b là  81\n",
            "Căn bậc 2 của a là:  1.7320508075688772\n",
            "Căn bậc 2 của b là:  2.0\n",
            "Căn bậc 2 của c là:  2.449489742783178\n"
          ]
        }
      ]
    },
    {
      "cell_type": "code",
      "metadata": {
        "id": "saZmOq_7YW3I"
      },
      "source": [
        ""
      ],
      "execution_count": null,
      "outputs": []
    }
  ]
}