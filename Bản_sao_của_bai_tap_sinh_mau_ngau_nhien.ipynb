{
  "cells": [
    {
      "cell_type": "markdown",
      "metadata": {
        "id": "view-in-github",
        "colab_type": "text"
      },
      "source": [
        "<a href=\"https://colab.research.google.com/github/Tiberu2611/BaiTapPython/blob/main/B%E1%BA%A3n_sao_c%E1%BB%A7a_bai_tap_sinh_mau_ngau_nhien.ipynb\" target=\"_parent\"><img src=\"https://colab.research.google.com/assets/colab-badge.svg\" alt=\"Open In Colab\"/></a>"
      ]
    },
    {
      "cell_type": "markdown",
      "metadata": {
        "id": "_A0Z6EZ-DOVs"
      },
      "source": [
        "Sử dụng thư viện Numpy\n",
        "\n",
        "1. Sinh mẫu ngẫu nhiên bằng hàm arange trong khoảng [-15, 27] với khoảng cách là 0.7 và in kết quả ra màn hình"
      ]
    },
    {
      "cell_type": "code",
      "source": [
        "import numpy as np"
      ],
      "metadata": {
        "id": "e1U3ebnDF_eH"
      },
      "execution_count": 2,
      "outputs": []
    },
    {
      "cell_type": "code",
      "execution_count": null,
      "metadata": {
        "id": "8oQa7yI_DOVu",
        "colab": {
          "base_uri": "https://localhost:8080/"
        },
        "outputId": "3dd8c9ba-524f-41d6-abb1-377c57874201"
      },
      "outputs": [
        {
          "output_type": "stream",
          "name": "stdout",
          "text": [
            "Sinh ngẫu nhiên [-15.  -14.3 -13.6 -12.9 -12.2 -11.5 -10.8 -10.1  -9.4  -8.7  -8.   -7.3\n",
            "  -6.6  -5.9  -5.2  -4.5  -3.8  -3.1  -2.4  -1.7  -1.   -0.3   0.4   1.1\n",
            "   1.8   2.5   3.2   3.9   4.6   5.3   6.    6.7   7.4   8.1   8.8   9.5\n",
            "  10.2  10.9  11.6  12.3  13.   13.7  14.4  15.1  15.8  16.5  17.2  17.9\n",
            "  18.6  19.3  20.   20.7  21.4  22.1  22.8  23.5  24.2  24.9  25.6  26.3\n",
            "  27. ]\n"
          ]
        }
      ],
      "source": [
        "print(\"Sinh ngẫu nhiên\", np.arange(-15,27, 0.7))"
      ]
    },
    {
      "cell_type": "markdown",
      "metadata": {
        "id": "NqRKDQXbDOVu"
      },
      "source": [
        "2. Sinh mẫu ngẫu nhiên theo phân phối chuẩn với mean = 2.7 std = 1.2 và size = 40\n",
        "In kết quả ra màn hình"
      ]
    },
    {
      "cell_type": "code",
      "execution_count": null,
      "metadata": {
        "id": "_uQAeG2zDOVv",
        "colab": {
          "base_uri": "https://localhost:8080/"
        },
        "outputId": "1c902e08-ef7b-40c8-90ac-0d142f5b5c93"
      },
      "outputs": [
        {
          "output_type": "execute_result",
          "data": {
            "text/plain": [
              "array([1.74042407, 3.22692486, 1.58971524, 3.25163846, 4.16183127,\n",
              "       2.94084682, 0.16654789, 2.59209437, 2.47034039, 1.98217304,\n",
              "       1.82743382, 3.61612062, 0.12977677, 1.09249704, 1.85374673,\n",
              "       4.02370152, 3.04225354, 2.58105698, 2.87536236, 1.96912331,\n",
              "       1.31217968, 2.18921988, 2.693345  , 2.07035558, 2.85446488,\n",
              "       2.30956899, 1.6894998 , 3.32171865, 3.44201716, 1.65765521,\n",
              "       2.92552576, 1.72757754, 1.45471997, 2.78883889, 1.08259629,\n",
              "       4.09330792, 3.58276501, 1.61213323, 2.9553608 , 2.97638649])"
            ]
          },
          "metadata": {},
          "execution_count": 3
        }
      ],
      "source": [
        "np.random.normal(loc = 2.7, scale = 1.2, size = 40)"
      ]
    },
    {
      "cell_type": "markdown",
      "metadata": {
        "id": "SeS-NeIODOVv"
      },
      "source": [
        "3. Sinh mẫu ngẫu nhiên từ vector ['Viet Nam', 'Britain', 'France', 'Russia', 'Singapore'] \n",
        "\n",
        "với kích thước là 17 theo phân phối chuẩn"
      ]
    },
    {
      "cell_type": "code",
      "execution_count": null,
      "metadata": {
        "id": "jRwIbA-VDOVv",
        "colab": {
          "base_uri": "https://localhost:8080/"
        },
        "outputId": "b6b26e9f-cc8e-4c81-ec79-fc53484f8240"
      },
      "outputs": [
        {
          "output_type": "execute_result",
          "data": {
            "text/plain": [
              "array(['Singapore', 'Russia', 'Viet Nam', 'Russia', 'Russia', 'Viet Nam',\n",
              "       'Viet Nam', 'Britain', 'Britain', 'Russia', 'Singapore',\n",
              "       'Viet Nam', 'Russia', 'Britain', 'Viet Nam', 'France', 'Britain'],\n",
              "      dtype='<U9')"
            ]
          },
          "metadata": {},
          "execution_count": 4
        }
      ],
      "source": [
        "np.random.choice(['Viet Nam', 'Britain', 'France', 'Russia', 'Singapore'],\n",
        "                 size = 17)"
      ]
    },
    {
      "cell_type": "markdown",
      "metadata": {
        "id": "kMDbl9KlDOVv"
      },
      "source": [
        "4. Sinh mẫu ngẫu nhiên ở câu 3 nhưng không theo phân phối chuẩn mà theo 1 vector đặc tả giá trị xác suất do bạn chọn"
      ]
    },
    {
      "cell_type": "code",
      "execution_count": null,
      "metadata": {
        "id": "2c8rixLeDOVv",
        "colab": {
          "base_uri": "https://localhost:8080/"
        },
        "outputId": "e1194120-b030-4e12-821b-5f3a50f672b4"
      },
      "outputs": [
        {
          "output_type": "execute_result",
          "data": {
            "text/plain": [
              "array(['Russia', 'Viet Nam', 'Russia', 'Britain', 'Britain', 'Russia',\n",
              "       'Viet Nam', 'Britain', 'Russia', 'Viet Nam', 'Viet Nam', 'France',\n",
              "       'Britain', 'Britain', 'Viet Nam', 'Viet Nam', 'Singapore'],\n",
              "      dtype='<U9')"
            ]
          },
          "metadata": {},
          "execution_count": 7
        }
      ],
      "source": [
        "np.random.choice(['Viet Nam', 'Britain', 'France', 'Russia', 'Singapore'],\n",
        "                 size = 17,\n",
        "                 p= [0.3, 0.2, 0.1, 0.2, 0.2])"
      ]
    },
    {
      "cell_type": "markdown",
      "metadata": {
        "id": "f4t8Og1YDOVw"
      },
      "source": [
        "Sử dụng thư việc scipy.stats để sinh mẫu ngẫu nhiên\n",
        "\n",
        "1. Sinh mẫu ngẫu nhiên theo phân phối chuẩn với mean = 12.7, std = 2.6 và size = 30. In kết quả ra màn hình"
      ]
    },
    {
      "cell_type": "code",
      "execution_count": 5,
      "metadata": {
        "id": "BQ0Zb_xNDOVw"
      },
      "outputs": [],
      "source": [
        "from scipy import stats"
      ]
    },
    {
      "cell_type": "code",
      "source": [
        "stats.norm.rvs(loc = 12.7, scale = 2.6, size = 30)"
      ],
      "metadata": {
        "colab": {
          "base_uri": "https://localhost:8080/"
        },
        "id": "CUDpnwD8KwrO",
        "outputId": "4d1a7b2b-6722-4251-ebbd-cdd6695ed71a"
      },
      "execution_count": null,
      "outputs": [
        {
          "output_type": "execute_result",
          "data": {
            "text/plain": [
              "array([15.85687444, 10.17167642, 17.83984173, 13.86506597, 13.80931634,\n",
              "       16.02768412, 14.03063527, 13.27004831, 13.01285168, 11.95455948,\n",
              "        3.97662182, 13.28924101,  9.41266524, 10.70629757, 13.76916919,\n",
              "        9.73311279, 10.37376393,  8.58817534,  7.53655849, 10.56527201,\n",
              "        6.16804505, 13.34787917, 10.81891679,  9.71105746, 11.03748441,\n",
              "       11.9721725 , 15.25811559, 14.90169236,  9.99564506, 13.98942351])"
            ]
          },
          "metadata": {},
          "execution_count": 9
        }
      ]
    },
    {
      "cell_type": "markdown",
      "metadata": {
        "id": "2G-PMZhlDOVw"
      },
      "source": [
        "2. Hãy sinh một mẫu ngẫu nhiên theo phân phối Poisson"
      ]
    },
    {
      "cell_type": "code",
      "execution_count": 7,
      "metadata": {
        "id": "tkQsXsw1DOVw",
        "colab": {
          "base_uri": "https://localhost:8080/"
        },
        "outputId": "22d5b486-b57f-4210-941b-fca7a3be2439"
      },
      "outputs": [
        {
          "output_type": "stream",
          "name": "stdout",
          "text": [
            "[108 104 100  90  89 110 107 117 101  96  98 103 104 110 116  84  86  77\n",
            " 101  90  96  94  95  97 110  97 111 103 101  74  83  95  94  95 114 114\n",
            " 103 103  94  94 102  99  95  94 102  81 109 102  96  94 105  78  85 114\n",
            "  91  85  99  88 104  92  91 117 102 102 102 102  88 106  98 100  84 102\n",
            "  90  94 107  97 111 109 103 103 108  99  99  89 112  99  86  84  82 102\n",
            " 105  96 110  97  97 111 100  91 128 113]\n"
          ]
        }
      ],
      "source": [
        "np.random.seed(10)\n",
        "a = stats.poisson.rvs(mu = 100, size = 100)\n",
        "print(a)"
      ]
    },
    {
      "cell_type": "code",
      "execution_count": null,
      "metadata": {
        "id": "W61b-vT7DOVw"
      },
      "outputs": [],
      "source": [
        ""
      ]
    }
  ],
  "metadata": {
    "kernelspec": {
      "display_name": "Python 3",
      "language": "python",
      "name": "python3"
    },
    "language_info": {
      "codemirror_mode": {
        "name": "ipython",
        "version": 3
      },
      "file_extension": ".py",
      "mimetype": "text/x-python",
      "name": "python",
      "nbconvert_exporter": "python",
      "pygments_lexer": "ipython3",
      "version": "3.7.3"
    },
    "colab": {
      "name": "Bản sao của bai-tap-sinh-mau-ngau-nhien.ipynb",
      "provenance": [],
      "collapsed_sections": [],
      "include_colab_link": true
    }
  },
  "nbformat": 4,
  "nbformat_minor": 0
}