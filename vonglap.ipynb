{
  "nbformat": 4,
  "nbformat_minor": 0,
  "metadata": {
    "colab": {
      "name": "vonglap.ipynb",
      "provenance": [],
      "authorship_tag": "ABX9TyNgpouIkt44aryebifp0KXY",
      "include_colab_link": true
    },
    "kernelspec": {
      "name": "python3",
      "display_name": "Python 3"
    },
    "language_info": {
      "name": "python"
    }
  },
  "cells": [
    {
      "cell_type": "markdown",
      "metadata": {
        "id": "view-in-github",
        "colab_type": "text"
      },
      "source": [
        "<a href=\"https://colab.research.google.com/github/Tiberu2611/github-and-colab/blob/main/vonglap.ipynb\" target=\"_parent\"><img src=\"https://colab.research.google.com/assets/colab-badge.svg\" alt=\"Open In Colab\"/></a>"
      ]
    },
    {
      "cell_type": "code",
      "metadata": {
        "colab": {
          "base_uri": "https://localhost:8080/"
        },
        "id": "lUtOXdk6MH07",
        "outputId": "ec3ac309-c5a8-43ed-850b-e58719f22cf1"
      },
      "source": [
        "# Bài 1\n",
        "i = 1\n",
        "while i <= 10:\n",
        "    print(i)\n",
        "    i += 1"
      ],
      "execution_count": 3,
      "outputs": [
        {
          "output_type": "stream",
          "name": "stdout",
          "text": [
            "1\n",
            "2\n",
            "3\n",
            "4\n",
            "5\n",
            "6\n",
            "7\n",
            "8\n",
            "9\n",
            "10\n"
          ]
        }
      ]
    },
    {
      "cell_type": "code",
      "metadata": {
        "colab": {
          "base_uri": "https://localhost:8080/"
        },
        "id": "SWbVwX3tMvJ-",
        "outputId": "f1d7763a-5ea9-4324-a16e-868f242bf7ef"
      },
      "source": [
        "# Bài 2\n",
        "n = 5\n",
        "k = 5\n",
        "for i in range(0,n+1):\n",
        "    for j in range(k-i,0,-1):\n",
        "        print(j,end=' ')\n",
        "    print()"
      ],
      "execution_count": 55,
      "outputs": [
        {
          "output_type": "stream",
          "name": "stdout",
          "text": [
            "5 4 3 2 1 \n",
            "4 3 2 1 \n",
            "3 2 1 \n",
            "2 1 \n",
            "1 \n",
            "\n"
          ]
        }
      ]
    },
    {
      "cell_type": "code",
      "metadata": {
        "colab": {
          "base_uri": "https://localhost:8080/"
        },
        "id": "XryODZHSODnL",
        "outputId": "c77dcf03-7e24-42cc-b124-2b82b0fa42c6"
      },
      "source": [
        "# Bài 3\n",
        "n = int(input(\"Nhập một số \"))\n",
        "i = 0\n",
        "answer = 0\n",
        "while i < n:\n",
        "    i += 1\n",
        "    answer += i\n",
        "print(\"Tổng: \", answer)"
      ],
      "execution_count": 27,
      "outputs": [
        {
          "output_type": "stream",
          "name": "stdout",
          "text": [
            "Nhập một số 6\n",
            "Tổng:  21\n"
          ]
        }
      ]
    },
    {
      "cell_type": "code",
      "metadata": {
        "colab": {
          "base_uri": "https://localhost:8080/"
        },
        "id": "d3JcX-2JQS-z",
        "outputId": "5c889254-fd6f-48df-c8e7-029918405147"
      },
      "source": [
        "# Bài 4\n",
        "n = int(input(\"Nhập số tự nhiên: \"))\n",
        "i = 0\n",
        "while i < 10:\n",
        "    i += 1\n",
        "    answer = n*i\n",
        "    print(answer)"
      ],
      "execution_count": 29,
      "outputs": [
        {
          "output_type": "stream",
          "name": "stdout",
          "text": [
            "Nhập số tự nhiên: 6\n",
            "6\n",
            "12\n",
            "18\n",
            "24\n",
            "30\n",
            "36\n",
            "42\n",
            "48\n",
            "54\n",
            "60\n"
          ]
        }
      ]
    },
    {
      "cell_type": "code",
      "metadata": {
        "colab": {
          "base_uri": "https://localhost:8080/"
        },
        "id": "3up-78ZzR00S",
        "outputId": "5c0deed9-6a37-49b8-e97f-f98c5bea0a9d"
      },
      "source": [
        "# Bài 5\n",
        "list1 = [2, 3, 6, 8, 4, 5, 9, 1, 43, 63, 12]\n",
        "i = 0\n",
        "while i < len(list1):\n",
        "    i += 1 \n",
        "print(\"số phần tử\", i)\n"
      ],
      "execution_count": 37,
      "outputs": [
        {
          "output_type": "stream",
          "name": "stdout",
          "text": [
            "số phần tử 11\n"
          ]
        }
      ]
    },
    {
      "cell_type": "code",
      "metadata": {
        "colab": {
          "base_uri": "https://localhost:8080/"
        },
        "id": "CJ3ZoeZuaiRV",
        "outputId": "f526a0bf-51b6-41cc-b0ef-da94b0f8b94d"
      },
      "source": [
        "# Bài 6\n",
        "n = int(input(\"Nhập 1 số nguyên\"))\n",
        "dem = 0\n",
        "while n != 0 :\n",
        "  n //= 10\n",
        "  dem += 1\n",
        "print(\"Tổng chữ số\", dem)"
      ],
      "execution_count": 75,
      "outputs": [
        {
          "output_type": "stream",
          "name": "stdout",
          "text": [
            "Nhập 1 số nguyên132\n",
            "3\n"
          ]
        }
      ]
    },
    {
      "cell_type": "code",
      "metadata": {
        "colab": {
          "base_uri": "https://localhost:8080/"
        },
        "id": "yAJdP9uTUfet",
        "outputId": "7efd1964-3b5d-4cc4-ee22-7a879a38ff9b"
      },
      "source": [
        "# Bài 7\n",
        "list2 = [1, 2, 3, 4, 5, 6, 7, 8, 9]\n",
        "for i in reversed(list2):\n",
        "    print(i)"
      ],
      "execution_count": 42,
      "outputs": [
        {
          "output_type": "stream",
          "name": "stdout",
          "text": [
            "9\n",
            "8\n",
            "7\n",
            "6\n",
            "5\n",
            "4\n",
            "3\n",
            "2\n",
            "1\n"
          ]
        }
      ]
    },
    {
      "cell_type": "code",
      "metadata": {
        "colab": {
          "base_uri": "https://localhost:8080/"
        },
        "id": "8Dcwv1dbWXqh",
        "outputId": "cc144164-a89e-45a9-b456-8364ef421711"
      },
      "source": [
        "# Bài 8\n",
        "for i in range(-10, 0):\n",
        "    print(i)\n",
        "    i += 1"
      ],
      "execution_count": 43,
      "outputs": [
        {
          "output_type": "stream",
          "name": "stdout",
          "text": [
            "-10\n",
            "-9\n",
            "-8\n",
            "-7\n",
            "-6\n",
            "-5\n",
            "-4\n",
            "-3\n",
            "-2\n",
            "-1\n"
          ]
        }
      ]
    },
    {
      "cell_type": "code",
      "metadata": {
        "colab": {
          "base_uri": "https://localhost:8080/"
        },
        "id": "hfGY3DrWYhJb",
        "outputId": "bd839b09-8360-44e8-d737-fa9737e937ab"
      },
      "source": [
        "# Bài 10\n",
        "batdau = int(input(\"Nhập số tự nhiên bắt đầu: \"))\n",
        "ketthuc = int(input(\"Nhập số tự nhiên kết thúc: \"))\n",
        "\n",
        "for i in range(batdau, ketthuc+ 1):\n",
        "  if i > 1:\n",
        "    for j in range(2, i):\n",
        "      if i % j== 0:\n",
        "        break\n",
        "    else:\n",
        "      print(i)\n",
        "\n",
        "  "
      ],
      "execution_count": 80,
      "outputs": [
        {
          "output_type": "stream",
          "name": "stdout",
          "text": [
            "Nhập số tự nhiên bắt đầu: 2\n",
            "Nhập số tự nhiên kết thúc: 13\n",
            "2\n",
            "3\n",
            "5\n",
            "7\n",
            "11\n",
            "13\n"
          ]
        }
      ]
    },
    {
      "cell_type": "code",
      "metadata": {
        "colab": {
          "base_uri": "https://localhost:8080/"
        },
        "id": "l9chYAzxZfkX",
        "outputId": "2b47a6aa-131e-4e54-e222-42ccee086e14"
      },
      "source": [
        "# Bài 11\n",
        "n = int(input(\"Có bao nhiêu chữ số  \"))\n",
        "n1, n2 = 0, 1\n",
        "count = 0\n",
        "if n <= 0:\n",
        "   print(\"Xin chọn lại số \")\n",
        "elif n == 1:\n",
        "   print(\"Fibonacci đạt tối đa\",n,\":\")\n",
        "   print(n1)\n",
        "else:\n",
        "   print(\"Các chữ số Fibonacci:\")\n",
        "   while count < n:\n",
        "       print(n1)\n",
        "       nth = n1 + n2\n",
        "       \n",
        "       n1 = n2\n",
        "       n2 = nth\n",
        "       count += 1"
      ],
      "execution_count": 61,
      "outputs": [
        {
          "output_type": "stream",
          "name": "stdout",
          "text": [
            "Có bao nhiêu chữ số  9\n",
            "Các chữ số Fibonacci:\n",
            "0\n",
            "1\n",
            "1\n",
            "2\n",
            "3\n",
            "5\n",
            "8\n",
            "13\n",
            "21\n"
          ]
        }
      ]
    },
    {
      "cell_type": "code",
      "metadata": {
        "colab": {
          "base_uri": "https://localhost:8080/"
        },
        "id": "U2QbI1m1e-GZ",
        "outputId": "94c89417-83eb-4c05-e255-992a7a3ea810"
      },
      "source": [
        "# Bài 12\n",
        "num = int(input(\"Nhập một số: \"))\n",
        "factorial = 1\n",
        "if num < 0:\n",
        "   print(\"Không có giai thừa cho số này\")\n",
        "elif num == 0:\n",
        "   print(\"Giai thừa của 0 là 1\")\n",
        "else:\n",
        "   for i in range(1,n + 1):\n",
        "       factorial = factorial*i\n",
        "   print(\"Giai thừa của\",num,\"là\",factorial)"
      ],
      "execution_count": 84,
      "outputs": [
        {
          "output_type": "stream",
          "name": "stdout",
          "text": [
            "Nhập một số: 5\n",
            "Giai thừa của 5 là 120\n"
          ]
        }
      ]
    },
    {
      "cell_type": "code",
      "metadata": {
        "colab": {
          "base_uri": "https://localhost:8080/"
        },
        "id": "cOtJlmQIFKTq",
        "outputId": "d1688448-e33a-4dbe-9087-5e7d9ebdd73e"
      },
      "source": [
        "# Bài 13\n",
        "num = int(input(\"Nhập một số nguyên: \"))\n",
        "rev_num = 0\n",
        " \n",
        "while(num > 0):\n",
        "    a = num % 10\n",
        "    rev_num = rev_num * 10 + a\n",
        "    num = num // 10\n",
        " \n",
        "print(rev_num)"
      ],
      "execution_count": 92,
      "outputs": [
        {
          "output_type": "stream",
          "name": "stdout",
          "text": [
            "Nhập một số nguyên123456\n",
            "654321\n"
          ]
        }
      ]
    },
    {
      "cell_type": "code",
      "metadata": {
        "colab": {
          "base_uri": "https://localhost:8080/"
        },
        "id": "SVxSzjxJHg2U",
        "outputId": "c5d1104a-d70f-40b6-9ff6-99329f6d1a05"
      },
      "source": [
        "# Bài 14\n",
        "list3 = [3, 4, 2, 5, 1, 2]\n",
        "for i in list3:\n",
        "  if i % 2 == 1:\n",
        "    print(list3[i])"
      ],
      "execution_count": 107,
      "outputs": [
        {
          "output_type": "stream",
          "name": "stdout",
          "text": [
            "5\n",
            "2\n",
            "4\n"
          ]
        }
      ]
    },
    {
      "cell_type": "code",
      "metadata": {
        "colab": {
          "base_uri": "https://localhost:8080/"
        },
        "id": "6RF2S7QmJ_ml",
        "outputId": "0358d53d-eb03-46ae-d6f3-29ce8c3ca415"
      },
      "source": [
        "# Bài 15\n",
        "nhap = int(input(\"nhập số cần tìm\"))\n",
        "Cube_nhap = 0\n",
        "for i in range(1, nhap + 1):\n",
        "  Cube_nhap = i*i*i\n",
        "print(Cube_nhap)"
      ],
      "execution_count": 104,
      "outputs": [
        {
          "output_type": "stream",
          "name": "stdout",
          "text": [
            "nhập số cần tìm6\n",
            "216\n"
          ]
        }
      ]
    }
  ]
}