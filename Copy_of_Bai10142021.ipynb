{
  "nbformat": 4,
  "nbformat_minor": 0,
  "metadata": {
    "colab": {
      "name": "Copy of Bai10142021.ipynb",
      "provenance": [],
      "authorship_tag": "ABX9TyO73XzuN1lrut7Wlm6a79Vs",
      "include_colab_link": true
    },
    "kernelspec": {
      "name": "python3",
      "display_name": "Python 3"
    },
    "language_info": {
      "name": "python"
    }
  },
  "cells": [
    {
      "cell_type": "markdown",
      "metadata": {
        "id": "view-in-github",
        "colab_type": "text"
      },
      "source": [
        "<a href=\"https://colab.research.google.com/github/Tiberu2611/github-and-colab/blob/main/Copy_of_Bai10142021.ipynb\" target=\"_parent\"><img src=\"https://colab.research.google.com/assets/colab-badge.svg\" alt=\"Open In Colab\"/></a>"
      ]
    },
    {
      "cell_type": "code",
      "metadata": {
        "colab": {
          "base_uri": "https://localhost:8080/"
        },
        "id": "F3orom97cCFM",
        "outputId": "cd85b0e0-868c-4a18-a63c-c5ae52ecfb26"
      },
      "source": [
        "# bài 1 Write a Python program to find the number of days in a month.\n",
        "y = int(input(\"Nhập năm bạn muốn tìm: \"))\n",
        "m = int(input(\"Nhập tháng bạn muôn tìm: \"))\n",
        "leap = 0\n",
        "if y% 400 == 0:\n",
        "  leap = 1\n",
        "elif y % 100 == 0:\n",
        "  leap = 0\n",
        "elif y% 4 == 0:\n",
        "  leap = 1\n",
        "if m==2:\n",
        "  print(\"Tháng\", m ,\"Năm\", y, \"có\", 28 + leap, \"ngày\")\n",
        "if (m == 1) or (m == 3) or (m == 5) or (m == 7) or (m == 8) or (m == 10) or (m == 12):\n",
        "  print(\"Tháng\", m ,\"Năm\", y, \"có\", 31, \"ngày\")\n",
        "else:\n",
        "  print(\"Tháng\", m ,\"Năm\", y, \"có\", 30, \"ngày\")"
      ],
      "execution_count": null,
      "outputs": [
        {
          "output_type": "stream",
          "name": "stdout",
          "text": [
            "Nhập năm bạn muốn tìm: 2018\n",
            "Nhập tháng bạn muôn tìm: 5\n",
            "Tháng 5 Năm 2018 có 31 ngày\n"
          ]
        }
      ]
    },
    {
      "cell_type": "code",
      "metadata": {
        "id": "3K5oztWletgx"
      },
      "source": [
        "# Bài 2\n",
        "ch = input(\"Enter a character: \")\n",
        "if((ch==a) or (ch ==e) or (ch==i) or (ch==o)  or (ch==u)):\n",
        "    print(ch, \"Đây là chữ nguyên âm\")\n",
        "else:\n",
        "    print(ch, \"đây là chữ bình thường \")"
      ],
      "execution_count": null,
      "outputs": []
    },
    {
      "cell_type": "code",
      "metadata": {
        "colab": {
          "base_uri": "https://localhost:8080/"
        },
        "id": "s4LC0ElZeDYo",
        "outputId": "0d1c8059-292e-4049-d8ed-e45bfc4c5e95"
      },
      "source": [
        "# Bài 3\n",
        "year=int(input(\"Chọn năm bạn muốn tìm kiếm:\"))\n",
        "if(year%4==0 and year%100!=0 or year%400==0):\n",
        "    print(\"Đây là năm nhuận!\")\n",
        "else:\n",
        "    print(\"Đây không phải năm nhuận!\")"
      ],
      "execution_count": null,
      "outputs": [
        {
          "output_type": "stream",
          "name": "stdout",
          "text": [
            "Enter year to be checked:2019\n",
            "The year isn't a leap year!\n"
          ]
        }
      ]
    },
    {
      "cell_type": "code",
      "metadata": {
        "colab": {
          "base_uri": "https://localhost:8080/"
        },
        "id": "wHeNFNImg9JA",
        "outputId": "e5787de6-a48f-47b7-a00f-f2cdcc58c91a"
      },
      "source": [
        "num1 = int(input(\"Nhập: \"))\n",
        "num2 = int(input(\"Nhập: \"))\n",
        "num3 = int(input(\"Nhập: \"))\n",
        "num4 = int(input(\"Nhập: \"))\n",
        "num5 = int(input(\"Nhập: \"))\n",
        "sum = (num1+num2+num3+num4+num5)\n",
        "print(\"tổng: \", sum)\n",
        "avg = (sum/5)\n",
        "print(\"bình phương: \", avg)"
      ],
      "execution_count": null,
      "outputs": [
        {
          "output_type": "stream",
          "name": "stdout",
          "text": [
            "Nhập: 4\n",
            "Nhập: 6\n",
            "Nhập: 7\n",
            "Nhập: 3\n",
            "Nhập: 9\n",
            "tổng:  29\n",
            "bình phương:  5.8\n"
          ]
        }
      ]
    }
  ]
}