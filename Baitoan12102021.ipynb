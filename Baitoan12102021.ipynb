{
  "nbformat": 4,
  "nbformat_minor": 0,
  "metadata": {
    "colab": {
      "name": "Baitoan12102021.ipynb",
      "provenance": [],
      "authorship_tag": "ABX9TyO/bcMWCuZyeULvitUEBOGh",
      "include_colab_link": true
    },
    "kernelspec": {
      "name": "python3",
      "display_name": "Python 3"
    },
    "language_info": {
      "name": "python"
    }
  },
  "cells": [
    {
      "cell_type": "markdown",
      "metadata": {
        "id": "view-in-github",
        "colab_type": "text"
      },
      "source": [
        "<a href=\"https://colab.research.google.com/github/Tiberu2611/github-and-colab/blob/main/Baitoan12102021.ipynb\" target=\"_parent\"><img src=\"https://colab.research.google.com/assets/colab-badge.svg\" alt=\"Open In Colab\"/></a>"
      ]
    },
    {
      "cell_type": "code",
      "metadata": {
        "colab": {
          "base_uri": "https://localhost:8080/"
        },
        "id": "jIwHFFhA2CrD",
        "outputId": "d12345f1-f832-440e-b86f-2d5c1133cd9a"
      },
      "source": [
        "# Viết chương trình tìm tất cả các số chia hết cho 7 nhưng không phải bội số của 5, nằm trong đoạn 10 và 200 (tính cả 10 và 200). Các số thu được sẽ được in ra màn hình.\n",
        "for i in range(10, 201):\n",
        "  if (i%7==0) and (i%5!=0):\n",
        "    print(i)"
      ],
      "execution_count": 50,
      "outputs": [
        {
          "output_type": "stream",
          "name": "stdout",
          "text": [
            "14\n",
            "21\n",
            "28\n",
            "42\n",
            "49\n",
            "56\n",
            "63\n",
            "77\n",
            "84\n",
            "91\n",
            "98\n",
            "112\n",
            "119\n",
            "126\n",
            "133\n",
            "147\n",
            "154\n",
            "161\n",
            "168\n",
            "182\n",
            "189\n",
            "196\n"
          ]
        }
      ]
    },
    {
      "cell_type": "code",
      "metadata": {
        "colab": {
          "base_uri": "https://localhost:8080/"
        },
        "id": "6-ut2j_K222l",
        "outputId": "4b524cb8-f448-4eb5-afee-1977f2ff8bcf"
      },
      "source": [
        "# Bài 2Viết một chương trình tính giai thừa của một số nguyên dương n. Với n được nhập từ bàn phím. Ví dụ, n = 8 thì kết quả đầu ra phải là 1*2*3*4*5*6*7*8 = 40320.\n",
        "num = int(input(\"Nhập một số: \"))\n",
        "Giaithua = 1\n",
        "if num < 0:\n",
        "   print(\"Không có giai thừa cho số này\")\n",
        "elif num == 0:\n",
        "   print(\"Giai thừa của 0 là 1\")\n",
        "else:\n",
        "   for i in range(1,num + 1):\n",
        "       Giaithua = Giaithua*i\n",
        "   print(\"Giai thừa của\",num,\"là\",Giaithua)"
      ],
      "execution_count": 8,
      "outputs": [
        {
          "output_type": "stream",
          "name": "stdout",
          "text": [
            "Nhập một số: 8\n",
            "Giai thừa của 8 là 40320\n"
          ]
        }
      ]
    },
    {
      "cell_type": "code",
      "metadata": {
        "colab": {
          "base_uri": "https://localhost:8080/"
        },
        "id": "ukAQYXHC4kb8",
        "outputId": "abbf3edc-63d4-4a2c-cfef-c39f95d5fdda"
      },
      "source": [
        "# Bài 3 Dãy số Fibonacci được định nghĩa như sau: F0 = 0, F1 = 1, F2 = 1, Fn = F(n-1) + F(n-2) với n >= 2. Ví dụ: 0, 1, 1, 2, 3, 5, 8, ... Hãy viết chương trình tìm n số Fibonacci đầu tiên với n nhập vào từ bàn phím.\n",
        "n = int(input(\"Số Fibonacci bạn mong muốn: \"))\n",
        "n1, n2 = 0, 1\n",
        "count = 0\n",
        "if n <= 0:\n",
        "   print(\"Xin chọn lại số \")\n",
        "elif n == 1:\n",
        "   print(\"Fibonacci đạt tối đa:\")\n",
        "   print(n1)\n",
        "else:\n",
        "   print(\"Các chữ số Fibonacci:\")\n",
        "   while count < n:\n",
        "       print(n1)\n",
        "       nth = n1 + n2\n",
        "       n1 = n2\n",
        "       n2 = nth\n",
        "       count += 1"
      ],
      "execution_count": 69,
      "outputs": [
        {
          "output_type": "stream",
          "name": "stdout",
          "text": [
            "Số Fibonacci bạn mong muốn: 89\n",
            "Các chữ số Fibonacci:\n",
            "0\n",
            "1\n",
            "1\n",
            "2\n",
            "3\n",
            "5\n",
            "8\n",
            "13\n",
            "21\n",
            "34\n",
            "55\n",
            "89\n",
            "144\n",
            "233\n",
            "377\n",
            "610\n",
            "987\n",
            "1597\n",
            "2584\n",
            "4181\n",
            "6765\n",
            "10946\n",
            "17711\n",
            "28657\n",
            "46368\n",
            "75025\n",
            "121393\n",
            "196418\n",
            "317811\n",
            "514229\n",
            "832040\n",
            "1346269\n",
            "2178309\n",
            "3524578\n",
            "5702887\n",
            "9227465\n",
            "14930352\n",
            "24157817\n",
            "39088169\n",
            "63245986\n",
            "102334155\n",
            "165580141\n",
            "267914296\n",
            "433494437\n",
            "701408733\n",
            "1134903170\n",
            "1836311903\n",
            "2971215073\n",
            "4807526976\n",
            "7778742049\n",
            "12586269025\n",
            "20365011074\n",
            "32951280099\n",
            "53316291173\n",
            "86267571272\n",
            "139583862445\n",
            "225851433717\n",
            "365435296162\n",
            "591286729879\n",
            "956722026041\n",
            "1548008755920\n",
            "2504730781961\n",
            "4052739537881\n",
            "6557470319842\n",
            "10610209857723\n",
            "17167680177565\n",
            "27777890035288\n",
            "44945570212853\n",
            "72723460248141\n",
            "117669030460994\n",
            "190392490709135\n",
            "308061521170129\n",
            "498454011879264\n",
            "806515533049393\n",
            "1304969544928657\n",
            "2111485077978050\n",
            "3416454622906707\n",
            "5527939700884757\n",
            "8944394323791464\n",
            "14472334024676221\n",
            "23416728348467685\n",
            "37889062373143906\n",
            "61305790721611591\n",
            "99194853094755497\n",
            "160500643816367088\n",
            "259695496911122585\n",
            "420196140727489673\n",
            "679891637638612258\n",
            "1100087778366101931\n"
          ]
        }
      ]
    },
    {
      "cell_type": "code",
      "metadata": {
        "colab": {
          "base_uri": "https://localhost:8080/"
        },
        "id": "RypiN7Xs5BG3",
        "outputId": "b31eca33-1ecd-4c21-e1f0-1df1d3f31fdd"
      },
      "source": [
        "# Bài 4 Viết chương trình liệt kê tất cả các số nguyên tố nhỏ hơn n. Số nguyên dương n được nhập từ bàn phím.\n",
        "n = 1\n",
        "ketthuc = int(input(\"Nhập số tự nhiên kết thúc: \"))\n",
        "for i in range(n, ketthuc):\n",
        "  if i > 1:\n",
        "    for j in range(2, i):\n",
        "      if i % j== 0:\n",
        "        break\n",
        "    else:\n",
        "      print(i)"
      ],
      "execution_count": 14,
      "outputs": [
        {
          "output_type": "stream",
          "name": "stdout",
          "text": [
            "Nhập số tự nhiên kết thúc: 9\n",
            "2\n",
            "3\n",
            "5\n",
            "7\n"
          ]
        }
      ]
    },
    {
      "cell_type": "code",
      "metadata": {
        "colab": {
          "base_uri": "https://localhost:8080/"
        },
        "id": "ZmJDjr2MD_oD",
        "outputId": "cb1d5955-6678-4fe5-9d70-d9518f0938de"
      },
      "source": [
        "# Bài 5 Viết chương trình liệt kê n số nguyên tố đầu tiên. Số nguyên dương n được nhập từ bàn phím.\n",
        "n = 1\n",
        "ketthuc = int(input(\"Nhập số tự nhiên kết thúc: \"))\n",
        "sohang = 0\n",
        "for i in range(n, ketthuc + 1):\n",
        "  if i > 1:\n",
        "    for j in range(2, i):\n",
        "      if i % j== 0:\n",
        "        break\n",
        "    else:\n",
        "      sohang += 1\n",
        "      print(i)\n",
        "print(\"số nguyên tố \",sohang)"
      ],
      "execution_count": 64,
      "outputs": [
        {
          "output_type": "stream",
          "name": "stdout",
          "text": [
            "Nhập số tự nhiên kết thúc: 9\n",
            "2\n",
            "3\n",
            "5\n",
            "7\n",
            "4\n"
          ]
        }
      ]
    },
    {
      "cell_type": "code",
      "metadata": {
        "colab": {
          "base_uri": "https://localhost:8080/"
        },
        "id": "UbmNhyKy5Sok",
        "outputId": "f834590b-5bb4-4e61-b8f6-0dbdf8d3da58"
      },
      "source": [
        "#Bài 6 Viết chương trình liệt kê tất cả số nguyên tố có 5 chữ số. \n",
        "print (\"Liệt kê tất cả số nguyên tố có 5 chữ số:\");\n",
        "dem = 0;\n",
        "for i in range(10001, 99999):\n",
        "  if i > 10001:\n",
        "    for j in range(2, i):\n",
        "      if i % j== 0:\n",
        "        break\n",
        "    else:\n",
        "        dem = dem + 1;\n",
        "print(\"Tổng các số nguyên tố có 5 chữ số là:\", dem);"
      ],
      "execution_count": 53,
      "outputs": [
        {
          "output_type": "stream",
          "name": "stdout",
          "text": [
            "Liệt kê tất cả số nguyên tố có 5 chữ số:\n",
            "Tổng các số nguyên tố có 5 chữ số là: 8363\n"
          ]
        }
      ]
    },
    {
      "cell_type": "code",
      "metadata": {
        "colab": {
          "base_uri": "https://localhost:8080/"
        },
        "id": "c-ZcfQlc9pvQ",
        "outputId": "ad8fd197-8309-47d2-bb1e-1760cfc95db8"
      },
      "source": [
        "# Bài 7 Viết chương trình tính tổng của các chữ số của môt số nguyên n. Số nguyên dương n được\n",
        "nhập từ bàn phím. Ví dụ: n = 1234, tổng các chữ số: 1 + 2 + 3 + 4 = 10\n",
        "n = int(input(\"Nhập số nguyên dương n = \"));\n",
        "total = 0\n",
        "while (n > 0):\n",
        "  total = total + (n % 10)\n",
        "  n = int(n / 10);\n",
        "print(\"Tổng các chữ số của n là\", total);"
      ],
      "execution_count": 45,
      "outputs": [
        {
          "output_type": "stream",
          "name": "stdout",
          "text": [
            "Nhập số nguyên dương n = 567\n",
            "Tổng các chữ số của n là 18\n"
          ]
        }
      ]
    },
    {
      "cell_type": "code",
      "metadata": {
        "colab": {
          "base_uri": "https://localhost:8080/"
        },
        "id": "_pZtOWlhMNVp",
        "outputId": "fcb1d0aa-fa50-4403-f07b-38445fee0e12"
      },
      "source": [
        "# Bài 8 Viết chương trình liệt kê các số Fibonacci nhỏ hơn n là số nguyên tố. N là số nguyên dương được nhập từ bàn phím.\n",
        "n = int(input(\"Số Fibonacci bạn mong muốn: \"))\n",
        "n1, n2 = 0, 1\n",
        "count = 0\n",
        "if n <= 0:\n",
        "   print(\"Xin chọn lại số \")\n",
        "elif n == 1:\n",
        "   print(\"Fibonacci đạt tối đa\",n,\":\")\n",
        "   print(n1)\n",
        "else:\n",
        "   print(\"Các chữ số Fibonacci:\")\n",
        "   while count < n:\n",
        "       print(n1)\n",
        "       nth = n1 + n2\n",
        "       \n",
        "       n1 = n2\n",
        "       n2 = nth\n",
        "       count += 1\n",
        "       for j in range(2, i):\n",
        "        if i % j== 0:\n",
        "          break\n",
        "        else:\n",
        "          print(i)\n"
      ],
      "execution_count": 67,
      "outputs": [
        {
          "output_type": "stream",
          "name": "stdout",
          "text": [
            "Số Fibonacci bạn mong muốn: 9\n",
            "Các chữ số Fibonacci:\n",
            "0\n",
            "9\n",
            "1\n",
            "9\n",
            "1\n",
            "9\n",
            "2\n",
            "9\n",
            "3\n",
            "9\n",
            "5\n",
            "9\n",
            "8\n",
            "9\n",
            "13\n",
            "9\n",
            "21\n",
            "9\n"
          ]
        }
      ]
    }
  ]
}