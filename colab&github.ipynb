{
  "nbformat": 4,
  "nbformat_minor": 0,
  "metadata": {
    "colab": {
      "name": "colab&github.ipynb",
      "provenance": [],
      "collapsed_sections": [],
      "toc_visible": true
    },
    "kernelspec": {
      "name": "python3",
      "display_name": "Python 3"
    },
    "language_info": {
      "name": "python"
    }
  },
  "cells": [
    {
      "cell_type": "code",
      "metadata": {
        "id": "tHYFajnZyAdq",
        "colab": {
          "base_uri": "https://localhost:8080/"
        },
        "outputId": "ca85d6e0-8a85-4426-9efc-4440c6d5b830"
      },
      "source": [
        "print(\"Chào mừng các bạn đến với KHDL&TTNT\")\n",
        "print(\"Mình cảm thấy học lập trình với python rất thú vị\")"
      ],
      "execution_count": null,
      "outputs": [
        {
          "output_type": "stream",
          "name": "stdout",
          "text": [
            "Chào mừng các bạn đến với KHDL&TTNT\n",
            "Mình cảm thấy học lập trình với python rất thú vị\n"
          ]
        }
      ]
    }
  ]
}