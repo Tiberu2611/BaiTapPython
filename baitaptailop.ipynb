{
  "nbformat": 4,
  "nbformat_minor": 0,
  "metadata": {
    "colab": {
      "name": "baitaptailop.ipynb",
      "provenance": [],
      "authorship_tag": "ABX9TyP3ZF7vNnuPooUbS8X8o2/M",
      "include_colab_link": true
    },
    "kernelspec": {
      "name": "python3",
      "display_name": "Python 3"
    },
    "language_info": {
      "name": "python"
    }
  },
  "cells": [
    {
      "cell_type": "markdown",
      "metadata": {
        "id": "view-in-github",
        "colab_type": "text"
      },
      "source": [
        "<a href=\"https://colab.research.google.com/github/Tiberu2611/github-and-colab/blob/main/baitaptailop.ipynb\" target=\"_parent\"><img src=\"https://colab.research.google.com/assets/colab-badge.svg\" alt=\"Open In Colab\"/></a>"
      ]
    },
    {
      "cell_type": "code",
      "metadata": {
        "colab": {
          "base_uri": "https://localhost:8080/"
        },
        "id": "aD_HpPH2SLne",
        "outputId": "9bd59ed3-fc40-48c0-9723-bfd6709b96d5"
      },
      "source": [
        "list = [1, 5, 2, 4, 3, 6, 9, 8, 7]\n",
        "print(\"Tổng các giá trị\")\n",
        "print(sum(list))"
      ],
      "execution_count": 42,
      "outputs": [
        {
          "output_type": "stream",
          "name": "stdout",
          "text": [
            "Tổng các giá trị\n",
            "45\n"
          ]
        }
      ]
    },
    {
      "cell_type": "code",
      "metadata": {
        "colab": {
          "base_uri": "https://localhost:8080/",
          "height": 217
        },
        "id": "HblzZQABgm-Z",
        "outputId": "49407a54-8570-4555-a490-8dd6ca306e39"
      },
      "source": [
        "import math \n",
        "list = [1, 5, 2, 4, 3, 6, 9, 8, 7]\n",
        "listpord = math.prod(list)\n",
        "print(listpord)"
      ],
      "execution_count": 54,
      "outputs": [
        {
          "output_type": "error",
          "ename": "AttributeError",
          "evalue": "ignored",
          "traceback": [
            "\u001b[0;31m---------------------------------------------------------------------------\u001b[0m",
            "\u001b[0;31mAttributeError\u001b[0m                            Traceback (most recent call last)",
            "\u001b[0;32m<ipython-input-54-ab8836aa515d>\u001b[0m in \u001b[0;36m<module>\u001b[0;34m()\u001b[0m\n\u001b[1;32m      1\u001b[0m \u001b[0;32mimport\u001b[0m \u001b[0mmath\u001b[0m\u001b[0;34m\u001b[0m\u001b[0;34m\u001b[0m\u001b[0m\n\u001b[1;32m      2\u001b[0m \u001b[0mlist\u001b[0m \u001b[0;34m=\u001b[0m \u001b[0;34m[\u001b[0m\u001b[0;36m1\u001b[0m\u001b[0;34m,\u001b[0m \u001b[0;36m5\u001b[0m\u001b[0;34m,\u001b[0m \u001b[0;36m2\u001b[0m\u001b[0;34m,\u001b[0m \u001b[0;36m4\u001b[0m\u001b[0;34m,\u001b[0m \u001b[0;36m3\u001b[0m\u001b[0;34m,\u001b[0m \u001b[0;36m6\u001b[0m\u001b[0;34m,\u001b[0m \u001b[0;36m9\u001b[0m\u001b[0;34m,\u001b[0m \u001b[0;36m8\u001b[0m\u001b[0;34m,\u001b[0m \u001b[0;36m7\u001b[0m\u001b[0;34m]\u001b[0m\u001b[0;34m\u001b[0m\u001b[0;34m\u001b[0m\u001b[0m\n\u001b[0;32m----> 3\u001b[0;31m \u001b[0mlistpord\u001b[0m \u001b[0;34m=\u001b[0m \u001b[0mmath\u001b[0m\u001b[0;34m.\u001b[0m\u001b[0mprod\u001b[0m\u001b[0;34m(\u001b[0m\u001b[0mlist\u001b[0m\u001b[0;34m)\u001b[0m\u001b[0;34m\u001b[0m\u001b[0;34m\u001b[0m\u001b[0m\n\u001b[0m\u001b[1;32m      4\u001b[0m \u001b[0mprint\u001b[0m\u001b[0;34m(\u001b[0m\u001b[0mlistpord\u001b[0m\u001b[0;34m)\u001b[0m\u001b[0;34m\u001b[0m\u001b[0;34m\u001b[0m\u001b[0m\n",
            "\u001b[0;31mAttributeError\u001b[0m: module 'math' has no attribute 'prod'"
          ]
        }
      ]
    },
    {
      "cell_type": "code",
      "metadata": {
        "colab": {
          "base_uri": "https://localhost:8080/"
        },
        "id": "Prdztqrdf9EB",
        "outputId": "49e5a8b8-7ea9-4d92-fd92-5c6af5ffdf5c"
      },
      "source": [
        "list = [1, 5, 2, 4, 3, 6, 9, 8, 7]\n",
        "print(\"Giá Trị Lớn Nhất \")\n",
        "print(max(list))"
      ],
      "execution_count": 53,
      "outputs": [
        {
          "output_type": "stream",
          "name": "stdout",
          "text": [
            "Giá Trị Lớn Nhất \n",
            "9\n"
          ]
        }
      ]
    },
    {
      "cell_type": "code",
      "metadata": {
        "colab": {
          "base_uri": "https://localhost:8080/"
        },
        "id": "DjKCB_LdgEcv",
        "outputId": "9912fc90-9c1a-4bd3-f69d-b91b6e55274a"
      },
      "source": [
        "list = [1, 5, 2, 4, 3, 6, 9, 8, 7]\n",
        "print(\"Giá Trị Nhỏ Nhất\")\n",
        "print(min(list))"
      ],
      "execution_count": 52,
      "outputs": [
        {
          "output_type": "stream",
          "name": "stdout",
          "text": [
            "Giá Trị Nhỏ Nhất\n",
            "1\n"
          ]
        }
      ]
    },
    {
      "cell_type": "code",
      "metadata": {
        "colab": {
          "base_uri": "https://localhost:8080/"
        },
        "id": "fCSPvBS0gJb-",
        "outputId": "5d267024-4186-4c24-cc5a-59324fdaa646"
      },
      "source": [
        "list = [1, 5, 2, 4, 3, 6, 9, 8, 7]\n",
        "print(\"Sắp xếp theo giá trị tăng dần\")\n",
        "list1.sort()\n",
        "print(list)"
      ],
      "execution_count": 51,
      "outputs": [
        {
          "output_type": "stream",
          "name": "stdout",
          "text": [
            "Sắp xếp theo giá trị tăng dần\n",
            "[1, 5, 2, 4, 3, 6, 9, 8, 7]\n"
          ]
        }
      ]
    },
    {
      "cell_type": "code",
      "metadata": {
        "colab": {
          "base_uri": "https://localhost:8080/"
        },
        "id": "Q88XslQFgQyg",
        "outputId": "ecb11b94-d6ca-4c28-fe97-9606bda03049"
      },
      "source": [
        "list = [1, 5, 2, 4, 3, 6, 9, 8, 7]\n",
        "print(\"Sắp xếp theo giá trị giảm dần\")\n",
        "list1.sort(reverse = True)\n",
        "print(list)"
      ],
      "execution_count": 50,
      "outputs": [
        {
          "output_type": "stream",
          "name": "stdout",
          "text": [
            "Sắp xếp theo giá trị giảm dần\n",
            "[1, 5, 2, 4, 3, 6, 9, 8, 7]\n"
          ]
        }
      ]
    },
    {
      "cell_type": "code",
      "metadata": {
        "colab": {
          "base_uri": "https://localhost:8080/"
        },
        "id": "YpYaKJ0ggWPg",
        "outputId": "7fd35e6e-6fcc-41ec-f850-747c679baf2f"
      },
      "source": [
        "list = [1, 5, 2, 4, 3, 6, 9, 8, 7]\n",
        "print(\"Số phần tử của mảng\")\n",
        "print(len(list)) "
      ],
      "execution_count": 49,
      "outputs": [
        {
          "output_type": "stream",
          "name": "stdout",
          "text": [
            "Số phần tử của mảng\n",
            "9\n"
          ]
        }
      ]
    },
    {
      "cell_type": "code",
      "metadata": {
        "colab": {
          "base_uri": "https://localhost:8080/"
        },
        "id": "79DxRgMRgbWX",
        "outputId": "a58d2b79-a5ce-4bde-e8d2-939be0399385"
      },
      "source": [
        "list = [1, 5, 2, 4, 3, 6, 9, 8, 7]\n",
        "print(\"Lấy số ngẫu nhiên\")\n",
        "import random\n",
        "print(random.choice(list))\n"
      ],
      "execution_count": 59,
      "outputs": [
        {
          "output_type": "stream",
          "name": "stdout",
          "text": [
            "Lấy số ngẫu nhiên\n",
            "1\n"
          ]
        }
      ]
    },
    {
      "cell_type": "code",
      "metadata": {
        "id": "OqY52xYEgfW8"
      },
      "source": [
        "list = [1, 5, 2, 4, 3, 6, 9, 8, 7]\n",
        "list2 = [25, 74, 96, 68]\n",
        "print(list + list2 )"
      ],
      "execution_count": null,
      "outputs": []
    }
  ]
}