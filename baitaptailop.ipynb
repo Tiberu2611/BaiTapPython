{
  "nbformat": 4,
  "nbformat_minor": 0,
  "metadata": {
    "colab": {
      "name": "baitaptailop.ipynb",
      "provenance": [],
      "authorship_tag": "ABX9TyNTNqi77aEKZ8G5gU7TuQsF",
      "include_colab_link": true
    },
    "kernelspec": {
      "name": "python3",
      "display_name": "Python 3"
    },
    "language_info": {
      "name": "python"
    }
  },
  "cells": [
    {
      "cell_type": "markdown",
      "metadata": {
        "id": "view-in-github",
        "colab_type": "text"
      },
      "source": [
        "<a href=\"https://colab.research.google.com/github/Tiberu2611/github-and-colab/blob/main/baitaptailop.ipynb\" target=\"_parent\"><img src=\"https://colab.research.google.com/assets/colab-badge.svg\" alt=\"Open In Colab\"/></a>"
      ]
    },
    {
      "cell_type": "code",
      "metadata": {
        "colab": {
          "base_uri": "https://localhost:8080/",
          "height": 443
        },
        "id": "aD_HpPH2SLne",
        "outputId": "4204c6d1-6ec4-4f08-aceb-7b5bad821824"
      },
      "source": [
        "list = [1, 5, 2, 4, 3, 6, 9, 8, 7]\n",
        "print(\"Tổng các giá trị\")\n",
        "print(sum(list))\n",
        "print(\"Giá Trị Lớn Nhất \")\n",
        "print(max(list))\n",
        "print(\"Giá Trị Nhỏ Nhất\")\n",
        "print(min(list))\n",
        "print(\"Sắp xếp theo giá trị tăng dần\")\n",
        "list1.sort()\n",
        "print(list)\n",
        "print(\"Sắp xếp theo giá trị giảm dần\")\n",
        "list1.sort(reverse = True)\n",
        "print(list)\n",
        "print(\"Số phần tử của mảng\")\n",
        "print(len(list)) \n",
        "print(\"Lấy số ngẫu nhiên\")\n",
        "randomlist = int(random.choice(list))\n",
        "print(randomlist)"
      ],
      "execution_count": 33,
      "outputs": [
        {
          "output_type": "stream",
          "name": "stdout",
          "text": [
            "Tổng các giá trị\n",
            "45\n",
            "Giá Trị Lớn Nhất \n",
            "9\n",
            "Giá Trị Nhỏ Nhất\n",
            "1\n",
            "Sắp xếp theo giá trị tăng dần\n",
            "[1, 5, 2, 4, 3, 6, 9, 8, 7]\n",
            "Sắp xếp theo giá trị giảm dần\n",
            "[1, 5, 2, 4, 3, 6, 9, 8, 7]\n",
            "Số phần tử của mảng\n",
            "9\n",
            "Lấy số ngẫu nhiên\n"
          ]
        },
        {
          "output_type": "error",
          "ename": "NameError",
          "evalue": "ignored",
          "traceback": [
            "\u001b[0;31m---------------------------------------------------------------------------\u001b[0m",
            "\u001b[0;31mNameError\u001b[0m                                 Traceback (most recent call last)",
            "\u001b[0;32m<ipython-input-33-93b2bfa55de4>\u001b[0m in \u001b[0;36m<module>\u001b[0;34m()\u001b[0m\n\u001b[1;32m     15\u001b[0m \u001b[0mprint\u001b[0m\u001b[0;34m(\u001b[0m\u001b[0mlen\u001b[0m\u001b[0;34m(\u001b[0m\u001b[0mlist\u001b[0m\u001b[0;34m)\u001b[0m\u001b[0;34m)\u001b[0m\u001b[0;34m\u001b[0m\u001b[0;34m\u001b[0m\u001b[0m\n\u001b[1;32m     16\u001b[0m \u001b[0mprint\u001b[0m\u001b[0;34m(\u001b[0m\u001b[0;34m\"Lấy số ngẫu nhiên\"\u001b[0m\u001b[0;34m)\u001b[0m\u001b[0;34m\u001b[0m\u001b[0;34m\u001b[0m\u001b[0m\n\u001b[0;32m---> 17\u001b[0;31m \u001b[0mrandomlist\u001b[0m \u001b[0;34m=\u001b[0m \u001b[0mint\u001b[0m\u001b[0;34m(\u001b[0m\u001b[0mrandom\u001b[0m\u001b[0;34m.\u001b[0m\u001b[0mchoice\u001b[0m\u001b[0;34m(\u001b[0m\u001b[0mlist\u001b[0m\u001b[0;34m)\u001b[0m\u001b[0;34m)\u001b[0m\u001b[0;34m\u001b[0m\u001b[0;34m\u001b[0m\u001b[0m\n\u001b[0m\u001b[1;32m     18\u001b[0m \u001b[0mprint\u001b[0m\u001b[0;34m(\u001b[0m\u001b[0mrandomlist\u001b[0m\u001b[0;34m)\u001b[0m\u001b[0;34m\u001b[0m\u001b[0;34m\u001b[0m\u001b[0m\n",
            "\u001b[0;31mNameError\u001b[0m: name 'random' is not defined"
          ]
        }
      ]
    },
    {
      "cell_type": "code",
      "metadata": {
        "id": "PToIDB66a62e"
      },
      "source": [
        ""
      ],
      "execution_count": null,
      "outputs": []
    },
    {
      "cell_type": "code",
      "metadata": {
        "id": "MuE_CX3rTBWS"
      },
      "source": [
        ""
      ],
      "execution_count": null,
      "outputs": []
    }
  ]
}