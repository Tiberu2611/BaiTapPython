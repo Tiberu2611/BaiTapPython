{
  "nbformat": 4,
  "nbformat_minor": 0,
  "metadata": {
    "colab": {
      "name": "baitaptailop.ipynb",
      "provenance": [],
      "authorship_tag": "ABX9TyMDLioRN998aWR3aMKY5l/P",
      "include_colab_link": true
    },
    "kernelspec": {
      "name": "python3",
      "display_name": "Python 3"
    },
    "language_info": {
      "name": "python"
    }
  },
  "cells": [
    {
      "cell_type": "markdown",
      "metadata": {
        "id": "view-in-github",
        "colab_type": "text"
      },
      "source": [
        "<a href=\"https://colab.research.google.com/github/Tiberu2611/github-and-colab/blob/main/baitaptailop.ipynb\" target=\"_parent\"><img src=\"https://colab.research.google.com/assets/colab-badge.svg\" alt=\"Open In Colab\"/></a>"
      ]
    },
    {
      "cell_type": "code",
      "metadata": {
        "colab": {
          "base_uri": "https://localhost:8080/"
        },
        "id": "aD_HpPH2SLne",
        "outputId": "9bd59ed3-fc40-48c0-9723-bfd6709b96d5"
      },
      "source": [
        "list = [1, 5, 2, 4, 3, 6, 9, 8, 7]\n",
        "print(\"Tổng các giá trị\")\n",
        "print(sum(list))"
      ],
      "execution_count": 42,
      "outputs": [
        {
          "output_type": "stream",
          "name": "stdout",
          "text": [
            "Tổng các giá trị\n",
            "45\n"
          ]
        }
      ]
    },
    {
      "cell_type": "code",
      "metadata": {
        "id": "HblzZQABgm-Z"
      },
      "source": [
        "import math \n",
        "list = [1, 5, 2, 4, 3, 6, 9, 8, 7]\n",
        "listpord = math.prod(list)\n",
        "print(listpord)"
      ],
      "execution_count": null,
      "outputs": []
    },
    {
      "cell_type": "code",
      "metadata": {
        "id": "Prdztqrdf9EB"
      },
      "source": [
        "list = [1, 5, 2, 4, 3, 6, 9, 8, 7]\n",
        "print(\"Giá Trị Lớn Nhất \")\n",
        "print(max(list))"
      ],
      "execution_count": null,
      "outputs": []
    },
    {
      "cell_type": "code",
      "metadata": {
        "id": "DjKCB_LdgEcv"
      },
      "source": [
        "list = [1, 5, 2, 4, 3, 6, 9, 8, 7]\n",
        "print(\"Giá Trị Nhỏ Nhất\")\n",
        "print(min(list))"
      ],
      "execution_count": null,
      "outputs": []
    },
    {
      "cell_type": "code",
      "metadata": {
        "id": "fCSPvBS0gJb-"
      },
      "source": [
        "list = [1, 5, 2, 4, 3, 6, 9, 8, 7]\n",
        "print(\"Sắp xếp theo giá trị tăng dần\")\n",
        "list1.sort()\n",
        "print(list)"
      ],
      "execution_count": null,
      "outputs": []
    },
    {
      "cell_type": "code",
      "metadata": {
        "id": "Q88XslQFgQyg"
      },
      "source": [
        "list = [1, 5, 2, 4, 3, 6, 9, 8, 7]\n",
        "print(\"Sắp xếp theo giá trị giảm dần\")\n",
        "list1.sort(reverse = True)\n",
        "print(list)"
      ],
      "execution_count": null,
      "outputs": []
    },
    {
      "cell_type": "code",
      "metadata": {
        "id": "YpYaKJ0ggWPg"
      },
      "source": [
        "list = [1, 5, 2, 4, 3, 6, 9, 8, 7]\n",
        "print(\"Số phần tử của mảng\")\n",
        "print(len(list)) "
      ],
      "execution_count": null,
      "outputs": []
    },
    {
      "cell_type": "code",
      "metadata": {
        "id": "79DxRgMRgbWX"
      },
      "source": [
        "list = [1, 5, 2, 4, 3, 6, 9, 8, 7]\n",
        "print(\"Lấy số ngẫu nhiên\")\n",
        "import random\n",
        "print(random.choice(list) for _ in range(3))"
      ],
      "execution_count": null,
      "outputs": []
    },
    {
      "cell_type": "code",
      "metadata": {
        "id": "OqY52xYEgfW8"
      },
      "source": [
        "list = [1, 5, 2, 4, 3, 6, 9, 8, 7]\n",
        "list2 = [25, 74, 96, 68]\n",
        "print(list + list2 )"
      ],
      "execution_count": null,
      "outputs": []
    }
  ]
}