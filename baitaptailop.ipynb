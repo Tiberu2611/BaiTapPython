{
  "nbformat": 4,
  "nbformat_minor": 0,
  "metadata": {
    "colab": {
      "name": "baitaptailop.ipynb",
      "provenance": [],
      "authorship_tag": "ABX9TyMv1KJUGnb5nAOAxvbO3cOc",
      "include_colab_link": true
    },
    "kernelspec": {
      "name": "python3",
      "display_name": "Python 3"
    },
    "language_info": {
      "name": "python"
    }
  },
  "cells": [
    {
      "cell_type": "markdown",
      "metadata": {
        "id": "view-in-github",
        "colab_type": "text"
      },
      "source": [
        "<a href=\"https://colab.research.google.com/github/Tiberu2611/github-and-colab/blob/main/baitaptailop.ipynb\" target=\"_parent\"><img src=\"https://colab.research.google.com/assets/colab-badge.svg\" alt=\"Open In Colab\"/></a>"
      ]
    },
    {
      "cell_type": "code",
      "metadata": {
        "colab": {
          "base_uri": "https://localhost:8080/"
        },
        "id": "aD_HpPH2SLne",
        "outputId": "1ae01f0f-64e9-4289-db1f-b4bfc127595d"
      },
      "source": [
        "list = [1, 5, 2, 4, 3, 6, 9, 8, 7]\n",
        "print(\"Tổng các giá trị\")\n",
        "print(sum(list))\n",
        "print(\"Tích các giá trị\")\n",
        "print(\"Giá Trị Lớn Nhất \")\n",
        "print(max(list))\n",
        "print(\"Giá Trị Nhỏ Nhất\")\n",
        "print(min(list))\n",
        "print(\"Sắp xếp theo giá trị tăng dần\")\n",
        "list1.sort()\n",
        "print(list)\n",
        "print(\"Sắp xếp theo giá trị giảm dần\")\n",
        "list1.sort(reverse = True)\n",
        "print(list)\n",
        "print(\"Số phần tử của mảng\")\n",
        "print(len(list)) \n",
        "print(\"Lấy số ngẫu nhiên\")\n",
        "import random\n",
        "print(random.choice(list),)\n",
        "list2 = [25, 74, 96, 68]\n",
        "print(list + list2 )"
      ],
      "execution_count": 36,
      "outputs": [
        {
          "output_type": "stream",
          "name": "stdout",
          "text": [
            "Tổng các giá trị\n",
            "45\n",
            "Tích các giá trị\n",
            "Giá Trị Lớn Nhất \n",
            "9\n",
            "Giá Trị Nhỏ Nhất\n",
            "1\n",
            "Sắp xếp theo giá trị tăng dần\n",
            "[1, 5, 2, 4, 3, 6, 9, 8, 7]\n",
            "Sắp xếp theo giá trị giảm dần\n",
            "[1, 5, 2, 4, 3, 6, 9, 8, 7]\n",
            "Số phần tử của mảng\n",
            "9\n",
            "Lấy số ngẫu nhiên\n",
            "8 3\n",
            "[1, 5, 2, 4, 3, 6, 9, 8, 7, 25, 74, 96, 68]\n"
          ]
        }
      ]
    },
    {
      "cell_type": "code",
      "metadata": {
        "id": "PToIDB66a62e"
      },
      "source": [
        ""
      ],
      "execution_count": null,
      "outputs": []
    },
    {
      "cell_type": "code",
      "metadata": {
        "id": "MuE_CX3rTBWS"
      },
      "source": [
        ""
      ],
      "execution_count": null,
      "outputs": []
    }
  ]
}