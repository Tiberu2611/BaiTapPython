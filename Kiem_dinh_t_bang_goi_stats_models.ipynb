{
  "nbformat": 4,
  "nbformat_minor": 0,
  "metadata": {
    "colab": {
      "name": "Kiem-dinh-t-bang-goi-stats-models.ipynb",
      "provenance": [],
      "collapsed_sections": [],
      "authorship_tag": "ABX9TyN3CTszGVzSgqn0O8Nhm6ZO",
      "include_colab_link": true
    },
    "kernelspec": {
      "name": "python3",
      "display_name": "Python 3"
    },
    "language_info": {
      "name": "python"
    }
  },
  "cells": [
    {
      "cell_type": "markdown",
      "metadata": {
        "id": "view-in-github",
        "colab_type": "text"
      },
      "source": [
        "<a href=\"https://colab.research.google.com/github/Tiberu2611/BaiTapPython/blob/main/Kiem_dinh_t_bang_goi_stats_models.ipynb\" target=\"_parent\"><img src=\"https://colab.research.google.com/assets/colab-badge.svg\" alt=\"Open In Colab\"/></a>"
      ]
    },
    {
      "cell_type": "code",
      "execution_count": null,
      "metadata": {
        "id": "rdXuqES-Rw_U",
        "colab": {
          "base_uri": "https://localhost:8080/"
        },
        "outputId": "e8845d35-0679-4114-db7b-544712cb60f3"
      },
      "outputs": [
        {
          "output_type": "stream",
          "name": "stderr",
          "text": [
            "/usr/local/lib/python3.7/dist-packages/statsmodels/tools/_testing.py:19: FutureWarning: pandas.util.testing is deprecated. Use the functions in the public API at pandas.testing instead.\n",
            "  import pandas.util.testing as tm\n"
          ]
        }
      ],
      "source": [
        "import numpy as np\n",
        "import pandas as pd\n",
        "import random\n",
        "from scipy import stats\n",
        "from statsmodels.stats.weightstats import ttest_ind\n",
        "import math"
      ]
    },
    {
      "cell_type": "markdown",
      "source": [
        "Một số lưu ý khi kiểm định giả thuyết trong thống kê suy diễn\n",
        "\n",
        "(1) Cỡ mẫu thường phải nhỏ hơn ($n \\leq 30$) để có ý nghĩa thống kê\n",
        "\n",
        "(2) Các mẫu quan sát được (sample observations) phải được lựa chọn ngẫu nhiên từ quần thể\n",
        "\n",
        "(3) Các đại lượng như trung bình mẫu (sample mean), độ lệch chuẩn của mẫu (standard deviation), phương sai mẫu (sample variance) được tính từ tập mẫu quan sát được.\n",
        "\n",
        "(4) Giả định rằng quần thể được nghiên cứu lấy mẫu xấp xỉ với phân phối chuẩn.\n"
      ],
      "metadata": {
        "id": "vDm9zWjHSOh-"
      }
    },
    {
      "cell_type": "markdown",
      "source": [
        "Các bước thực hiện kiểm định giả thuyết (sử dụng kiểm định tt)\n",
        "\n",
        "Bước 1: Thực hiện các phép đo, hay thu thập dữ liệu quan sát\n",
        "\n",
        "Bước 2: Phát biểu giả thuyết $H_{0}$ và giả thuyết thay thế $H_{a}$\n",
        "\n",
        "Bước 3: Xác định mức $\\alpha$ (hay khoảng tin cậy)\n",
        "\n",
        "Bước 4: Lấy mẫu và tính toán các đại lượng thống kê của mẫu\n",
        "\n",
        "Bước 5: Thực hiện kiểm định t (t-test)\n",
        "\n",
        "Bước 6: Kết luận dựa vào kết quả kiểm định\n"
      ],
      "metadata": {
        "id": "7K2DH0b3SRpe"
      }
    },
    {
      "cell_type": "markdown",
      "source": [
        "Kiểm định giả thuyết 2-đuôi\n",
        "\n",
        "Bài toán: Giả sử lấy ra ngẫu nhiên 20 người bán hàng ở TP.HCM với công việc mỗi ngày là bán hàng và bán được trung bình mỗi ngày là 50 đơn hàng. Biết là ở Huế mỗi ngày mỗi người bán được 45 đơn và độ lệch chuẩn là 10. Liệu với độ tin cậy là 95% (hay hệ số sig - significance level) - 5%) có thể nhận định được người nào bán tốt hơn hay không ?\n",
        "Xây dựng giả thuyết\n",
        "\n",
        "$$H_{0}: \\mu = 45$$\n",
        "\n",
        "Giả thuyết thay thế: \n",
        "\n",
        "$$H_{a}: \\mu > 45 $$\n",
        "\n",
        "với:\n",
        "\n",
        "- Hệ số sig = 0.05\n",
        "- Chỉ số z tương ứng với hệ số sig ở trên là 1.645\n",
        "\n",
        "Công thức:\n",
        "$$t = \\frac{(\\overline{\\rm X} - \\mu)}{(\\sigma / \\sqrt{n})}$$\n",
        "\n",
        "Áp dụng với các giá trị nêu trên:\n",
        "\n",
        "- $\\overline{\\rm X} = 50$\n",
        "- $\\mu = 45$\n",
        "- $\\sigma = 10$\n",
        "- $\\alpha = 0.05$\n",
        "- $n =20$\n",
        "\n",
        "$$t = \\frac{(50 - 45)}{(10 / \\sqrt{20})} = 2.23$$\n",
        "\n",
        "Giá trị z = 2.23 > 1.645 nên có bằng chứng để bác bỏ giả thuyết $H_{0}$"
      ],
      "metadata": {
        "id": "tAQq0T_VS6PP"
      }
    },
    {
      "cell_type": "code",
      "source": [
        "#Sinh ngẫu nhiên một mẫu 20 phần tử có trung bình mẫu là 50, độ lệch chuẩn là 10\n",
        "samples = np.random.normal(50, 10 , 20)\n",
        "print(samples[:10])"
      ],
      "metadata": {
        "colab": {
          "base_uri": "https://localhost:8080/"
        },
        "id": "EgwiaxaoSUce",
        "outputId": "c19c750a-c52b-472b-cef0-d47277347d7f"
      },
      "execution_count": null,
      "outputs": [
        {
          "output_type": "stream",
          "name": "stdout",
          "text": [
            "[53.92787341 46.05147608 47.37008225 53.54063459 30.52725397 58.75356337\n",
            " 63.90677633 48.57812922 48.7543253  64.2277878 ]\n"
          ]
        }
      ]
    },
    {
      "cell_type": "code",
      "source": [
        "#Xác định các thông số\n",
        "null_mean = 45\n",
        "alpha = 0.05"
      ],
      "metadata": {
        "id": "87R9d712XJol"
      },
      "execution_count": null,
      "outputs": []
    },
    {
      "cell_type": "code",
      "source": [
        "#Kiểm định t\n",
        "t_statistic, p_value= stats.ttest_1samp(samples, null_mean)\n",
        "print('P value', p_value)\n",
        "if(p_value <  alpha):\n",
        "  print(\"Có bằng chứng để bác bỏ giả thuyết H0\")\n",
        "else:\n",
        "  print(\"Chưa có bằng chứng để bác bỏ giả thuyết H0\")"
      ],
      "metadata": {
        "colab": {
          "base_uri": "https://localhost:8080/"
        },
        "id": "BUklgV20XMJt",
        "outputId": "c56d0819-4269-4010-8843-689d7e232bdb"
      },
      "execution_count": null,
      "outputs": [
        {
          "output_type": "stream",
          "name": "stdout",
          "text": [
            "P value 0.004264813518782311\n",
            "Có bằng chứng để bác bỏ giả thuyết H0\n"
          ]
        }
      ]
    },
    {
      "cell_type": "markdown",
      "source": [
        "Kiểm định giả thuyết 1-đuôi\n",
        "\n",
        "Bài toán: Giả sử lấy ra ngẫu nhiên 20 người bán hàng ở TP.HCM với công việc mỗi ngày là bán hàng và bán được trung bình mỗi ngày là 50 đơn hàng. Biết là ở Huế mỗi ngày mỗi người bán được 45 đơn và độ lệch chuẩn là 10. Liệu với độ tin cậy là 95% (hay hệ số sig - significance level) - 5%) có thể nhận định được người nào bán tốt hơn hay không ?\n",
        "\n",
        "Xây dựng giả thuyết\n",
        "\n",
        "$$H_{0}: \\mu = 45$$\n",
        "\n",
        "Giả thuyết thay thế: \n",
        "\n",
        "$$H_{a}: \\mu > 45 $$\n",
        "\n",
        "với:\n",
        "\n",
        "- Hệ số sig = 0.05\n",
        "- Chỉ số z tương ứng với hệ số sig ở trên là 1.645\n",
        "\n",
        "Công thức:\n",
        "$$t = \\frac{(\\overline{\\rm X} - \\mu)}{(\\sigma / \\sqrt{n})}$$\n",
        "\n",
        "Áp dụng với các giá trị nêu trên:\n",
        "\n",
        "- $\\overline{\\rm X} = 50$\n",
        "- $\\mu = 45$\n",
        "- $\\sigma = 10$\n",
        "- $\\alpha = 0.025$\n",
        "- $n =20$\n",
        "\n",
        "$$t = \\frac{(50 - 45)}{(10 / \\sqrt{20})} = 2.23$$\n",
        "\n",
        "Giá trị z = 2.23 > 1.645 nên có bằng chứng để bác bỏ giả thuyết $H_{0}$"
      ],
      "metadata": {
        "id": "0UKGz2uRXVrN"
      }
    },
    {
      "cell_type": "code",
      "source": [
        "#tiến hành Sinh ngẫu nhiên hai mẫu 20 phần tử có trung bình mẫu là 50, độ lệch chuẩn là 10\n",
        "samples = np.random.normal(50, 10 , 20)\n",
        "print(samples)"
      ],
      "metadata": {
        "id": "5Xl8xJ0SXYd-",
        "colab": {
          "base_uri": "https://localhost:8080/"
        },
        "outputId": "7896afe7-a6d2-4292-ea87-3bdd195a4ff6"
      },
      "execution_count": null,
      "outputs": [
        {
          "output_type": "stream",
          "name": "stdout",
          "text": [
            "[68.46030839 59.4026168  59.3736645  55.01492679 46.81388623 67.77301683\n",
            " 50.56144872 27.64315221 53.41765217 52.89909532 46.73292125 41.84894484\n",
            " 62.81180536 38.51135211 42.57165338 56.81814523 36.40235227 47.11137283\n",
            " 70.36825223 47.51402443]\n"
          ]
        }
      ]
    },
    {
      "cell_type": "code",
      "source": [
        "null_mean = 45\n",
        "alpha = 0.05"
      ],
      "metadata": {
        "id": "vef-0oSaca59"
      },
      "execution_count": null,
      "outputs": []
    },
    {
      "cell_type": "code",
      "source": [
        "ttest_score, p_value = starts.ttest_ind(sample)"
      ],
      "metadata": {
        "id": "iFIJP82Pcq2-",
        "colab": {
          "base_uri": "https://localhost:8080/",
          "height": 235
        },
        "outputId": "ec8f6363-3456-4df7-af96-7ddff4d7baff"
      },
      "execution_count": null,
      "outputs": [
        {
          "output_type": "error",
          "ename": "NameError",
          "evalue": "ignored",
          "traceback": [
            "\u001b[0;31m---------------------------------------------------------------------------\u001b[0m",
            "\u001b[0;31mNameError\u001b[0m                                 Traceback (most recent call last)",
            "\u001b[0;32m<ipython-input-10-6dd243a5581b>\u001b[0m in \u001b[0;36m<module>\u001b[0;34m()\u001b[0m\n\u001b[1;32m      1\u001b[0m \u001b[0malpha\u001b[0m \u001b[0;34m=\u001b[0m \u001b[0;36m0.05\u001b[0m\u001b[0;34m\u001b[0m\u001b[0;34m\u001b[0m\u001b[0m\n\u001b[0;32m----> 2\u001b[0;31m \u001b[0mztest_score\u001b[0m\u001b[0;34m,\u001b[0m \u001b[0mp_value\u001b[0m \u001b[0;34m=\u001b[0m \u001b[0mztest\u001b[0m\u001b[0;34m(\u001b[0m\u001b[0mx1\u001b[0m \u001b[0;34m=\u001b[0m \u001b[0msamples_a\u001b[0m\u001b[0;34m,\u001b[0m \u001b[0mx2\u001b[0m \u001b[0;34m=\u001b[0m \u001b[0msamples_b\u001b[0m\u001b[0;34m,\u001b[0m \u001b[0mvalue\u001b[0m \u001b[0;34m=\u001b[0m \u001b[0;36m70\u001b[0m \u001b[0;34m-\u001b[0m \u001b[0;36m100\u001b[0m\u001b[0;34m,\u001b[0m \u001b[0malternative\u001b[0m \u001b[0;34m=\u001b[0m \u001b[0;34m'smaller'\u001b[0m\u001b[0;34m)\u001b[0m\u001b[0;34m\u001b[0m\u001b[0;34m\u001b[0m\u001b[0m\n\u001b[0m\u001b[1;32m      3\u001b[0m \u001b[0mprint\u001b[0m\u001b[0;34m(\u001b[0m\u001b[0;34m'z = '\u001b[0m\u001b[0;34m,\u001b[0m \u001b[0mztest_score\u001b[0m\u001b[0;34m,\u001b[0m \u001b[0;34m'; p = '\u001b[0m\u001b[0;34m,\u001b[0m \u001b[0mp_value\u001b[0m\u001b[0;34m)\u001b[0m\u001b[0;34m\u001b[0m\u001b[0;34m\u001b[0m\u001b[0m\n\u001b[1;32m      4\u001b[0m \u001b[0;32mif\u001b[0m\u001b[0;34m(\u001b[0m\u001b[0mp_value\u001b[0m \u001b[0;34m<\u001b[0m  \u001b[0malpha\u001b[0m\u001b[0;34m)\u001b[0m\u001b[0;34m:\u001b[0m\u001b[0;34m\u001b[0m\u001b[0;34m\u001b[0m\u001b[0m\n\u001b[1;32m      5\u001b[0m   \u001b[0mprint\u001b[0m\u001b[0;34m(\u001b[0m\u001b[0;34m\"Có bằng chứng để bác bỏ giả thuyết H0\"\u001b[0m\u001b[0;34m)\u001b[0m\u001b[0;34m\u001b[0m\u001b[0;34m\u001b[0m\u001b[0m\n",
            "\u001b[0;31mNameError\u001b[0m: name 'ztest' is not defined"
          ]
        }
      ]
    }
  ]
}