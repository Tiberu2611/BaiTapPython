{
  "nbformat": 4,
  "nbformat_minor": 0,
  "metadata": {
    "colab": {
      "name": "Do_an_tksd.ipynb",
      "provenance": [],
      "authorship_tag": "ABX9TyO8QUpnFBem6eM6og6229Nk",
      "include_colab_link": true
    },
    "kernelspec": {
      "name": "python3",
      "display_name": "Python 3"
    },
    "language_info": {
      "name": "python"
    }
  },
  "cells": [
    {
      "cell_type": "markdown",
      "metadata": {
        "id": "view-in-github",
        "colab_type": "text"
      },
      "source": [
        "<a href=\"https://colab.research.google.com/github/Tiberu2611/BaiTapPython/blob/main/Do_an_tksd.ipynb\" target=\"_parent\"><img src=\"https://colab.research.google.com/assets/colab-badge.svg\" alt=\"Open In Colab\"/></a>"
      ]
    },
    {
      "cell_type": "markdown",
      "source": [
        "Thư Viện Cho Suy Diễn Thống Kê"
      ],
      "metadata": {
        "id": "o3mdpVLYFeVL"
      }
    },
    {
      "cell_type": "code",
      "execution_count": 2,
      "metadata": {
        "id": "VDuw0Owrisc5",
        "colab": {
          "base_uri": "https://localhost:8080/"
        },
        "outputId": "3fb04c13-38b4-4daa-dea9-cf86194f5832"
      },
      "outputs": [
        {
          "output_type": "stream",
          "name": "stderr",
          "text": [
            "/usr/local/lib/python3.7/dist-packages/statsmodels/tools/_testing.py:19: FutureWarning: pandas.util.testing is deprecated. Use the functions in the public API at pandas.testing instead.\n",
            "  import pandas.util.testing as tm\n"
          ]
        }
      ],
      "source": [
        "import numpy as np\n",
        "import pandas as pd\n",
        "import matplotlib.pyplot as plt \n",
        "import seaborn as sns\n",
        "import statsmodels\n",
        "import statsmodels.api as sm\n",
        "from statsmodels.formula.api import ols\n",
        "import scipy  \n",
        "from scipy import stats\n",
        "import statsmodels.stats.multicomp as mc\n",
        "from google.colab import drive\n",
        "from scipy.stats import f_oneway"
      ]
    },
    {
      "cell_type": "markdown",
      "source": [
        "Đọc tập dữ liệu Diet_R.csv"
      ],
      "metadata": {
        "id": "Oi4qh6TC5XdT"
      }
    },
    {
      "cell_type": "code",
      "source": [
        "drive.mount('/content/drive')\n",
        "df = pd.read_csv('drive/My Drive/Diet_R.csv')"
      ],
      "metadata": {
        "colab": {
          "base_uri": "https://localhost:8080/"
        },
        "id": "JS_kGnaA5a46",
        "outputId": "ff405113-5be8-4926-8c0d-5305a1618a06"
      },
      "execution_count": 3,
      "outputs": [
        {
          "output_type": "stream",
          "name": "stdout",
          "text": [
            "Mounted at /content/drive\n"
          ]
        }
      ]
    },
    {
      "cell_type": "markdown",
      "source": [
        "Hiển thị các thông số cơ bản của tập dữ liệu"
      ],
      "metadata": {
        "id": "Wfor5ipj50HI"
      }
    },
    {
      "cell_type": "code",
      "source": [
        "df.head()"
      ],
      "metadata": {
        "colab": {
          "base_uri": "https://localhost:8080/",
          "height": 424
        },
        "id": "1wEvd-PA6Z9l",
        "outputId": "b55614a8-fb84-4477-afa0-d8687bcc2f8f"
      },
      "execution_count": 4,
      "outputs": [
        {
          "output_type": "execute_result",
          "data": {
            "text/plain": [
              "    Person gender  Age  Height  pre.weight  Diet  weight6weeks\n",
              "0       25          41     171          60     2          60.0\n",
              "1       26          32     174         103     2         103.0\n",
              "2        1      0   22     159          58     1          54.2\n",
              "3        2      0   46     192          60     1          54.0\n",
              "4        3      0   55     170          64     1          63.3\n",
              "..     ...    ...  ...     ...         ...   ...           ...\n",
              "73      74      1   35     183          83     3          80.2\n",
              "74      75      1   49     177          84     3          79.9\n",
              "75      76      1   28     164          85     3          79.7\n",
              "76      77      1   40     167          87     3          77.8\n",
              "77      78      1   51     175          88     3          81.9\n",
              "\n",
              "[78 rows x 7 columns]"
            ],
            "text/html": [
              "\n",
              "  <div id=\"df-bc5a2159-2efa-4795-9cdf-3f67e8968c5d\">\n",
              "    <div class=\"colab-df-container\">\n",
              "      <div>\n",
              "<style scoped>\n",
              "    .dataframe tbody tr th:only-of-type {\n",
              "        vertical-align: middle;\n",
              "    }\n",
              "\n",
              "    .dataframe tbody tr th {\n",
              "        vertical-align: top;\n",
              "    }\n",
              "\n",
              "    .dataframe thead th {\n",
              "        text-align: right;\n",
              "    }\n",
              "</style>\n",
              "<table border=\"1\" class=\"dataframe\">\n",
              "  <thead>\n",
              "    <tr style=\"text-align: right;\">\n",
              "      <th></th>\n",
              "      <th>Person</th>\n",
              "      <th>gender</th>\n",
              "      <th>Age</th>\n",
              "      <th>Height</th>\n",
              "      <th>pre.weight</th>\n",
              "      <th>Diet</th>\n",
              "      <th>weight6weeks</th>\n",
              "    </tr>\n",
              "  </thead>\n",
              "  <tbody>\n",
              "    <tr>\n",
              "      <th>0</th>\n",
              "      <td>25</td>\n",
              "      <td></td>\n",
              "      <td>41</td>\n",
              "      <td>171</td>\n",
              "      <td>60</td>\n",
              "      <td>2</td>\n",
              "      <td>60.0</td>\n",
              "    </tr>\n",
              "    <tr>\n",
              "      <th>1</th>\n",
              "      <td>26</td>\n",
              "      <td></td>\n",
              "      <td>32</td>\n",
              "      <td>174</td>\n",
              "      <td>103</td>\n",
              "      <td>2</td>\n",
              "      <td>103.0</td>\n",
              "    </tr>\n",
              "    <tr>\n",
              "      <th>2</th>\n",
              "      <td>1</td>\n",
              "      <td>0</td>\n",
              "      <td>22</td>\n",
              "      <td>159</td>\n",
              "      <td>58</td>\n",
              "      <td>1</td>\n",
              "      <td>54.2</td>\n",
              "    </tr>\n",
              "    <tr>\n",
              "      <th>3</th>\n",
              "      <td>2</td>\n",
              "      <td>0</td>\n",
              "      <td>46</td>\n",
              "      <td>192</td>\n",
              "      <td>60</td>\n",
              "      <td>1</td>\n",
              "      <td>54.0</td>\n",
              "    </tr>\n",
              "    <tr>\n",
              "      <th>4</th>\n",
              "      <td>3</td>\n",
              "      <td>0</td>\n",
              "      <td>55</td>\n",
              "      <td>170</td>\n",
              "      <td>64</td>\n",
              "      <td>1</td>\n",
              "      <td>63.3</td>\n",
              "    </tr>\n",
              "    <tr>\n",
              "      <th>...</th>\n",
              "      <td>...</td>\n",
              "      <td>...</td>\n",
              "      <td>...</td>\n",
              "      <td>...</td>\n",
              "      <td>...</td>\n",
              "      <td>...</td>\n",
              "      <td>...</td>\n",
              "    </tr>\n",
              "    <tr>\n",
              "      <th>73</th>\n",
              "      <td>74</td>\n",
              "      <td>1</td>\n",
              "      <td>35</td>\n",
              "      <td>183</td>\n",
              "      <td>83</td>\n",
              "      <td>3</td>\n",
              "      <td>80.2</td>\n",
              "    </tr>\n",
              "    <tr>\n",
              "      <th>74</th>\n",
              "      <td>75</td>\n",
              "      <td>1</td>\n",
              "      <td>49</td>\n",
              "      <td>177</td>\n",
              "      <td>84</td>\n",
              "      <td>3</td>\n",
              "      <td>79.9</td>\n",
              "    </tr>\n",
              "    <tr>\n",
              "      <th>75</th>\n",
              "      <td>76</td>\n",
              "      <td>1</td>\n",
              "      <td>28</td>\n",
              "      <td>164</td>\n",
              "      <td>85</td>\n",
              "      <td>3</td>\n",
              "      <td>79.7</td>\n",
              "    </tr>\n",
              "    <tr>\n",
              "      <th>76</th>\n",
              "      <td>77</td>\n",
              "      <td>1</td>\n",
              "      <td>40</td>\n",
              "      <td>167</td>\n",
              "      <td>87</td>\n",
              "      <td>3</td>\n",
              "      <td>77.8</td>\n",
              "    </tr>\n",
              "    <tr>\n",
              "      <th>77</th>\n",
              "      <td>78</td>\n",
              "      <td>1</td>\n",
              "      <td>51</td>\n",
              "      <td>175</td>\n",
              "      <td>88</td>\n",
              "      <td>3</td>\n",
              "      <td>81.9</td>\n",
              "    </tr>\n",
              "  </tbody>\n",
              "</table>\n",
              "<p>78 rows × 7 columns</p>\n",
              "</div>\n",
              "      <button class=\"colab-df-convert\" onclick=\"convertToInteractive('df-bc5a2159-2efa-4795-9cdf-3f67e8968c5d')\"\n",
              "              title=\"Convert this dataframe to an interactive table.\"\n",
              "              style=\"display:none;\">\n",
              "        \n",
              "  <svg xmlns=\"http://www.w3.org/2000/svg\" height=\"24px\"viewBox=\"0 0 24 24\"\n",
              "       width=\"24px\">\n",
              "    <path d=\"M0 0h24v24H0V0z\" fill=\"none\"/>\n",
              "    <path d=\"M18.56 5.44l.94 2.06.94-2.06 2.06-.94-2.06-.94-.94-2.06-.94 2.06-2.06.94zm-11 1L8.5 8.5l.94-2.06 2.06-.94-2.06-.94L8.5 2.5l-.94 2.06-2.06.94zm10 10l.94 2.06.94-2.06 2.06-.94-2.06-.94-.94-2.06-.94 2.06-2.06.94z\"/><path d=\"M17.41 7.96l-1.37-1.37c-.4-.4-.92-.59-1.43-.59-.52 0-1.04.2-1.43.59L10.3 9.45l-7.72 7.72c-.78.78-.78 2.05 0 2.83L4 21.41c.39.39.9.59 1.41.59.51 0 1.02-.2 1.41-.59l7.78-7.78 2.81-2.81c.8-.78.8-2.07 0-2.86zM5.41 20L4 18.59l7.72-7.72 1.47 1.35L5.41 20z\"/>\n",
              "  </svg>\n",
              "      </button>\n",
              "      \n",
              "  <style>\n",
              "    .colab-df-container {\n",
              "      display:flex;\n",
              "      flex-wrap:wrap;\n",
              "      gap: 12px;\n",
              "    }\n",
              "\n",
              "    .colab-df-convert {\n",
              "      background-color: #E8F0FE;\n",
              "      border: none;\n",
              "      border-radius: 50%;\n",
              "      cursor: pointer;\n",
              "      display: none;\n",
              "      fill: #1967D2;\n",
              "      height: 32px;\n",
              "      padding: 0 0 0 0;\n",
              "      width: 32px;\n",
              "    }\n",
              "\n",
              "    .colab-df-convert:hover {\n",
              "      background-color: #E2EBFA;\n",
              "      box-shadow: 0px 1px 2px rgba(60, 64, 67, 0.3), 0px 1px 3px 1px rgba(60, 64, 67, 0.15);\n",
              "      fill: #174EA6;\n",
              "    }\n",
              "\n",
              "    [theme=dark] .colab-df-convert {\n",
              "      background-color: #3B4455;\n",
              "      fill: #D2E3FC;\n",
              "    }\n",
              "\n",
              "    [theme=dark] .colab-df-convert:hover {\n",
              "      background-color: #434B5C;\n",
              "      box-shadow: 0px 1px 3px 1px rgba(0, 0, 0, 0.15);\n",
              "      filter: drop-shadow(0px 1px 2px rgba(0, 0, 0, 0.3));\n",
              "      fill: #FFFFFF;\n",
              "    }\n",
              "  </style>\n",
              "\n",
              "      <script>\n",
              "        const buttonEl =\n",
              "          document.querySelector('#df-bc5a2159-2efa-4795-9cdf-3f67e8968c5d button.colab-df-convert');\n",
              "        buttonEl.style.display =\n",
              "          google.colab.kernel.accessAllowed ? 'block' : 'none';\n",
              "\n",
              "        async function convertToInteractive(key) {\n",
              "          const element = document.querySelector('#df-bc5a2159-2efa-4795-9cdf-3f67e8968c5d');\n",
              "          const dataTable =\n",
              "            await google.colab.kernel.invokeFunction('convertToInteractive',\n",
              "                                                     [key], {});\n",
              "          if (!dataTable) return;\n",
              "\n",
              "          const docLinkHtml = 'Like what you see? Visit the ' +\n",
              "            '<a target=\"_blank\" href=https://colab.research.google.com/notebooks/data_table.ipynb>data table notebook</a>'\n",
              "            + ' to learn more about interactive tables.';\n",
              "          element.innerHTML = '';\n",
              "          dataTable['output_type'] = 'display_data';\n",
              "          await google.colab.output.renderOutput(dataTable, element);\n",
              "          const docLink = document.createElement('div');\n",
              "          docLink.innerHTML = docLinkHtml;\n",
              "          element.appendChild(docLink);\n",
              "        }\n",
              "      </script>\n",
              "    </div>\n",
              "  </div>\n",
              "  "
            ]
          },
          "metadata": {},
          "execution_count": 4
        }
      ]
    },
    {
      "cell_type": "code",
      "source": [
        "df.info()"
      ],
      "metadata": {
        "colab": {
          "base_uri": "https://localhost:8080/"
        },
        "id": "1ktu-QPp6meH",
        "outputId": "b3b03cfb-d110-499d-ce1f-e3acbb7e11ac"
      },
      "execution_count": null,
      "outputs": [
        {
          "output_type": "stream",
          "name": "stdout",
          "text": [
            "<class 'pandas.core.frame.DataFrame'>\n",
            "RangeIndex: 78 entries, 0 to 77\n",
            "Data columns (total 7 columns):\n",
            " #   Column        Non-Null Count  Dtype  \n",
            "---  ------        --------------  -----  \n",
            " 0   Person        78 non-null     int64  \n",
            " 1   gender        78 non-null     object \n",
            " 2   Age           78 non-null     int64  \n",
            " 3   Height        78 non-null     int64  \n",
            " 4   pre.weight    78 non-null     int64  \n",
            " 5   Diet          78 non-null     int64  \n",
            " 6   weight6weeks  78 non-null     float64\n",
            "dtypes: float64(1), int64(5), object(1)\n",
            "memory usage: 4.4+ KB\n"
          ]
        }
      ]
    },
    {
      "cell_type": "markdown",
      "source": [
        "**Kiểm tra các giả thuyết để xem có giảm cân được hay không**"
      ],
      "metadata": {
        "id": "YfewSpu46v4K"
      }
    },
    {
      "cell_type": "markdown",
      "source": [
        "Phát biểu giả thiết\n",
        "\n",
        "$ H_{0}:$ Cân nặng trước khi giảm cân và sau khi giảm cân như nhau.\n",
        "$$μ_{0} = μ_{1} $$\n",
        "$ H_{1}:$ Cân nặng trước khi giảm cân và sau khi giảm cân khác nhau.\n",
        "$$μ_{0} \\neq μ_{1} $$\n"
      ],
      "metadata": {
        "id": "hI_MfqaX8c4V"
      }
    },
    {
      "cell_type": "code",
      "source": [
        "ttest_score, p=stats.ttest_ind(df[\"pre.weight\"], df[\"weight6weeks\"])\n",
        "print('starts = ',ttest_score , 'p value ', p)\n",
        "if (p > 0.05):\n",
        "    print(\"Không có bằng chứng để bác bỏ H0 \")\n",
        "    print(\"Cân nặng trước và sau khi giảm cân không thay đổi\")\n",
        "else:\n",
        "    print('Đã có đủ bằng chứng để bác bỏ H0')\n",
        "    print(\"Cân nặng trước và sau khi giảm cân có sự thay đổi\")"
      ],
      "metadata": {
        "colab": {
          "base_uri": "https://localhost:8080/"
        },
        "id": "6_nHc70j8Nth",
        "outputId": "1a739e31-f1d0-43e9-c16c-5658f345e8b0"
      },
      "execution_count": null,
      "outputs": [
        {
          "output_type": "stream",
          "name": "stdout",
          "text": [
            "starts =  2.720972750635475 p value  0.0072584136689251115\n",
            "Đã có đủ bằng chứng để bác bỏ H0\n",
            "Cân nặng trước và sau khi giảm cân có sự thay đổi\n"
          ]
        }
      ]
    },
    {
      "cell_type": "markdown",
      "source": [
        "**Thống kê các phương pháp giảm cân xem xét sự thay đổi của nó**"
      ],
      "metadata": {
        "id": "cx7KV4PY-qoG"
      }
    },
    {
      "cell_type": "code",
      "source": [
        "df['lostweight'] = df['pre.weight'] - df['weight6weeks']\n",
        "print(df)"
      ],
      "metadata": {
        "colab": {
          "base_uri": "https://localhost:8080/"
        },
        "id": "YQAoF8Jt_wIN",
        "outputId": "b90033ea-7a6f-457d-bdd1-499287e7cc7d"
      },
      "execution_count": null,
      "outputs": [
        {
          "output_type": "stream",
          "name": "stdout",
          "text": [
            "    Person gender  Age  Height  pre.weight  Diet  weight6weeks  lostweight\n",
            "0       25          41     171          60     2          60.0         0.0\n",
            "1       26          32     174         103     2         103.0         0.0\n",
            "2        1      0   22     159          58     1          54.2         3.8\n",
            "3        2      0   46     192          60     1          54.0         6.0\n",
            "4        3      0   55     170          64     1          63.3         0.7\n",
            "..     ...    ...  ...     ...         ...   ...           ...         ...\n",
            "73      74      1   35     183          83     3          80.2         2.8\n",
            "74      75      1   49     177          84     3          79.9         4.1\n",
            "75      76      1   28     164          85     3          79.7         5.3\n",
            "76      77      1   40     167          87     3          77.8         9.2\n",
            "77      78      1   51     175          88     3          81.9         6.1\n",
            "\n",
            "[78 rows x 8 columns]\n"
          ]
        }
      ]
    },
    {
      "cell_type": "markdown",
      "source": [
        "**Phân nhóm giá trị Diet để xem giá trị cân nặng đã giảm theo giá trị từng nhóm**"
      ],
      "metadata": {
        "id": "ZsFV2FJiAo3G"
      }
    },
    {
      "cell_type": "code",
      "source": [
        "Dt = df[['Diet', 'lostweight']]\n",
        "diet = df.groupby('Diet').groups\n",
        "wl_1 = Dt['lostweight'][diet[1]]\n",
        "wl_1.name = 'Diet 1'\n",
        "wl_2 = Dt['lostweight'][diet[2]]\n",
        "wl_2.name = 'Diet 2'\n",
        "wl_3 = Dt['lostweight'][diet[3]]\n",
        "wl_3.name = 'Diet 3'\n",
        "print(wl_1.describe(include=['lostweight']))\n",
        "print(wl_2.describe(include=['lostweight']))\n",
        "print(wl_3.describe(include=['lostweight']))"
      ],
      "metadata": {
        "colab": {
          "base_uri": "https://localhost:8080/"
        },
        "id": "Gw0Mn7b_A0q3",
        "outputId": "6c3968b4-e740-4f98-ac80-ff6c456571d8"
      },
      "execution_count": null,
      "outputs": [
        {
          "output_type": "stream",
          "name": "stdout",
          "text": [
            "count    24.000000\n",
            "mean      3.300000\n",
            "std       2.240148\n",
            "min      -0.600000\n",
            "25%       1.975000\n",
            "50%       3.050000\n",
            "75%       3.950000\n",
            "max       9.000000\n",
            "Name: Diet 1, dtype: float64\n",
            "count    27.000000\n",
            "mean      3.025926\n",
            "std       2.523367\n",
            "min      -2.100000\n",
            "25%       1.700000\n",
            "50%       3.300000\n",
            "75%       4.500000\n",
            "max       7.900000\n",
            "Name: Diet 2, dtype: float64\n",
            "count    27.000000\n",
            "mean      5.148148\n",
            "std       2.395568\n",
            "min       0.500000\n",
            "25%       3.450000\n",
            "50%       5.400000\n",
            "75%       7.000000\n",
            "max       9.200000\n",
            "Name: Diet 3, dtype: float64\n"
          ]
        }
      ]
    },
    {
      "cell_type": "markdown",
      "source": [
        "**Kiểm định ANOVA một chiều**\n",
        "\n",
        " sử dụng Shapiro-Wilk test"
      ],
      "metadata": {
        "id": "3hdXKXGEDOjF"
      }
    },
    {
      "cell_type": "markdown",
      "source": [
        "Phát biểu giả thiết:\n",
        "\n",
        "$H_0: \\text{Diet 1 là dữ liệu tuân theo phân phối chuẩn}$\n",
        "\n",
        "$H_1: \\text{Diet 1 không phải là dữ liệu tuân theo phân phối chuẩn}$"
      ],
      "metadata": {
        "id": "d3XhEgnnGFId"
      }
    },
    {
      "cell_type": "code",
      "source": [
        "start_1, p_value_1 = stats.shapiro(wl_1)\n",
        "print('statistic of Diet 1 = ',start_1)\n",
        "print('pvalue of Diet 1 = ',p_value_1)\n",
        "if (p_value_1 > 0.05):\n",
        "    print(\"Không có bằng chứng để bác bỏ H0: \")\n",
        "    print('Đủ điều kiện để phân tích tiếp')\n",
        "else:\n",
        "    print('Đã có đủ bằng chứng để bác bỏ H0')\n",
        "    print('Diet 1 không phải là dữ liệu tuân theo phân phối chuẩn')"
      ],
      "metadata": {
        "colab": {
          "base_uri": "https://localhost:8080/"
        },
        "id": "wNC0O_7DGYnD",
        "outputId": "a0b45225-0d93-4c3c-a0d9-13155874fad4"
      },
      "execution_count": null,
      "outputs": [
        {
          "output_type": "stream",
          "name": "stdout",
          "text": [
            "statistic of Diet 1 =  0.9255314469337463\n",
            "pvalue of Diet 1 =  0.07748671621084213\n",
            "Không có bằng chứng để bác bỏ H0: \n",
            "Đủ điều kiện để phân tích tiếp\n"
          ]
        }
      ]
    },
    {
      "cell_type": "markdown",
      "source": [
        "Phát biểu giả thiết:\n",
        "\n",
        "$H_0: \\text{Diet 2 là dữ liệu tuân theo phân phối chuẩn}$\n",
        "\n",
        "$H_1: \\text{Diet 2 không phải là dữ liệu tuân theo phân phối chuẩn}$"
      ],
      "metadata": {
        "id": "-dMENvD0Gydm"
      }
    },
    {
      "cell_type": "code",
      "source": [
        "start_2, p_value_2 = stats.shapiro(wl_2)\n",
        "print('statistic of Diet 2 = ',start_2)\n",
        "print('pvalue of Diet 2 = ',p_value_2)\n",
        "if (p_value_2 > 0.05):\n",
        "    print(\"Không có bằng chứng để bác bỏ H0: \")\n",
        "    print('Đủ điều kiện để phân tích tiếp')\n",
        "else:\n",
        "    print('Đã có đủ bằng chứng để bác bỏ H0')\n",
        "    print('Diet 2 không phải là dữ liệu tuân theo phân phối chuẩn')"
      ],
      "metadata": {
        "colab": {
          "base_uri": "https://localhost:8080/"
        },
        "id": "dYdgeaf8G4JY",
        "outputId": "2e9c9b62-6cc7-4bed-d4bf-c1dfbfa7afa6"
      },
      "execution_count": null,
      "outputs": [
        {
          "output_type": "stream",
          "name": "stdout",
          "text": [
            "statistic of Diet 2 =  0.9855913519859314\n",
            "pvalue of Diet 2 =  0.961176335811615\n",
            "Không có bằng chứng để bác bỏ H0: \n",
            "Đủ điều kiện để phân tích tiếp\n"
          ]
        }
      ]
    },
    {
      "cell_type": "markdown",
      "source": [
        "Phát biểu giả thiết:\n",
        "\n",
        "$H_0: \\text{Diet 3 là dữ liệu tuân theo phân phối chuẩn}$\n",
        "\n",
        "$H_1: \\text{Diet 3 không phải là dữ liệu tuân theo phân phối chuẩn}$"
      ],
      "metadata": {
        "id": "-_Qi1QoUG0h5"
      }
    },
    {
      "cell_type": "code",
      "source": [
        "start_3, p_value_3 = stats.shapiro(wl_3)\n",
        "print('statistic of Diet 3 = ',start_3)\n",
        "print('pvalue of Diet 3 = ',p_value_3)\n",
        "if (p_value_3 > 0.05):\n",
        "    print(\"Không có bằng chứng để bác bỏ H0: \")\n",
        "    print('Đủ điều kiện để phân tích tiếp')\n",
        "else:\n",
        "    print('Đã có đủ bằng chứng để bác bỏ H0')\n",
        "    print('Diet 3 không phải là dữ liệu tuân theo phân phối chuẩn')"
      ],
      "metadata": {
        "colab": {
          "base_uri": "https://localhost:8080/"
        },
        "id": "w5YeCpybHD5b",
        "outputId": "92917d7c-d0b9-4c4e-b093-62c03c86783d"
      },
      "execution_count": null,
      "outputs": [
        {
          "output_type": "stream",
          "name": "stdout",
          "text": [
            "statistic of Diet 3 =  0.9601252675056458\n",
            "pvalue of Diet 3 =  0.37203603982925415\n",
            "Không có bằng chứng để bác bỏ H0: \n",
            "Đủ điều kiện để phân tích tiếp\n"
          ]
        }
      ]
    },
    {
      "cell_type": "markdown",
      "source": [
        "**Kiểm tra tính đồng nhất của các phương sai**"
      ],
      "metadata": {
        "id": "WgvsifPIHRtx"
      }
    },
    {
      "cell_type": "markdown",
      "source": [
        "ta sử dụng Barlett test"
      ],
      "metadata": {
        "id": "2YXMebPrHT3q"
      }
    },
    {
      "cell_type": "code",
      "source": [
        "start_13, p_value_13 = stats.bartlett(wl_1, wl_2, wl_3)\n",
        "print('statistic by Bartlett = ',start_13)\n",
        "print('pvalue by Bartlett = ',p_value_13)\n",
        "if (p_value_13 > 0.05):\n",
        "    print('Không có bằng chứng để bác bỏ H0')\n",
        "    print('Có giả thuyết chứng minh mẫu có phương sai giống nhau')\n",
        "    print('Đủ điều kiện đê phân tích ANOVA')\n",
        "else:\n",
        "    print('Đã có đủ bằng chứng để bác bỏ giả thuyết Ho')\n",
        "    print('Có ít nhất 2 feature có phương sai khác nhau')"
      ],
      "metadata": {
        "colab": {
          "base_uri": "https://localhost:8080/"
        },
        "id": "fqbu2BYgHTbZ",
        "outputId": "d046c569-6f2d-4e6e-e316-dc83c84e8115"
      },
      "execution_count": null,
      "outputs": [
        {
          "output_type": "stream",
          "name": "stdout",
          "text": [
            "statistic by Bartlett =  0.337454630479139\n",
            "pvalue by Bartlett =  0.8447392194944549\n",
            "Không có bằng chứng để bác bỏ H0\n",
            "Điều này ngụ ý Các mẫu có phương sai giống nhau\n",
            "Đủ điều kiện đê phân tích ANOVA\n"
          ]
        }
      ]
    },
    {
      "cell_type": "markdown",
      "source": [
        "**Kiểm định ANOVA 1 chiều**"
      ],
      "metadata": {
        "id": "4orGp4J3OSHp"
      }
    },
    {
      "cell_type": "markdown",
      "source": [
        "**Khả năng giảm cân có phụ thuộc vào cách thức giảm cân hay không ?**\n",
        "\n",
        "Phát biểu giả thiết:\n",
        "\n",
        "$H_{0}: \\mu_{1} = \\mu_{2} = \\mu_{3}$\n",
        "\n",
        "$H_{a}: \\text{Có tối thiểu một cặp giá trị trung bình có giá trị khác nhau}$"
      ],
      "metadata": {
        "id": "6jHYP5Z1OeV2"
      }
    },
    {
      "cell_type": "code",
      "source": [
        "start, p_value = f_oneway(wl_1, wl_2, wl_3)\n",
        "alpha = 0.05\n",
        "print('Giá trị kiểm định: ',start)\n",
        "print('p_value: ',p_value)\n",
        "if (p < alpha):\n",
        "    print('Có bằng chứng bác bỏ giả thuyết H0')\n",
        "    print(\"Chứng minh rằng hiệu quả giữa các phương pháp có sự khác biệt\")\n",
        "else:\n",
        "    print(\"Không đủ bằng chứng bác bỏ giả thuyết H0.\")\n",
        "    print(\"Chứng minh rằng hiệu quả giữa các phương pháp không có sự khác biệt\")"
      ],
      "metadata": {
        "colab": {
          "base_uri": "https://localhost:8080/"
        },
        "id": "KIRaFNneOkO_",
        "outputId": "93dba1ee-22a1-4451-aa40-85d5c26ef36c"
      },
      "execution_count": null,
      "outputs": [
        {
          "output_type": "stream",
          "name": "stdout",
          "text": [
            "Giá trị kiểm định:  6.197447453165349\n",
            "p_value:  0.0032290142385893524\n",
            "Có bằng chứng bác bỏ giả thuyết H0\n",
            "Chứng minh rằng hiệu quả giữa các phương pháp có sự khác biệt\n"
          ]
        }
      ]
    }
  ]
}