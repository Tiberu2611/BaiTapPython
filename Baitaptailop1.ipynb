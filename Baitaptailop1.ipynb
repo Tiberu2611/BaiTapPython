{
  "nbformat": 4,
  "nbformat_minor": 0,
  "metadata": {
    "colab": {
      "provenance": [],
      "authorship_tag": "ABX9TyP6Y+5M2L9GI+q8r1xmuuhX",
      "include_colab_link": true
    },
    "kernelspec": {
      "name": "python3",
      "display_name": "Python 3"
    },
    "language_info": {
      "name": "python"
    }
  },
  "cells": [
    {
      "cell_type": "markdown",
      "metadata": {
        "id": "view-in-github",
        "colab_type": "text"
      },
      "source": [
        "<a href=\"https://colab.research.google.com/github/Tiberu2611/BaiTapPython/blob/main/Baitaptailop1.ipynb\" target=\"_parent\"><img src=\"https://colab.research.google.com/assets/colab-badge.svg\" alt=\"Open In Colab\"/></a>"
      ]
    },
    {
      "cell_type": "code",
      "execution_count": 14,
      "metadata": {
        "id": "7J-V-XunIml9"
      },
      "outputs": [],
      "source": [
        "import numpy as np\n",
        "import pandas as pd\n",
        "import scipy.stats as stats\n",
        "import pandas as pd\n",
        "import statistics as sta"
      ]
    },
    {
      "cell_type": "markdown",
      "source": [
        "Cho v là 1 vector hàng"
      ],
      "metadata": {
        "id": "VMOHmtMNLjSp"
      }
    },
    {
      "cell_type": "code",
      "source": [
        "V = np.array([1, 3, 5])\n",
        "print(V)"
      ],
      "metadata": {
        "colab": {
          "base_uri": "https://localhost:8080/"
        },
        "id": "veBR4YpKKpHq",
        "outputId": "5ba8680c-3448-498d-ca1a-05944d582c1a"
      },
      "execution_count": 16,
      "outputs": [
        {
          "output_type": "stream",
          "name": "stdout",
          "text": [
            "[1 3 5]\n"
          ]
        }
      ]
    },
    {
      "cell_type": "markdown",
      "source": [
        "Cho w là 1 vector cột"
      ],
      "metadata": {
        "id": "ndvrIuO6Lp_J"
      }
    },
    {
      "cell_type": "code",
      "source": [
        "W = np.array([[4], [6], [8]])\n",
        "print(W)"
      ],
      "metadata": {
        "colab": {
          "base_uri": "https://localhost:8080/"
        },
        "id": "ruRVsuanLi_p",
        "outputId": "e9152eb8-1ce3-4b4b-c4fb-b50087622c5a"
      },
      "execution_count": 15,
      "outputs": [
        {
          "output_type": "stream",
          "name": "stdout",
          "text": [
            "[[4]\n",
            " [6]\n",
            " [8]]\n"
          ]
        }
      ]
    },
    {
      "cell_type": "markdown",
      "source": [
        "Hãy xác định số chiều (ndim), kích thước\n",
        "(shape) của 2 vector v và w; In 2 vector v và\n",
        "w ra màn hình"
      ],
      "metadata": {
        "id": "gRPxkbt9L98Z"
      }
    },
    {
      "cell_type": "code",
      "source": [
        "print(V)\n",
        "print(\"số chiều của V:\", V.ndim)\n",
        "print(\"kích thước của V:\", V.shape)\n",
        "print(W)\n",
        "print(\"số chiều của W:\", W.ndim)\n",
        "print(\"kích thước của W:\", W.shape)\n"
      ],
      "metadata": {
        "colab": {
          "base_uri": "https://localhost:8080/"
        },
        "id": "Von21IfkMBCY",
        "outputId": "000f24c7-185a-4d2b-bfa3-bc9017eddbbd"
      },
      "execution_count": 23,
      "outputs": [
        {
          "output_type": "stream",
          "name": "stdout",
          "text": [
            "[1 3 5]\n",
            "số chiều của V: 1\n",
            "kích thước của V: (3,)\n",
            "[[4]\n",
            " [6]\n",
            " [8]]\n",
            "số chiều của W: 2\n",
            "kích thước của W: (3, 1)\n"
          ]
        }
      ]
    },
    {
      "cell_type": "markdown",
      "source": [
        "Cho u và w là 2 vector cột có kích\n",
        "thước (m, 1). Hãy tạo ma trận X bằng\n",
        "cách ghép 2 vector cột u và w lại với\n",
        "nhau"
      ],
      "metadata": {
        "id": "6A6Ro_lCQr1A"
      }
    },
    {
      "cell_type": "code",
      "source": [
        "U = np.array([[3], [6], [9]])\n",
        "np.column_stack((U, W))"
      ],
      "metadata": {
        "colab": {
          "base_uri": "https://localhost:8080/"
        },
        "id": "GUH69WqvQrbh",
        "outputId": "b386b902-c39d-4a52-ac72-871358c46ce7"
      },
      "execution_count": 26,
      "outputs": [
        {
          "output_type": "execute_result",
          "data": {
            "text/plain": [
              "array([[3, 4],\n",
              "       [6, 6],\n",
              "       [9, 8]])"
            ]
          },
          "metadata": {},
          "execution_count": 26
        }
      ]
    },
    {
      "cell_type": "markdown",
      "source": [
        "Hãy tạo ma trận X có giá trị như sau"
      ],
      "metadata": {
        "id": "1lHFOX5yRmrR"
      }
    },
    {
      "cell_type": "markdown",
      "source": [
        "-Hãy tạo ma trận X bằng np.array()"
      ],
      "metadata": {
        "id": "YIxw7WTORnKq"
      }
    },
    {
      "cell_type": "code",
      "source": [
        "X = np.array([1, 2, 3, 4, 7, 9])\n",
        "print(X)"
      ],
      "metadata": {
        "colab": {
          "base_uri": "https://localhost:8080/"
        },
        "id": "Cc9Q4XujRqaI",
        "outputId": "f755f0bc-7e33-4f7d-c62d-c55c6de91208"
      },
      "execution_count": 35,
      "outputs": [
        {
          "output_type": "stream",
          "name": "stdout",
          "text": [
            "[1 2 3 4 7 9]\n"
          ]
        }
      ]
    },
    {
      "cell_type": "markdown",
      "source": [
        "-Hãy tạo ma trận X bằng hàm np.reshape()"
      ],
      "metadata": {
        "id": "GVYIsU97R8iK"
      }
    },
    {
      "cell_type": "code",
      "source": [
        "X = np.reshape(X, (2, 3))\n",
        "print(X)"
      ],
      "metadata": {
        "colab": {
          "base_uri": "https://localhost:8080/"
        },
        "id": "pPXAA02AR9Fz",
        "outputId": "f21635b6-a39b-4d6d-d087-a3fb8b48593b"
      },
      "execution_count": 38,
      "outputs": [
        {
          "output_type": "stream",
          "name": "stdout",
          "text": [
            "[[1 2 3]\n",
            " [4 7 9]]\n"
          ]
        }
      ]
    },
    {
      "cell_type": "code",
      "source": [
        "print(\"số chiều của X:\", X.ndim)\n",
        "print(\"kích thước của X:\", X.shape)\n",
        "print(X)"
      ],
      "metadata": {
        "colab": {
          "base_uri": "https://localhost:8080/"
        },
        "id": "-MQyXdU1Szgt",
        "outputId": "2147f7df-57fe-47b8-d454-d29128a56053"
      },
      "execution_count": 40,
      "outputs": [
        {
          "output_type": "stream",
          "name": "stdout",
          "text": [
            "số chiều của X: 2\n",
            "kích thước của X: (2, 3)\n",
            "[[1 2 3]\n",
            " [4 7 9]]\n"
          ]
        }
      ]
    },
    {
      "cell_type": "markdown",
      "source": [
        "Hãy nhân ma trận X với vector v"
      ],
      "metadata": {
        "id": "sVxcufxpTDtJ"
      }
    },
    {
      "cell_type": "code",
      "source": [
        "print(\"giá trị nhân ma trận X với vector V\",np.dot(X, V))"
      ],
      "metadata": {
        "colab": {
          "base_uri": "https://localhost:8080/"
        },
        "id": "Kgv_b6WUTFV5",
        "outputId": "c939abce-38e5-4108-cbdd-05d4d79b8b5e"
      },
      "execution_count": 41,
      "outputs": [
        {
          "output_type": "stream",
          "name": "stdout",
          "text": [
            "giá trị nhân ma trận X với vector V [22 70]\n"
          ]
        }
      ]
    },
    {
      "cell_type": "markdown",
      "source": [
        "Hãy nhân ma trận X với vector w"
      ],
      "metadata": {
        "id": "8VHfs5igTyvO"
      }
    },
    {
      "cell_type": "code",
      "source": [
        "print(\"giá trị nhân ma trận X với vector W\",np.dot(X, W))"
      ],
      "metadata": {
        "colab": {
          "base_uri": "https://localhost:8080/"
        },
        "id": "IoWlrYkRTzZi",
        "outputId": "2999a82b-e060-45c9-bb5e-aaf18a0fff07"
      },
      "execution_count": 42,
      "outputs": [
        {
          "output_type": "stream",
          "name": "stdout",
          "text": [
            "giá trị nhân ma trận X với vector W [[ 40]\n",
            " [130]]\n"
          ]
        }
      ]
    },
    {
      "cell_type": "markdown",
      "source": [
        "Xét ma trận X ở câu 5, hãy tìm ma trận\n",
        "chuyển vị của X, ký hiệu là"
      ],
      "metadata": {
        "id": "_a_RfSS8URzD"
      }
    },
    {
      "cell_type": "code",
      "source": [
        "print(X.T)"
      ],
      "metadata": {
        "colab": {
          "base_uri": "https://localhost:8080/"
        },
        "id": "vtf6AGdxURZ6",
        "outputId": "64b92c01-1782-47a7-9e0b-5ce7e595aab4"
      },
      "execution_count": 43,
      "outputs": [
        {
          "output_type": "stream",
          "name": "stdout",
          "text": [
            "[[1 4]\n",
            " [2 7]\n",
            " [3 9]]\n"
          ]
        }
      ]
    }
  ]
}