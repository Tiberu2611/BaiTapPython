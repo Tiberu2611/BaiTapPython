{
  "nbformat": 4,
  "nbformat_minor": 0,
  "metadata": {
    "colab": {
      "name": "BaiTapElseIf.ipynb",
      "provenance": [],
      "authorship_tag": "ABX9TyNB2DhabH4MI/wwoOklYxQM",
      "include_colab_link": true
    },
    "kernelspec": {
      "name": "python3",
      "display_name": "Python 3"
    },
    "language_info": {
      "name": "python"
    }
  },
  "cells": [
    {
      "cell_type": "markdown",
      "metadata": {
        "id": "view-in-github",
        "colab_type": "text"
      },
      "source": [
        "<a href=\"https://colab.research.google.com/github/Tiberu2611/github-and-colab/blob/main/BaiTapElseIf.ipynb\" target=\"_parent\"><img src=\"https://colab.research.google.com/assets/colab-badge.svg\" alt=\"Open In Colab\"/></a>"
      ]
    },
    {
      "cell_type": "code",
      "metadata": {
        "id": "zTVNbntX1j5M"
      },
      "source": [
        "dtb = int(input(\"Nhập điểm trung bình: \"))\n",
        "if dtb >= 9:\n",
        "    print(\"Đây là học sinh xuất sắc\")\n",
        "elif dtb >= 8:\n",
        "    print(\"Đây là học sinh giỏi\")\n",
        "elif dtb >= 7:\n",
        "    print(\"Đây là học sinh khá\")\n",
        "elif dtb >= 5:\n",
        "    print(\"Đây là học sinh trung bình\")\n",
        "else:\n",
        "    print(\"Đây là học sinh yếu\")"
      ],
      "execution_count": null,
      "outputs": []
    }
  ]
}